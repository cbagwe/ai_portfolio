{
 "cells": [
  {
   "cell_type": "code",
   "execution_count": 2,
   "id": "d73fa3d0",
   "metadata": {},
   "outputs": [],
   "source": [
    "import pandas as pd\n",
    "import pickle\n",
    "from selenium import webdriver\n",
    "from data_processing import get_cleaned_webdata\n",
    "from data_extraction import extraction_on_cleaned_webdata\n",
    "from similarity_matching import find_clusters"
   ]
  },
  {
   "cell_type": "code",
   "execution_count": 17,
   "id": "a8d39bc8",
   "metadata": {},
   "outputs": [],
   "source": [
    "landscape_df = pd.DataFrame(columns=['Company', 'Link'])\n",
    "\n",
    "company_name = []\n",
    "company_link = []"
   ]
  },
  {
   "cell_type": "code",
   "execution_count": 18,
   "id": "502bbae0",
   "metadata": {},
   "outputs": [],
   "source": [
    "browser = webdriver.Chrome()\n",
    "browser.implicitly_wait(10)\n",
    "\n",
    "browser.get(\"https://www.ai-startups.de/\")\n",
    "browser.find_element_by_xpath('//*[@id=\"uc-btn-accept-banner\"]').click()\n",
    "\n",
    "elements = browser.find_elements_by_class_name(\"startupWebsite\")\n",
    "browser.execute_script(\"window.scrollBy(0, 1350)\", \"\");\n",
    "\n",
    "for element in elements:\n",
    "    company_name.append(element.text)\n",
    "    company_link.append(element.get_attribute(\"href\"))\n",
    "\n",
    "browser.quit()"
   ]
  },
  {
   "cell_type": "code",
   "execution_count": 19,
   "id": "f59a62c3",
   "metadata": {},
   "outputs": [
    {
     "data": {
      "text/plain": [
       "selenium.webdriver.remote.webelement.WebElement"
      ]
     },
     "execution_count": 19,
     "metadata": {},
     "output_type": "execute_result"
    }
   ],
   "source": [
    "type(element)"
   ]
  },
  {
   "cell_type": "code",
   "execution_count": 20,
   "id": "4bbe0319",
   "metadata": {},
   "outputs": [],
   "source": [
    "landscape_df[\"Company\"] = company_name\n",
    "landscape_df[\"Link\"] = company_link"
   ]
  },
  {
   "cell_type": "code",
   "execution_count": null,
   "id": "477e0f47",
   "metadata": {},
   "outputs": [],
   "source": [
    "landscape_df[\"WebData\"] = get_cleaned_webdata(landscape_df)"
   ]
  },
  {
   "cell_type": "code",
   "execution_count": 21,
   "id": "e58ee2ce",
   "metadata": {},
   "outputs": [
    {
     "data": {
      "text/html": [
       "<div>\n",
       "<style scoped>\n",
       "    .dataframe tbody tr th:only-of-type {\n",
       "        vertical-align: middle;\n",
       "    }\n",
       "\n",
       "    .dataframe tbody tr th {\n",
       "        vertical-align: top;\n",
       "    }\n",
       "\n",
       "    .dataframe thead th {\n",
       "        text-align: right;\n",
       "    }\n",
       "</style>\n",
       "<table border=\"1\" class=\"dataframe\">\n",
       "  <thead>\n",
       "    <tr style=\"text-align: right;\">\n",
       "      <th></th>\n",
       "      <th>Company</th>\n",
       "      <th>Link</th>\n",
       "    </tr>\n",
       "  </thead>\n",
       "  <tbody>\n",
       "    <tr>\n",
       "      <th>0</th>\n",
       "      <td>Askby</td>\n",
       "      <td>http://askby.ai/</td>\n",
       "    </tr>\n",
       "    <tr>\n",
       "      <th>1</th>\n",
       "      <td>Back</td>\n",
       "      <td>https://backhq.com/</td>\n",
       "    </tr>\n",
       "    <tr>\n",
       "      <th>2</th>\n",
       "      <td>Charles</td>\n",
       "      <td>https://hey-charles.com/</td>\n",
       "    </tr>\n",
       "    <tr>\n",
       "      <th>3</th>\n",
       "      <td>Curiosity</td>\n",
       "      <td>http://curiosity.ai/</td>\n",
       "    </tr>\n",
       "    <tr>\n",
       "      <th>4</th>\n",
       "      <td>Deepset</td>\n",
       "      <td>http://deepset.ai/</td>\n",
       "    </tr>\n",
       "    <tr>\n",
       "      <th>...</th>\n",
       "      <td>...</td>\n",
       "      <td>...</td>\n",
       "    </tr>\n",
       "    <tr>\n",
       "      <th>95</th>\n",
       "      <td>Explosion</td>\n",
       "      <td>http://explosion.ai/</td>\n",
       "    </tr>\n",
       "    <tr>\n",
       "      <th>96</th>\n",
       "      <td>AIME</td>\n",
       "      <td>https://aime.info/</td>\n",
       "    </tr>\n",
       "    <tr>\n",
       "      <th>97</th>\n",
       "      <td>Blickfeld</td>\n",
       "      <td>http://blickfeld.com/</td>\n",
       "    </tr>\n",
       "    <tr>\n",
       "      <th>98</th>\n",
       "      <td>Evocortex</td>\n",
       "      <td>https://evocortex.org/</td>\n",
       "    </tr>\n",
       "    <tr>\n",
       "      <th>99</th>\n",
       "      <td>Brainalyzed</td>\n",
       "      <td>https://www.brainalyzed.com/</td>\n",
       "    </tr>\n",
       "  </tbody>\n",
       "</table>\n",
       "<p>100 rows × 2 columns</p>\n",
       "</div>"
      ],
      "text/plain": [
       "        Company                          Link\n",
       "0         Askby              http://askby.ai/\n",
       "1          Back           https://backhq.com/\n",
       "2       Charles      https://hey-charles.com/\n",
       "3     Curiosity          http://curiosity.ai/\n",
       "4       Deepset            http://deepset.ai/\n",
       "..          ...                           ...\n",
       "95    Explosion          http://explosion.ai/\n",
       "96         AIME            https://aime.info/\n",
       "97    Blickfeld         http://blickfeld.com/\n",
       "98    Evocortex        https://evocortex.org/\n",
       "99  Brainalyzed  https://www.brainalyzed.com/\n",
       "\n",
       "[100 rows x 2 columns]"
      ]
     },
     "execution_count": 21,
     "metadata": {},
     "output_type": "execute_result"
    }
   ],
   "source": [
    "landscape_df"
   ]
  },
  {
   "cell_type": "code",
   "execution_count": null,
   "id": "8ce51a2c",
   "metadata": {},
   "outputs": [],
   "source": [
    "extraction_on_cleaned_webdata(landscape_df, \"keywords\")"
   ]
  },
  {
   "cell_type": "code",
   "execution_count": null,
   "id": "07f38395",
   "metadata": {},
   "outputs": [],
   "source": [
    "landscape_df"
   ]
  },
  {
   "cell_type": "code",
   "execution_count": null,
   "id": "cb03df1f",
   "metadata": {},
   "outputs": [],
   "source": [
    "pickled_model = pickle.load(open('finalized_model.sav', 'rb'))\n",
    "pickled_vectorizer = pickle.load(open('vectorizer.sav', 'rb'))"
   ]
  },
  {
   "cell_type": "code",
   "execution_count": null,
   "id": "ed43648d",
   "metadata": {},
   "outputs": [],
   "source": [
    "test_input = pickled_vectorizer.transform(landscape_df[\"Keywords\"]).toarray().tolist()\n",
    "prediction = pickled_model.predict(test_input)\n",
    "print(prediction)"
   ]
  },
  {
   "cell_type": "code",
   "execution_count": null,
   "id": "53075274",
   "metadata": {},
   "outputs": [],
   "source": [
    "landscape_df[\"Prediction\"] = prediction"
   ]
  },
  {
   "cell_type": "code",
   "execution_count": null,
   "id": "f1f96251",
   "metadata": {},
   "outputs": [],
   "source": [
    "landscape_df"
   ]
  },
  {
   "cell_type": "code",
   "execution_count": null,
   "id": "61949b96",
   "metadata": {},
   "outputs": [],
   "source": [
    "landscape_prodEngg_df = landscape_df[landscape_df.Prediction == 1.0]"
   ]
  },
  {
   "cell_type": "code",
   "execution_count": null,
   "id": "6d748603",
   "metadata": {},
   "outputs": [],
   "source": [
    "main_cluster_labels, sub_cluster_labels = find_clusters(landscape_prodEngg_df)"
   ]
  },
  {
   "cell_type": "code",
   "execution_count": null,
   "id": "729af1e1",
   "metadata": {},
   "outputs": [],
   "source": [
    "landscape_prodEngg_df[\"Main_Cluster\"] = main_cluster_labels\n",
    "landscape_prodEngg_df[\"Sub_Cluster\"] = sub_cluster_labels"
   ]
  },
  {
   "cell_type": "code",
   "execution_count": null,
   "id": "55d4c68a",
   "metadata": {},
   "outputs": [],
   "source": [
    "landscape_prodEngg_df"
   ]
  },
  {
   "cell_type": "code",
   "execution_count": null,
   "id": "8270aaa2",
   "metadata": {},
   "outputs": [],
   "source": []
  },
  {
   "cell_type": "code",
   "execution_count": null,
   "id": "85f350b3",
   "metadata": {},
   "outputs": [],
   "source": []
  }
 ],
 "metadata": {
  "kernelspec": {
   "display_name": "Python 3 (ipykernel)",
   "language": "python",
   "name": "python3"
  },
  "language_info": {
   "codemirror_mode": {
    "name": "ipython",
    "version": 3
   },
   "file_extension": ".py",
   "mimetype": "text/x-python",
   "name": "python",
   "nbconvert_exporter": "python",
   "pygments_lexer": "ipython3",
   "version": "3.8.9"
  }
 },
 "nbformat": 4,
 "nbformat_minor": 5
}
