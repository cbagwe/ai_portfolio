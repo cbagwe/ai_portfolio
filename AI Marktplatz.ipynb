{
 "cells": [
  {
   "cell_type": "markdown",
   "id": "a2d14963",
   "metadata": {},
   "source": [
    "# Automatic identification and structuring of AI companies for product creation\n",
    "\n",
    "### Author: Chaitali Suhas Bagwe (cbagwe@mail.uni-paderborn.de)"
   ]
  },
  {
   "cell_type": "markdown",
   "id": "c98cecd7",
   "metadata": {},
   "source": [
    "***\n",
    "#### Install Necessary Libraries\n",
    "\n",
    "Remove the comment char '#' for installing the libraries"
   ]
  },
  {
   "cell_type": "code",
   "execution_count": 41,
   "id": "fa37aacf",
   "metadata": {},
   "outputs": [],
   "source": [
    "#!pip install requests\n",
    "#!pip install beautifulsoup4\n",
    "#!pip install psycopg2-binary\n",
    "#!pip install mysql-connector\n",
    "#!pip install mlflow\n",
    "#!pip install mlflow[pipelines]\n",
    "#!pip install mlflow[extras]\n",
    "#!pip install mlflow-skinny\n",
    "#!pip install wordcloud\n",
    "#!pip install pyLDAvis\n",
    "#!pip install translators\n",
    "#!pip install gensim==3.4.0\n",
    "#!pip install smart_open==1.9.0"
   ]
  },
  {
   "cell_type": "code",
   "execution_count": 42,
   "id": "7665b708",
   "metadata": {},
   "outputs": [],
   "source": [
    "# # Install MLflow\n",
    "# !pip install mlflow\n",
    "\n",
    "# # Install MLflow with the experimental MLflow Pipelines component\n",
    "# !pip install mlflow[pipelines]  # for pip\n",
    "# !conda install -c conda-forge mlflow-pipelines  # for conda\n",
    "\n",
    "# # Install MLflow with extra ML libraries and 3rd-party tools\n",
    "# !pip install mlflow[extras]\n",
    "\n",
    "# # Install a lightweight version of MLflow\n",
    "# !pip install mlflow-skinny"
   ]
  },
  {
   "cell_type": "markdown",
   "id": "f7f4fda6",
   "metadata": {},
   "source": [
    "***\n",
    "#### Import Libraries"
   ]
  },
  {
   "cell_type": "code",
   "execution_count": 128,
   "id": "04adb2dc",
   "metadata": {},
   "outputs": [],
   "source": [
    "from bs4 import BeautifulSoup\n",
    "from deep_translator import GoogleTranslator\n",
    "from mlflow import log_metric, log_param, log_artifacts, start_run\n",
    "from nltk.corpus import stopwords\n",
    "from nltk.stem import PorterStemmer\n",
    "from nltk.stem import WordNetLemmatizer\n",
    "from nltk.tokenize import word_tokenize\n",
    "from sklearn.ensemble import GradientBoostingClassifier, HistGradientBoostingClassifier, AdaBoostClassifier\n",
    "from sklearn.feature_extraction.text import TfidfVectorizer, CountVectorizer\n",
    "from sklearn.naive_bayes import GaussianNB\n",
    "from sklearn import svm,metrics\n",
    "from urllib.request import Request, urlopen\n",
    "from wordcloud import WordCloud\n",
    "\n",
    "\n",
    "import gensim\n",
    "import gensim.corpora as corpora\n",
    "import matplotlib.pyplot as plt\n",
    "import mysql.connector\n",
    "import numpy as np\n",
    "import pandas as pd\n",
    "import pickle\n",
    "import psycopg2\n",
    "import pyLDAvis\n",
    "import pyLDAvis.gensim_models\n",
    "import random\n",
    "import re\n",
    "import requests\n",
    "import scrapy\n",
    "import translators as ts\n",
    "import yake\n",
    "\n",
    "%matplotlib inline"
   ]
  },
  {
   "cell_type": "markdown",
   "id": "25903492",
   "metadata": {},
   "source": [
    "***\n",
    "#### Read the data from the Excel File\n",
    "In this block we read the data from excel file to the pandas dataframe and change the column name of \"Relevance of service/app and fit to the portfolio\" to \"Relevance\" for better readability/extraction. Since we are only interested in product engineering companies we will mark the \"1 - product engineering\" as \"1\" and others as \"0\". This makes the classification problem into binary classification."
   ]
  },
  {
   "cell_type": "code",
   "execution_count": 77,
   "id": "a3ce50dc",
   "metadata": {
    "scrolled": false
   },
   "outputs": [
    {
     "name": "stderr",
     "output_type": "stream",
     "text": [
      "c:\\users\\chaitali bagwe\\appdata\\local\\programs\\python\\python38\\lib\\site-packages\\openpyxl\\worksheet\\_reader.py:312: UserWarning: Data Validation extension is not supported and will be removed\n",
      "  warn(msg)\n"
     ]
    }
   ],
   "source": [
    "#Read the input Excel file\n",
    "dataset = pd.read_excel('NewCompaniesList.xlsx', sheet_name='New_Companies')\n",
    "\n",
    "#Change column names\n",
    "dataset.rename(columns = {'Relevance of service/app and fit to the portfolio':'Relevance'}, inplace = True)\n",
    "dataset.rename(columns = {'Product/Service-Title':'Title'}, inplace = True)\n",
    "dataset.rename(columns = {'Product engineering (cycles)':'Cycles'}, inplace = True)\n",
    "\n",
    "\n",
    "dataset = dataset[dataset.Relevance != \"3- AI general\"]\n",
    "\n",
    "#Change Relevance values\n",
    "dataset.Relevance.replace('1 - product engineering',1, inplace = True)\n",
    "dataset.Relevance.replace('2 - production',0, inplace = True)\n",
    "# dataset.Relevance.replace('3- AI general',0, inplace = True)\n",
    "dataset.Relevance.replace('4 - cross sectional processes',0, inplace = True)\n",
    "dataset.Relevance.replace('5 - not relevant',0, inplace = True)"
   ]
  },
  {
   "cell_type": "markdown",
   "id": "fddaa311",
   "metadata": {},
   "source": [
    "***\n",
    "### Text Preprocessing\n",
    "\n",
    "#### 1) Setting up stop-words and stemmer\n",
    "Stop Words : Removing commonly used english stop words like *and*, *the*, *a*, *an*, etc. We have also removed the words that are not useful for us in the context of websites. These include the words from header and footer of the websites, dropdown menu words of the websites, terms and conditions, etc.\n",
    "\n",
    "Stemmer : Reducing the word to its word stem; *extraction* -> *extract*"
   ]
  },
  {
   "cell_type": "code",
   "execution_count": 45,
   "id": "bf1e9e49",
   "metadata": {},
   "outputs": [],
   "source": [
    "stemmer = PorterStemmer()\n",
    "lemmatizer = WordNetLemmatizer()\n",
    "\n",
    "stop_words = stopwords.words(\"english\")\n",
    "# Add custom stop words (frequently occuring but add no value)\n",
    "stop_words += ['about', 'us', 'contact', 'how','login', 'hello','email','home','blog','terms','conditions',\n",
    "               'jobs','openings','careers','privacy','policy','legal','imprint','demo','support','team',\n",
    "              'conditions']"
   ]
  },
  {
   "cell_type": "markdown",
   "id": "4967916f",
   "metadata": {},
   "source": [
    "***\n",
    "#### 2) Clean Text Function\n",
    "\n",
    "This function cleans the text received by the variable \"text\". Cleaning includes removal of stopwords, white spaces, html tags, numbers, special characters and punctuations. This function also tokenizes the text sent to it and performs stemming on each word."
   ]
  },
  {
   "cell_type": "code",
   "execution_count": 46,
   "id": "ea24ebdf",
   "metadata": {},
   "outputs": [],
   "source": [
    "def clean_text(text):\n",
    "    \n",
    "    # remove white spaces, html tags, numbers, special characters, punctuations\n",
    "    RE_WSPACE = re.compile(r\"\\s+\", re.IGNORECASE)\n",
    "    RE_TAGS = re.compile(r\"<[^>]+>\")\n",
    "    RE_ASCII = re.compile(r\"[^A-Za-zÀ-ž ]\", re.IGNORECASE)\n",
    "    RE_SINGLECHAR = re.compile(r\"\\b[A-Za-zÀ-ž]\\b\", re.IGNORECASE)\n",
    "\n",
    "    text = re.sub(RE_TAGS, \" \", text)\n",
    "    text = re.sub(RE_ASCII, \" \", text)\n",
    "    text = re.sub(RE_SINGLECHAR, \" \", text)\n",
    "    text = re.sub(RE_WSPACE, \" \", text)\n",
    "\n",
    "    word_tokens = word_tokenize(text)\n",
    "    words_tokens_lower = [word.lower() for word in word_tokens]\n",
    "\n",
    "    # perform stemming on each word\n",
    "    words_filtered = [\n",
    "        #stemmer.stem(word) \n",
    "        #lemmatizer.lemmatize(word)\n",
    "        word for word in words_tokens_lower if word not in stop_words\n",
    "    ]\n",
    "\n",
    "    text_clean = \" \".join(words_filtered)\n",
    "    return text_clean"
   ]
  },
  {
   "cell_type": "markdown",
   "id": "ae4dcc32",
   "metadata": {},
   "source": [
    "***\n",
    "#### 3) Initialize the keyword extractor from Yake library"
   ]
  },
  {
   "cell_type": "code",
   "execution_count": 78,
   "id": "14727ea4",
   "metadata": {},
   "outputs": [],
   "source": [
    "max_ngram_size = 1\n",
    "deduplication_threshold = 0.9\n",
    "num_of_keywords = 130\n",
    "window_size = 1\n",
    "\n",
    "kw_extractor = yake.KeywordExtractor(n=max_ngram_size, dedupLim=deduplication_threshold, top=num_of_keywords, windowsSize=window_size)"
   ]
  },
  {
   "cell_type": "markdown",
   "id": "a95b65c8",
   "metadata": {},
   "source": [
    "***\n",
    "### Miscellaneous Functions\n",
    "\n",
    "#### 1) Read Content from URL of the company\n",
    "\n",
    "BeautifulSoup library is used for the extraction of content from the given URL. Additionally, the footer attributes and the website's cookies attributes are removed in this function."
   ]
  },
  {
   "cell_type": "code",
   "execution_count": 48,
   "id": "b3ab2981",
   "metadata": {},
   "outputs": [],
   "source": [
    "def read_url_content(page):\n",
    "    # read the content\n",
    "    soup = BeautifulSoup(page.content, \"html.parser\")\n",
    "    \n",
    "    # remove the website cookies content\n",
    "    for div in soup.find_all('div', attrs={'data-nosnippet' : 'true'}):\n",
    "        div.decompose()\n",
    "        \n",
    "    # remove footer\n",
    "    for footer in soup.find_all('footer'):\n",
    "        footer.decompose()\n",
    "        \n",
    "    # translate the content to English  \n",
    "    translator = GoogleTranslator(source='auto', target='en')\n",
    "    translated_text = translator.translate(soup.text[:4999])\n",
    "        \n",
    "    # return the cleaned content\n",
    "    return clean_text(translated_text)"
   ]
  },
  {
   "cell_type": "markdown",
   "id": "4fcee12d",
   "metadata": {},
   "source": [
    "***\n",
    "#### 2) Parse the required contents from the dataframe.\n",
    "This function reads the data from the dataframe and passes the URL of each company to the read_url_content() function. A try and catch block is added for checking if the URL is accessible or not."
   ]
  },
  {
   "cell_type": "code",
   "execution_count": 49,
   "id": "2088a560",
   "metadata": {},
   "outputs": [],
   "source": [
    "def get_cleaned_webdata(dataframe):\n",
    "    # create an empty list of page data\n",
    "    page_data = []\n",
    "    \n",
    "    for index, row in dataframe.iterrows():\n",
    "        URL = row[\"Link\"]\n",
    "        try:\n",
    "            # access the URL\n",
    "            headers = {'User-Agent': 'Mozilla/5.0 (Windows NT 6.1) AppleWebKit/537.36 (KHTML, like Gecko) Chrome/41.0.2228.0 Safari/537.36',}\n",
    "            page = requests.get(URL, headers = headers)\n",
    "            # append the URL content to the list\n",
    "            page_data.append(read_url_content(page))\n",
    "        except(ConnectionError, Exception):\n",
    "            # for websites not accessible append empty string to the list\n",
    "            page_data.append(\"\")\n",
    "    return page_data"
   ]
  },
  {
   "cell_type": "markdown",
   "id": "bfefe9c3",
   "metadata": {},
   "source": [
    "***\n",
    "#### 3) Metrics Function\n",
    "Calculates the metrics for the given actual and predicted datasets."
   ]
  },
  {
   "cell_type": "code",
   "execution_count": 50,
   "id": "bb270557",
   "metadata": {},
   "outputs": [],
   "source": [
    "def print_statistics(actual, predicted):\n",
    "    avg = 'weighted'\n",
    "    print(\"Accuracy:\",metrics.accuracy_score(actual, predicted))\n",
    "    print(\"Precision:\",metrics.precision_score(actual, predicted, average=avg))\n",
    "    print(\"Recall:\",metrics.recall_score(actual, predicted, average=avg))\n",
    "    print(\"F1 score:\",metrics.f1_score(actual, predicted, average=avg))"
   ]
  },
  {
   "cell_type": "markdown",
   "id": "a026589a",
   "metadata": {},
   "source": [
    "***\n",
    "#### 4) Extract Keywords Function"
   ]
  },
  {
   "cell_type": "code",
   "execution_count": 51,
   "id": "05a3ce91",
   "metadata": {},
   "outputs": [],
   "source": [
    "def extract_keywords(string):\n",
    "    keywords = kw_extractor.extract_keywords(string)\n",
    "    keywords = [x for (x,_) in keywords]\n",
    "    return \" \".join(keywords)"
   ]
  },
  {
   "cell_type": "markdown",
   "id": "12b37d9b",
   "metadata": {},
   "source": [
    "***\n",
    "#### 5) Extract Topics from websites"
   ]
  },
  {
   "cell_type": "code",
   "execution_count": 52,
   "id": "e4f75c3d",
   "metadata": {},
   "outputs": [],
   "source": [
    "def extract_topics(long_string):\n",
    "    num_topics = 300\n",
    "    # Create Dictionary\n",
    "    id2word = corpora.Dictionary([long_string.split()])\n",
    "    # Create Corpus\n",
    "    texts = [long_string.split()]\n",
    "    # Term Document Frequency\n",
    "    corpus = [id2word.doc2bow(text) for text in texts]\n",
    "    try:\n",
    "        lda_model = gensim.models.LdaMulticore(corpus=corpus,\n",
    "                                       id2word=id2word,\n",
    "                                       num_topics=num_topics)\n",
    "        x=lda_model.show_topics(num_topics=1, num_words=300,formatted=False)\n",
    "        topics_words = [(tp[0], [wd[0] for wd in tp[1]]) for tp in x]\n",
    "\n",
    "        #Below Code returns Only Words \n",
    "        for topic,words in topics_words:\n",
    "            return \" \".join(words)\n",
    "    except Exception as e:\n",
    "        print(e)\n",
    "        return \"\""
   ]
  },
  {
   "cell_type": "markdown",
   "id": "b09b9559",
   "metadata": {},
   "source": [
    "***\n",
    "#### Create Wordcloud"
   ]
  },
  {
   "cell_type": "code",
   "execution_count": 53,
   "id": "3276ed2e",
   "metadata": {},
   "outputs": [],
   "source": [
    "def create_wordcloud(long_string):\n",
    "    # Create a WordCloud object\n",
    "    wordcloud = WordCloud(background_color=\"white\", max_words=5000, contour_width=3, contour_color='steelblue')\n",
    "    # Generate a word cloud\n",
    "    wordcloud.generate(long_string)\n",
    "    # Visualize the word cloud\n",
    "    return wordcloud.to_image()"
   ]
  },
  {
   "cell_type": "markdown",
   "id": "19dbd28d",
   "metadata": {},
   "source": [
    "***\n",
    "#### Get clean data for all the websites"
   ]
  },
  {
   "cell_type": "code",
   "execution_count": 79,
   "id": "540142f7",
   "metadata": {},
   "outputs": [
    {
     "data": {
      "text/plain": [
       "0      solution zero vision next generation visual qu...\n",
       "1      machine monitoring signals products products m...\n",
       "2      machine monitoring signals products products m...\n",
       "3      page found signals products products machine m...\n",
       "4      hemistereo nx world powerful ai enabled stereo...\n",
       "                             ...                        \n",
       "469                                                     \n",
       "470                                                     \n",
       "471                                                     \n",
       "472                                                     \n",
       "473                                                     \n",
       "Name: WebData, Length: 374, dtype: object"
      ]
     },
     "execution_count": 79,
     "metadata": {},
     "output_type": "execute_result"
    }
   ],
   "source": [
    "dataset[\"WebData\"] = get_cleaned_webdata(dataset)\n",
    "dataset[\"WebData\"]"
   ]
  },
  {
   "cell_type": "markdown",
   "id": "7b0f5e75",
   "metadata": {},
   "source": [
    "***\n",
    "#### Database Connection"
   ]
  },
  {
   "cell_type": "code",
   "execution_count": null,
   "id": "92d21475",
   "metadata": {},
   "outputs": [],
   "source": [
    "#establishing the connection\n",
    "conn = psycopg2.connect(\n",
    "   database=\"postgres\", user='postgres', password='Chaitali@28', host='127.0.0.1', port= '5432'\n",
    ")\n",
    "\n",
    "conn.autocommit = True\n",
    "\n",
    "#Creating a cursor object using the cursor() method\n",
    "cursor = conn.cursor()\n",
    "\n",
    "#Executing an MYSQL function using the execute() method\n",
    "cursor.execute(\"select version()\")\n",
    "\n",
    "# Fetch a single row using fetchone() method.\n",
    "data = cursor.fetchone()\n",
    "print(\"Connection established to: \",data)"
   ]
  },
  {
   "cell_type": "markdown",
   "id": "08d92f02",
   "metadata": {},
   "source": [
    "***\n",
    "#### Inserting the data into database"
   ]
  },
  {
   "cell_type": "code",
   "execution_count": null,
   "id": "fdca2523",
   "metadata": {},
   "outputs": [],
   "source": [
    "for index in dataset.index:\n",
    "    cols  = \"COMPANY_NAME\", \"PRODUCT\", \"WEBDATA\", \"RELEVANCE\", \"CATEGORY\"\n",
    "    columns = ['Company','Title','WebData','Relevance','Cycles']\n",
    "    vals  = [dataset.at[index,col] for col in columns]\n",
    "    query = \"INSERT INTO COMPANIES(COMPANY_NAME,PRODUCT,WEBDATA,RELEVANCE,CATEGORY) VALUES('%s','%s','%s',%s,'%s')\" % (vals[0], vals[1], vals[2],vals[3],vals[4])\n",
    "    try:\n",
    "        cursor.execute(query)\n",
    "    except Exception as e:\n",
    "        print(e)"
   ]
  },
  {
   "cell_type": "markdown",
   "id": "9e85d144",
   "metadata": {},
   "source": [
    "***\n",
    "#### Closing the Database Connection"
   ]
  },
  {
   "cell_type": "code",
   "execution_count": null,
   "id": "4c846229",
   "metadata": {},
   "outputs": [],
   "source": [
    "#Close the connection\n",
    "cursor.close()\n",
    "conn.close()"
   ]
  },
  {
   "cell_type": "markdown",
   "id": "804ef197",
   "metadata": {},
   "source": [
    "***\n",
    "#### Segregration of Test and Train data for our ML model\n",
    "The sampling helps us in having random and not fixed input to the model. We have used 60 samples of product engineering companies and 60 samples of other companies as our training dataset. Thus the size of training data is 120. For test data we have used random 20 samples from each type of companies. Thus the size of testing data is 40."
   ]
  },
  {
   "cell_type": "code",
   "execution_count": 80,
   "id": "d05abbc0",
   "metadata": {},
   "outputs": [],
   "source": [
    "# Segregrate the product engineering and other data from the dataset\n",
    "# query_1 = \"select * from companies where relevance = 1;\"\n",
    "# query_2 = \"select * from companies where relevance = 0;\"\n",
    "# try:\n",
    "#         cursor.execute(query_1)\n",
    "#         prod_engg_data = cursor.fetchall()\n",
    "#         cursor.execute(query_2)\n",
    "#         other_data = cursor.fetchall()\n",
    "# except Exception as e:\n",
    "#         print(e)\n",
    "prod_engg_data = dataset[dataset['Relevance'] == 1]\n",
    "other_data = dataset[dataset['Relevance'] == 0]\n",
    "\n",
    "# Generate train and test data by random sampling of product engineering and other data and then appending it together.\n",
    "# train_data = random.sample(prod_engg_data,60) + random.sample(other_data,60)\n",
    "# test_data = random.sample(prod_engg_data,20) + random.sample(other_data,20)\n",
    "\n",
    "train_data = prod_engg_data.sample(70).append(other_data.sample(70))\n",
    "test_data = prod_engg_data.sample(30).append(other_data.sample(30))"
   ]
  },
  {
   "cell_type": "markdown",
   "id": "68a770de",
   "metadata": {},
   "source": [
    "***\n",
    "#### Perform keyword extraction on the cleaned webdata "
   ]
  },
  {
   "cell_type": "code",
   "execution_count": 81,
   "id": "f0856137",
   "metadata": {},
   "outputs": [],
   "source": [
    "keywords = True\n",
    "if keywords:\n",
    "    train_data[\"Keywords\"] = train_data[\"WebData\"].apply(extract_keywords)\n",
    "    test_data[\"Keywords\"] = test_data[\"WebData\"].apply(extract_keywords)"
   ]
  },
  {
   "cell_type": "markdown",
   "id": "50f77a1e",
   "metadata": {},
   "source": [
    "***\n",
    "#### Perform topic modelling on the cleaned webdata"
   ]
  },
  {
   "cell_type": "code",
   "execution_count": 58,
   "id": "50925ed3",
   "metadata": {},
   "outputs": [
    {
     "name": "stdout",
     "output_type": "stream",
     "text": [
      "cannot compute LDA over an empty collection (no terms)\n",
      "cannot compute LDA over an empty collection (no terms)\n",
      "cannot compute LDA over an empty collection (no terms)\n",
      "cannot compute LDA over an empty collection (no terms)\n",
      "cannot compute LDA over an empty collection (no terms)\n",
      "cannot compute LDA over an empty collection (no terms)\n",
      "cannot compute LDA over an empty collection (no terms)\n"
     ]
    }
   ],
   "source": [
    "topic_modelling = False\n",
    "if topic_modelling:\n",
    "    train_data[\"Topics\"] = train_data[\"WebData\"].apply(extract_topics)\n",
    "    test_data[\"Topics\"] = test_data[\"WebData\"].apply(extract_topics)"
   ]
  },
  {
   "cell_type": "markdown",
   "id": "8af5fa77",
   "metadata": {},
   "source": [
    "***\n",
    "#### Feature extraction using TF-IDF\n",
    "TF-IDF measures how relvant a word is when compared with the entire document."
   ]
  },
  {
   "cell_type": "code",
   "execution_count": 82,
   "id": "6987d905",
   "metadata": {},
   "outputs": [],
   "source": [
    "vector = \"tfidf\"\n",
    "if vector == \"tfidf\":\n",
    "    vectorizor = TfidfVectorizer()\n",
    "elif vector ==\"count\":\n",
    "    vectorizor = CountVectorizer()"
   ]
  },
  {
   "cell_type": "code",
   "execution_count": 83,
   "id": "9658a56c",
   "metadata": {},
   "outputs": [],
   "source": [
    "if keywords:\n",
    "    # Transform the train and test cleaned input keywords to tfidf vectors respectively\n",
    "    train_input = vectorizor.fit_transform(train_data[\"Keywords\"]).toarray().tolist()\n",
    "    test_input = vectorizor.transform(test_data[\"Keywords\"]).toarray().tolist()\n",
    "elif topic_modelling:\n",
    "    # Transform the train and test cleaned input Topics to tfidf vectors respectively\n",
    "    train_input = vectorizor.fit_transform(train_data[\"Topics\"]).toarray().tolist()\n",
    "    test_input = vectorizor.transform(test_data[\"Topics\"]).toarray().tolist()\n",
    "else:\n",
    "    # Transform the train and test cleaned input webdata to tfidf vectors respectively\n",
    "    train_input = vectorizor.fit_transform(train_data[\"WebData\"]).toarray().tolist()\n",
    "    test_input = vectorizor.transform(test_data['WebData']).toarray().tolist()"
   ]
  },
  {
   "cell_type": "code",
   "execution_count": 84,
   "id": "54c722d2",
   "metadata": {},
   "outputs": [],
   "source": [
    "# Convert the train and test output data to list.\n",
    "train_output = train_data['Relevance'].tolist()\n",
    "test_output = test_data['Relevance'].tolist()"
   ]
  },
  {
   "cell_type": "markdown",
   "id": "084f48f2",
   "metadata": {},
   "source": [
    "***\n",
    "#### SVM Classifier"
   ]
  },
  {
   "cell_type": "code",
   "execution_count": 85,
   "id": "eb64fb1a",
   "metadata": {},
   "outputs": [],
   "source": [
    "#Create a svm Classifier\n",
    "clf = svm.SVC(kernel='linear') # Linear Kernel\n",
    "\n",
    "#Train the model using the training sets\n",
    "clf.fit(train_input, train_output)\n",
    "\n",
    "#Predict the response for test dataset\n",
    "y_pred = clf.predict(test_input)"
   ]
  },
  {
   "cell_type": "code",
   "execution_count": 86,
   "id": "c1399786",
   "metadata": {},
   "outputs": [],
   "source": [
    "# save the model to disk\n",
    "filename = 'finalized_model.sav'\n",
    "pickle.dump(clf, open(filename, 'wb'))\n",
    "pickle.dump(vectorizor, open('vectorizer.sav', \"wb\"))"
   ]
  },
  {
   "cell_type": "markdown",
   "id": "a59aebaa",
   "metadata": {},
   "source": [
    "***\n",
    "#### Print the statistics for SVM Classifier"
   ]
  },
  {
   "cell_type": "code",
   "execution_count": 87,
   "id": "d73ad859",
   "metadata": {},
   "outputs": [
    {
     "name": "stdout",
     "output_type": "stream",
     "text": [
      "Accuracy: 0.7166666666666667\n",
      "Precision: 0.7291421856639249\n",
      "Recall: 0.7166666666666667\n",
      "F1 score: 0.7127569698676429\n"
     ]
    }
   ],
   "source": [
    "print_statistics(test_output,y_pred)"
   ]
  },
  {
   "cell_type": "code",
   "execution_count": 88,
   "id": "b5f72778",
   "metadata": {},
   "outputs": [
    {
     "data": {
      "image/png": "[encoded data removed]",
      "text/plain": [
       "<Figure size 640x480 with 2 Axes>"
      ]
     },
     "metadata": {},
     "output_type": "display_data"
    }
   ],
   "source": [
    "metrics.ConfusionMatrixDisplay.from_predictions(test_output,y_pred)\n",
    "plt.show()"
   ]
  },
  {
   "cell_type": "code",
   "execution_count": 89,
   "id": "0c1ca32e",
   "metadata": {},
   "outputs": [],
   "source": [
    "with start_run(run_name=\"svm_exp1\") as run:\n",
    "    avg = 'weighted'\n",
    "    log_metric(\"Accuracy\", metrics.accuracy_score(test_output, y_pred))  \n",
    "    log_metric(\"Precision\",metrics.precision_score(test_output, y_pred, average=avg))\n",
    "    log_metric(\"Recall\",metrics.recall_score(test_output, y_pred, average=avg))\n",
    "    log_metric(\"F1 score\",metrics.f1_score(test_output, y_pred, average=avg))\n",
    "    log_param(\"keywords\", keywords)\n",
    "    log_param(\"topic_modelling\", topic_modelling)"
   ]
  },
  {
   "cell_type": "markdown",
   "id": "5dcb4e28",
   "metadata": {},
   "source": [
    "***\n",
    "#### Naive Bayes Classifier"
   ]
  },
  {
   "cell_type": "code",
   "execution_count": 90,
   "id": "0dd542aa",
   "metadata": {},
   "outputs": [],
   "source": [
    "#Create a Gaussian Classifier\n",
    "model = GaussianNB()\n",
    "\n",
    "# Train the model using the training sets\n",
    "model.fit(train_input,train_output)\n",
    "\n",
    "#Predict Output\n",
    "predicted= model.predict(test_input)"
   ]
  },
  {
   "cell_type": "markdown",
   "id": "c6bacb94",
   "metadata": {},
   "source": [
    "***\n",
    "#### Print the statistics for Naive Bayes Classifier"
   ]
  },
  {
   "cell_type": "code",
   "execution_count": 91,
   "id": "50a2354b",
   "metadata": {},
   "outputs": [
    {
     "name": "stdout",
     "output_type": "stream",
     "text": [
      "Accuracy: 0.65\n",
      "Precision: 0.6586368977673326\n",
      "Recall: 0.65\n",
      "F1 score: 0.6451703745423826\n"
     ]
    }
   ],
   "source": [
    "print_statistics(test_output,predicted)"
   ]
  },
  {
   "cell_type": "code",
   "execution_count": 92,
   "id": "3adeab4c",
   "metadata": {},
   "outputs": [],
   "source": [
    "with start_run(run_name=\"nb_exp1\") as run:\n",
    "    avg = 'weighted'\n",
    "    log_metric(\"Accuracy\", metrics.accuracy_score(test_output, predicted))  \n",
    "    log_metric(\"Precision\",metrics.precision_score(test_output, predicted, average=avg))\n",
    "    log_metric(\"Recall\",metrics.recall_score(test_output, predicted, average=avg))\n",
    "    log_metric(\"F1 score\",metrics.f1_score(test_output, predicted, average=avg))\n",
    "    log_param(\"keywords\", keywords)\n",
    "    log_param(\"topic_modelling\", topic_modelling)"
   ]
  },
  {
   "cell_type": "markdown",
   "id": "61a67419",
   "metadata": {},
   "source": [
    "***\n",
    "#### Gradient Boosting Classification"
   ]
  },
  {
   "cell_type": "code",
   "execution_count": 93,
   "id": "2674f329",
   "metadata": {},
   "outputs": [
    {
     "name": "stdout",
     "output_type": "stream",
     "text": [
      "Accuracy: 0.7166666666666667\n",
      "Precision: 0.7291421856639249\n",
      "Recall: 0.7166666666666667\n",
      "F1 score: 0.7127569698676429\n"
     ]
    }
   ],
   "source": [
    "clf = GradientBoostingClassifier()\n",
    "clf.fit(train_input, train_output)  \n",
    "pred = clf.predict(test_input)\n",
    "print_statistics(test_output,y_pred)"
   ]
  },
  {
   "cell_type": "code",
   "execution_count": 94,
   "id": "bed1513f",
   "metadata": {},
   "outputs": [],
   "source": [
    "with start_run(run_name=\"gradbc_exp1\") as run:\n",
    "    avg = 'weighted'\n",
    "    log_metric(\"Accuracy\", metrics.accuracy_score(test_output, y_pred))  \n",
    "    log_metric(\"Precision\",metrics.precision_score(test_output, y_pred, average=avg))\n",
    "    log_metric(\"Recall\",metrics.recall_score(test_output, y_pred, average=avg))\n",
    "    log_metric(\"F1 score\",metrics.f1_score(test_output, y_pred, average=avg))\n",
    "    log_param(\"keywords\", keywords)\n",
    "    log_param(\"topic_modelling\", topic_modelling)"
   ]
  },
  {
   "cell_type": "markdown",
   "id": "4e3b8666",
   "metadata": {},
   "source": [
    "****\n",
    "#### ADA Boost Classification"
   ]
  },
  {
   "cell_type": "code",
   "execution_count": 95,
   "id": "8c408f9d",
   "metadata": {},
   "outputs": [
    {
     "name": "stdout",
     "output_type": "stream",
     "text": [
      "Accuracy: 0.7166666666666667\n",
      "Precision: 0.7291421856639249\n",
      "Recall: 0.7166666666666667\n",
      "F1 score: 0.7127569698676429\n"
     ]
    }
   ],
   "source": [
    "clf = AdaBoostClassifier()\n",
    "clf.fit(train_input, train_output)  \n",
    "pred = clf.predict(test_input)\n",
    "print_statistics(test_output,y_pred)"
   ]
  },
  {
   "cell_type": "code",
   "execution_count": 96,
   "id": "3c4e5d4a",
   "metadata": {},
   "outputs": [],
   "source": [
    "with start_run(run_name=\"ada_exp1\") as run:\n",
    "    avg = 'weighted'\n",
    "    log_metric(\"Accuracy\", metrics.accuracy_score(test_output, y_pred))  \n",
    "    log_metric(\"Precision\",metrics.precision_score(test_output, y_pred, average=avg))\n",
    "    log_metric(\"Recall\",metrics.recall_score(test_output, y_pred, average=avg))\n",
    "    log_metric(\"F1 score\",metrics.f1_score(test_output, y_pred, average=avg))\n",
    "    log_param(\"keywords\", keywords)\n",
    "    log_param(\"topic_modelling\", topic_modelling)"
   ]
  },
  {
   "cell_type": "code",
   "execution_count": 97,
   "id": "824441c2",
   "metadata": {},
   "outputs": [
    {
     "ename": "KeyError",
     "evalue": "'Topics'",
     "output_type": "error",
     "traceback": [
      "\u001b[1;31m---------------------------------------------------------------------------\u001b[0m",
      "\u001b[1;31mKeyError\u001b[0m                                  Traceback (most recent call last)",
      "File \u001b[1;32mc:\\users\\chaitali bagwe\\appdata\\local\\programs\\python\\python38\\lib\\site-packages\\pandas\\core\\indexes\\base.py:3080\u001b[0m, in \u001b[0;36mIndex.get_loc\u001b[1;34m(self, key, method, tolerance)\u001b[0m\n\u001b[0;32m   3079\u001b[0m \u001b[38;5;28;01mtry\u001b[39;00m:\n\u001b[1;32m-> 3080\u001b[0m     \u001b[38;5;28;01mreturn\u001b[39;00m \u001b[38;5;28;43mself\u001b[39;49m\u001b[38;5;241;43m.\u001b[39;49m\u001b[43m_engine\u001b[49m\u001b[38;5;241;43m.\u001b[39;49m\u001b[43mget_loc\u001b[49m\u001b[43m(\u001b[49m\u001b[43mcasted_key\u001b[49m\u001b[43m)\u001b[49m\n\u001b[0;32m   3081\u001b[0m \u001b[38;5;28;01mexcept\u001b[39;00m \u001b[38;5;167;01mKeyError\u001b[39;00m \u001b[38;5;28;01mas\u001b[39;00m err:\n",
      "File \u001b[1;32mpandas\\_libs\\index.pyx:70\u001b[0m, in \u001b[0;36mpandas._libs.index.IndexEngine.get_loc\u001b[1;34m()\u001b[0m\n",
      "File \u001b[1;32mpandas\\_libs\\index.pyx:101\u001b[0m, in \u001b[0;36mpandas._libs.index.IndexEngine.get_loc\u001b[1;34m()\u001b[0m\n",
      "File \u001b[1;32mpandas\\_libs\\hashtable_class_helper.pxi:4554\u001b[0m, in \u001b[0;36mpandas._libs.hashtable.PyObjectHashTable.get_item\u001b[1;34m()\u001b[0m\n",
      "File \u001b[1;32mpandas\\_libs\\hashtable_class_helper.pxi:4562\u001b[0m, in \u001b[0;36mpandas._libs.hashtable.PyObjectHashTable.get_item\u001b[1;34m()\u001b[0m\n",
      "\u001b[1;31mKeyError\u001b[0m: 'Topics'",
      "\nThe above exception was the direct cause of the following exception:\n",
      "\u001b[1;31mKeyError\u001b[0m                                  Traceback (most recent call last)",
      "Cell \u001b[1;32mIn [97], line 2\u001b[0m\n\u001b[0;32m      1\u001b[0m \u001b[38;5;66;03m# Join the different processed keywords together.\u001b[39;00m\n\u001b[1;32m----> 2\u001b[0m long_string \u001b[38;5;241m=\u001b[39m \u001b[38;5;124m'\u001b[39m\u001b[38;5;124m,\u001b[39m\u001b[38;5;124m'\u001b[39m\u001b[38;5;241m.\u001b[39mjoin(\u001b[38;5;28mlist\u001b[39m(\u001b[43mtrain_data\u001b[49m\u001b[43m[\u001b[49m\u001b[38;5;124;43m'\u001b[39;49m\u001b[38;5;124;43mTopics\u001b[39;49m\u001b[38;5;124;43m'\u001b[39;49m\u001b[43m]\u001b[49m\u001b[38;5;241m.\u001b[39mvalues))\n\u001b[0;32m      3\u001b[0m create_wordcloud(long_string)\n",
      "File \u001b[1;32mc:\\users\\chaitali bagwe\\appdata\\local\\programs\\python\\python38\\lib\\site-packages\\pandas\\core\\frame.py:3024\u001b[0m, in \u001b[0;36mDataFrame.__getitem__\u001b[1;34m(self, key)\u001b[0m\n\u001b[0;32m   3022\u001b[0m \u001b[38;5;28;01mif\u001b[39;00m \u001b[38;5;28mself\u001b[39m\u001b[38;5;241m.\u001b[39mcolumns\u001b[38;5;241m.\u001b[39mnlevels \u001b[38;5;241m>\u001b[39m \u001b[38;5;241m1\u001b[39m:\n\u001b[0;32m   3023\u001b[0m     \u001b[38;5;28;01mreturn\u001b[39;00m \u001b[38;5;28mself\u001b[39m\u001b[38;5;241m.\u001b[39m_getitem_multilevel(key)\n\u001b[1;32m-> 3024\u001b[0m indexer \u001b[38;5;241m=\u001b[39m \u001b[38;5;28;43mself\u001b[39;49m\u001b[38;5;241;43m.\u001b[39;49m\u001b[43mcolumns\u001b[49m\u001b[38;5;241;43m.\u001b[39;49m\u001b[43mget_loc\u001b[49m\u001b[43m(\u001b[49m\u001b[43mkey\u001b[49m\u001b[43m)\u001b[49m\n\u001b[0;32m   3025\u001b[0m \u001b[38;5;28;01mif\u001b[39;00m is_integer(indexer):\n\u001b[0;32m   3026\u001b[0m     indexer \u001b[38;5;241m=\u001b[39m [indexer]\n",
      "File \u001b[1;32mc:\\users\\chaitali bagwe\\appdata\\local\\programs\\python\\python38\\lib\\site-packages\\pandas\\core\\indexes\\base.py:3082\u001b[0m, in \u001b[0;36mIndex.get_loc\u001b[1;34m(self, key, method, tolerance)\u001b[0m\n\u001b[0;32m   3080\u001b[0m         \u001b[38;5;28;01mreturn\u001b[39;00m \u001b[38;5;28mself\u001b[39m\u001b[38;5;241m.\u001b[39m_engine\u001b[38;5;241m.\u001b[39mget_loc(casted_key)\n\u001b[0;32m   3081\u001b[0m     \u001b[38;5;28;01mexcept\u001b[39;00m \u001b[38;5;167;01mKeyError\u001b[39;00m \u001b[38;5;28;01mas\u001b[39;00m err:\n\u001b[1;32m-> 3082\u001b[0m         \u001b[38;5;28;01mraise\u001b[39;00m \u001b[38;5;167;01mKeyError\u001b[39;00m(key) \u001b[38;5;28;01mfrom\u001b[39;00m \u001b[38;5;21;01merr\u001b[39;00m\n\u001b[0;32m   3084\u001b[0m \u001b[38;5;28;01mif\u001b[39;00m tolerance \u001b[38;5;129;01mis\u001b[39;00m \u001b[38;5;129;01mnot\u001b[39;00m \u001b[38;5;28;01mNone\u001b[39;00m:\n\u001b[0;32m   3085\u001b[0m     tolerance \u001b[38;5;241m=\u001b[39m \u001b[38;5;28mself\u001b[39m\u001b[38;5;241m.\u001b[39m_convert_tolerance(tolerance, np\u001b[38;5;241m.\u001b[39masarray(key))\n",
      "\u001b[1;31mKeyError\u001b[0m: 'Topics'"
     ]
    }
   ],
   "source": [
    " # Join the different processed keywords together.\n",
    "long_string = ','.join(list(train_data['Topics'].values))\n",
    "create_wordcloud(long_string)"
   ]
  },
  {
   "cell_type": "code",
   "execution_count": 98,
   "id": "b4df1e43",
   "metadata": {},
   "outputs": [
    {
     "ename": "KeyError",
     "evalue": "'Topics'",
     "output_type": "error",
     "traceback": [
      "\u001b[1;31m---------------------------------------------------------------------------\u001b[0m",
      "\u001b[1;31mKeyError\u001b[0m                                  Traceback (most recent call last)",
      "File \u001b[1;32mc:\\users\\chaitali bagwe\\appdata\\local\\programs\\python\\python38\\lib\\site-packages\\pandas\\core\\indexes\\base.py:3080\u001b[0m, in \u001b[0;36mIndex.get_loc\u001b[1;34m(self, key, method, tolerance)\u001b[0m\n\u001b[0;32m   3079\u001b[0m \u001b[38;5;28;01mtry\u001b[39;00m:\n\u001b[1;32m-> 3080\u001b[0m     \u001b[38;5;28;01mreturn\u001b[39;00m \u001b[38;5;28;43mself\u001b[39;49m\u001b[38;5;241;43m.\u001b[39;49m\u001b[43m_engine\u001b[49m\u001b[38;5;241;43m.\u001b[39;49m\u001b[43mget_loc\u001b[49m\u001b[43m(\u001b[49m\u001b[43mcasted_key\u001b[49m\u001b[43m)\u001b[49m\n\u001b[0;32m   3081\u001b[0m \u001b[38;5;28;01mexcept\u001b[39;00m \u001b[38;5;167;01mKeyError\u001b[39;00m \u001b[38;5;28;01mas\u001b[39;00m err:\n",
      "File \u001b[1;32mpandas\\_libs\\index.pyx:70\u001b[0m, in \u001b[0;36mpandas._libs.index.IndexEngine.get_loc\u001b[1;34m()\u001b[0m\n",
      "File \u001b[1;32mpandas\\_libs\\index.pyx:101\u001b[0m, in \u001b[0;36mpandas._libs.index.IndexEngine.get_loc\u001b[1;34m()\u001b[0m\n",
      "File \u001b[1;32mpandas\\_libs\\hashtable_class_helper.pxi:4554\u001b[0m, in \u001b[0;36mpandas._libs.hashtable.PyObjectHashTable.get_item\u001b[1;34m()\u001b[0m\n",
      "File \u001b[1;32mpandas\\_libs\\hashtable_class_helper.pxi:4562\u001b[0m, in \u001b[0;36mpandas._libs.hashtable.PyObjectHashTable.get_item\u001b[1;34m()\u001b[0m\n",
      "\u001b[1;31mKeyError\u001b[0m: 'Topics'",
      "\nThe above exception was the direct cause of the following exception:\n",
      "\u001b[1;31mKeyError\u001b[0m                                  Traceback (most recent call last)",
      "Cell \u001b[1;32mIn [98], line 3\u001b[0m\n\u001b[0;32m      1\u001b[0m \u001b[38;5;66;03m# Join the different processed keywords together.\u001b[39;00m\n\u001b[0;32m      2\u001b[0m prodCrec_data \u001b[38;5;241m=\u001b[39m train_data[train_data[\u001b[38;5;124m'\u001b[39m\u001b[38;5;124mRelevance\u001b[39m\u001b[38;5;124m'\u001b[39m] \u001b[38;5;241m==\u001b[39m \u001b[38;5;241m1\u001b[39m]\n\u001b[1;32m----> 3\u001b[0m prodCrec_string \u001b[38;5;241m=\u001b[39m  \u001b[38;5;124m'\u001b[39m\u001b[38;5;124m,\u001b[39m\u001b[38;5;124m'\u001b[39m\u001b[38;5;241m.\u001b[39mjoin(\u001b[38;5;28mlist\u001b[39m(\u001b[43mprodCrec_data\u001b[49m\u001b[43m[\u001b[49m\u001b[38;5;124;43m'\u001b[39;49m\u001b[38;5;124;43mTopics\u001b[39;49m\u001b[38;5;124;43m'\u001b[39;49m\u001b[43m]\u001b[49m\u001b[38;5;241m.\u001b[39mvalues))\n\u001b[0;32m      4\u001b[0m create_wordcloud(prodCrec_string)\n",
      "File \u001b[1;32mc:\\users\\chaitali bagwe\\appdata\\local\\programs\\python\\python38\\lib\\site-packages\\pandas\\core\\frame.py:3024\u001b[0m, in \u001b[0;36mDataFrame.__getitem__\u001b[1;34m(self, key)\u001b[0m\n\u001b[0;32m   3022\u001b[0m \u001b[38;5;28;01mif\u001b[39;00m \u001b[38;5;28mself\u001b[39m\u001b[38;5;241m.\u001b[39mcolumns\u001b[38;5;241m.\u001b[39mnlevels \u001b[38;5;241m>\u001b[39m \u001b[38;5;241m1\u001b[39m:\n\u001b[0;32m   3023\u001b[0m     \u001b[38;5;28;01mreturn\u001b[39;00m \u001b[38;5;28mself\u001b[39m\u001b[38;5;241m.\u001b[39m_getitem_multilevel(key)\n\u001b[1;32m-> 3024\u001b[0m indexer \u001b[38;5;241m=\u001b[39m \u001b[38;5;28;43mself\u001b[39;49m\u001b[38;5;241;43m.\u001b[39;49m\u001b[43mcolumns\u001b[49m\u001b[38;5;241;43m.\u001b[39;49m\u001b[43mget_loc\u001b[49m\u001b[43m(\u001b[49m\u001b[43mkey\u001b[49m\u001b[43m)\u001b[49m\n\u001b[0;32m   3025\u001b[0m \u001b[38;5;28;01mif\u001b[39;00m is_integer(indexer):\n\u001b[0;32m   3026\u001b[0m     indexer \u001b[38;5;241m=\u001b[39m [indexer]\n",
      "File \u001b[1;32mc:\\users\\chaitali bagwe\\appdata\\local\\programs\\python\\python38\\lib\\site-packages\\pandas\\core\\indexes\\base.py:3082\u001b[0m, in \u001b[0;36mIndex.get_loc\u001b[1;34m(self, key, method, tolerance)\u001b[0m\n\u001b[0;32m   3080\u001b[0m         \u001b[38;5;28;01mreturn\u001b[39;00m \u001b[38;5;28mself\u001b[39m\u001b[38;5;241m.\u001b[39m_engine\u001b[38;5;241m.\u001b[39mget_loc(casted_key)\n\u001b[0;32m   3081\u001b[0m     \u001b[38;5;28;01mexcept\u001b[39;00m \u001b[38;5;167;01mKeyError\u001b[39;00m \u001b[38;5;28;01mas\u001b[39;00m err:\n\u001b[1;32m-> 3082\u001b[0m         \u001b[38;5;28;01mraise\u001b[39;00m \u001b[38;5;167;01mKeyError\u001b[39;00m(key) \u001b[38;5;28;01mfrom\u001b[39;00m \u001b[38;5;21;01merr\u001b[39;00m\n\u001b[0;32m   3084\u001b[0m \u001b[38;5;28;01mif\u001b[39;00m tolerance \u001b[38;5;129;01mis\u001b[39;00m \u001b[38;5;129;01mnot\u001b[39;00m \u001b[38;5;28;01mNone\u001b[39;00m:\n\u001b[0;32m   3085\u001b[0m     tolerance \u001b[38;5;241m=\u001b[39m \u001b[38;5;28mself\u001b[39m\u001b[38;5;241m.\u001b[39m_convert_tolerance(tolerance, np\u001b[38;5;241m.\u001b[39masarray(key))\n",
      "\u001b[1;31mKeyError\u001b[0m: 'Topics'"
     ]
    }
   ],
   "source": [
    " # Join the different processed keywords together.\n",
    "prodCrec_data = train_data[train_data['Relevance'] == 1]\n",
    "prodCrec_string =  ','.join(list(prodCrec_data['Topics'].values))\n",
    "create_wordcloud(prodCrec_string)"
   ]
  },
  {
   "cell_type": "code",
   "execution_count": null,
   "id": "a115cf0a",
   "metadata": {},
   "outputs": [],
   "source": [
    " # Join the different processed keywords together.\n",
    "non_prodCrec_data = train_data[train_data['Relevance'] == 0]\n",
    "non_prodCrec_string =  ','.join(list(non_prodCrec_data['Topics'].values))\n",
    "create_wordcloud(non_prodCrec_string)"
   ]
  },
  {
   "cell_type": "code",
   "execution_count": 99,
   "id": "9c09e31a",
   "metadata": {},
   "outputs": [
    {
     "name": "stderr",
     "output_type": "stream",
     "text": [
      "C:\\Users\\Chaitali Bagwe\\AppData\\Local\\Temp\\ipykernel_1320\\3841182509.py:6: SettingWithCopyWarning: \n",
      "A value is trying to be set on a copy of a slice from a DataFrame.\n",
      "Try using .loc[row_indexer,col_indexer] = value instead\n",
      "\n",
      "See the caveats in the documentation: https://pandas.pydata.org/pandas-docs/stable/user_guide/indexing.html#returning-a-view-versus-a-copy\n",
      "  cluster_train_data['target']=cluster_train_data['Cycles'].map(target)\n",
      "C:\\Users\\Chaitali Bagwe\\AppData\\Local\\Temp\\ipykernel_1320\\3841182509.py:7: SettingWithCopyWarning: \n",
      "A value is trying to be set on a copy of a slice from a DataFrame.\n",
      "Try using .loc[row_indexer,col_indexer] = value instead\n",
      "\n",
      "See the caveats in the documentation: https://pandas.pydata.org/pandas-docs/stable/user_guide/indexing.html#returning-a-view-versus-a-copy\n",
      "  cluster_test_data['target']=cluster_test_data['Cycles'].map(target)\n"
     ]
    }
   ],
   "source": [
    "target={'Strategic Product Planning':1, 'Product Development':2, 'production systems development':3}\n",
    "\n",
    "cluster_train_data = prod_engg_data.head(70)\n",
    "cluster_test_data = prod_engg_data.tail(30)"
   ]
  },
  {
   "cell_type": "code",
   "execution_count": 110,
   "id": "399916ec",
   "metadata": {},
   "outputs": [],
   "source": [
    "def lower_case(cycle):\n",
    "    if isinstance(cycle, str):\n",
    "        return cycle.lower()"
   ]
  },
  {
   "cell_type": "code",
   "execution_count": 126,
   "id": "33670b81",
   "metadata": {},
   "outputs": [],
   "source": [
    "def run_XGB_model(train_input, train_output, test_input):\n",
    "    clf = HistGradientBoostingClassifier()\n",
    "    clf.fit(train_input, train_output)  \n",
    "    pred = clf.predict(test_input)\n",
    "    return pred"
   ]
  },
  {
   "cell_type": "code",
   "execution_count": 118,
   "id": "4cc755a8",
   "metadata": {},
   "outputs": [],
   "source": [
    "def extract_possible_labels(data):\n",
    "    possible_labels = data.unique()\n",
    "\n",
    "    label_dict = {}\n",
    "    for index, possible_label in enumerate(possible_labels):\n",
    "        label_dict[possible_label] = index\n",
    "    return label_dict"
   ]
  },
  {
   "cell_type": "code",
   "execution_count": 119,
   "id": "e0e1b78a",
   "metadata": {},
   "outputs": [
    {
     "name": "stderr",
     "output_type": "stream",
     "text": [
      "C:\\Users\\Chaitali Bagwe\\AppData\\Local\\Temp\\ipykernel_1320\\1444177010.py:1: SettingWithCopyWarning: \n",
      "A value is trying to be set on a copy of a slice from a DataFrame.\n",
      "Try using .loc[row_indexer,col_indexer] = value instead\n",
      "\n",
      "See the caveats in the documentation: https://pandas.pydata.org/pandas-docs/stable/user_guide/indexing.html#returning-a-view-versus-a-copy\n",
      "  cluster_train_data['Cycles'] = cluster_train_data['Cycles'].apply(lower_case)\n",
      "C:\\Users\\Chaitali Bagwe\\AppData\\Local\\Temp\\ipykernel_1320\\1444177010.py:2: SettingWithCopyWarning: \n",
      "A value is trying to be set on a copy of a slice from a DataFrame.\n",
      "Try using .loc[row_indexer,col_indexer] = value instead\n",
      "\n",
      "See the caveats in the documentation: https://pandas.pydata.org/pandas-docs/stable/user_guide/indexing.html#returning-a-view-versus-a-copy\n",
      "  cluster_test_data['Cycles'] = cluster_test_data['Cycles'].apply(lower_case)\n"
     ]
    }
   ],
   "source": [
    "cluster_train_data['Cycles'] = cluster_train_data['Cycles'].apply(lower_case)\n",
    "cluster_test_data['Cycles'] = cluster_test_data['Cycles'].apply(lower_case)"
   ]
  },
  {
   "cell_type": "code",
   "execution_count": 120,
   "id": "57d7761e",
   "metadata": {},
   "outputs": [
    {
     "name": "stderr",
     "output_type": "stream",
     "text": [
      "C:\\Users\\Chaitali Bagwe\\AppData\\Local\\Temp\\ipykernel_1320\\161672684.py:2: SettingWithCopyWarning: \n",
      "A value is trying to be set on a copy of a slice from a DataFrame.\n",
      "Try using .loc[row_indexer,col_indexer] = value instead\n",
      "\n",
      "See the caveats in the documentation: https://pandas.pydata.org/pandas-docs/stable/user_guide/indexing.html#returning-a-view-versus-a-copy\n",
      "  cluster_train_data['label'] = cluster_train_data.Cycles.replace(cluster_train_label_dict)\n",
      "C:\\Users\\Chaitali Bagwe\\AppData\\Local\\Temp\\ipykernel_1320\\161672684.py:5: SettingWithCopyWarning: \n",
      "A value is trying to be set on a copy of a slice from a DataFrame.\n",
      "Try using .loc[row_indexer,col_indexer] = value instead\n",
      "\n",
      "See the caveats in the documentation: https://pandas.pydata.org/pandas-docs/stable/user_guide/indexing.html#returning-a-view-versus-a-copy\n",
      "  cluster_test_data['label'] = cluster_test_data.Cycles.replace(cluster_test_label_dict)\n"
     ]
    }
   ],
   "source": [
    "cluster_train_label_dict = extract_possible_labels(cluster_train_data.Cycles)\n",
    "cluster_train_data['label'] = cluster_train_data.Cycles.replace(cluster_train_label_dict)\n",
    "\n",
    "cluster_test_label_dict = extract_possible_labels(cluster_test_data.Cycles)\n",
    "cluster_test_data['label'] = cluster_test_data.Cycles.replace(cluster_test_label_dict)"
   ]
  },
  {
   "cell_type": "code",
   "execution_count": 121,
   "id": "42ad141e",
   "metadata": {},
   "outputs": [
    {
     "name": "stderr",
     "output_type": "stream",
     "text": [
      "C:\\Users\\Chaitali Bagwe\\AppData\\Local\\Temp\\ipykernel_1320\\1669283881.py:1: SettingWithCopyWarning: \n",
      "A value is trying to be set on a copy of a slice from a DataFrame.\n",
      "Try using .loc[row_indexer,col_indexer] = value instead\n",
      "\n",
      "See the caveats in the documentation: https://pandas.pydata.org/pandas-docs/stable/user_guide/indexing.html#returning-a-view-versus-a-copy\n",
      "  cluster_train_data[\"Keywords\"] = cluster_train_data[\"WebData\"].apply(extract_keywords)\n",
      "C:\\Users\\Chaitali Bagwe\\AppData\\Local\\Temp\\ipykernel_1320\\1669283881.py:2: SettingWithCopyWarning: \n",
      "A value is trying to be set on a copy of a slice from a DataFrame.\n",
      "Try using .loc[row_indexer,col_indexer] = value instead\n",
      "\n",
      "See the caveats in the documentation: https://pandas.pydata.org/pandas-docs/stable/user_guide/indexing.html#returning-a-view-versus-a-copy\n",
      "  cluster_test_data[\"Keywords\"] = cluster_test_data[\"WebData\"].apply(extract_keywords)\n"
     ]
    }
   ],
   "source": [
    "cluster_train_data[\"Keywords\"] = cluster_train_data[\"WebData\"].apply(extract_keywords)\n",
    "cluster_test_data[\"Keywords\"] = cluster_test_data[\"WebData\"].apply(extract_keywords)"
   ]
  },
  {
   "cell_type": "code",
   "execution_count": 122,
   "id": "0d1f2b25",
   "metadata": {},
   "outputs": [],
   "source": [
    "vectorizor = TfidfVectorizer()"
   ]
  },
  {
   "cell_type": "code",
   "execution_count": 130,
   "id": "5388a058",
   "metadata": {},
   "outputs": [],
   "source": [
    "# Transform the train and test cleaned input keywords to tfidf vectors respectively\n",
    "train_input = vectorizor.fit_transform(cluster_train_data[\"Keywords\"]).toarray().tolist()\n",
    "test_input = vectorizor.transform(cluster_test_data[\"Keywords\"]).toarray().tolist()"
   ]
  },
  {
   "cell_type": "code",
   "execution_count": 131,
   "id": "4e649b86",
   "metadata": {},
   "outputs": [],
   "source": [
    "train_output = cluster_train_data['label'].tolist()\n",
    "test_output = cluster_test_data['label'].tolist()"
   ]
  },
  {
   "cell_type": "code",
   "execution_count": 132,
   "id": "e6aa37ac",
   "metadata": {},
   "outputs": [],
   "source": [
    "test_subclass_predictions = run_XGB_model(train_input, train_output, test_input)"
   ]
  },
  {
   "cell_type": "code",
   "execution_count": 133,
   "id": "58cef082",
   "metadata": {},
   "outputs": [
    {
     "name": "stdout",
     "output_type": "stream",
     "text": [
      "Accuracy: 0.8\n",
      "Precision: 0.8133333333333332\n",
      "Recall: 0.8\n",
      "F1 score: 0.7882352941176471\n"
     ]
    },
    {
     "name": "stderr",
     "output_type": "stream",
     "text": [
      "c:\\users\\chaitali bagwe\\appdata\\local\\programs\\python\\python38\\lib\\site-packages\\sklearn\\metrics\\_classification.py:1334: UndefinedMetricWarning: Precision is ill-defined and being set to 0.0 in labels with no predicted samples. Use `zero_division` parameter to control this behavior.\n",
      "  _warn_prf(average, modifier, msg_start, len(result))\n"
     ]
    }
   ],
   "source": [
    "print_statistics(test_output,test_subclass_predictions)"
   ]
  },
  {
   "cell_type": "code",
   "execution_count": 134,
   "id": "5ae2685c",
   "metadata": {},
   "outputs": [
    {
     "data": {
      "image/png": "[encoded data removed]",
      "text/plain": [
       "<Figure size 640x480 with 2 Axes>"
      ]
     },
     "metadata": {},
     "output_type": "display_data"
    }
   ],
   "source": [
    "metrics.ConfusionMatrixDisplay.from_predictions(test_output,test_subclass_predictions)\n",
    "plt.show()"
   ]
  },
  {
   "cell_type": "code",
   "execution_count": null,
   "id": "e328c792",
   "metadata": {},
   "outputs": [],
   "source": []
  }
 ],
 "metadata": {
  "kernelspec": {
   "display_name": "Python 3 (ipykernel)",
   "language": "python",
   "name": "python3"
  },
  "language_info": {
   "codemirror_mode": {
    "name": "ipython",
    "version": 3
   },
   "file_extension": ".py",
   "mimetype": "text/x-python",
   "name": "python",
   "nbconvert_exporter": "python",
   "pygments_lexer": "ipython3",
   "version": "3.8.9"
  }
 },
 "nbformat": 4,
 "nbformat_minor": 5
}
