{
 "cells": [
  {
   "cell_type": "markdown",
   "id": "b6d7ebf5",
   "metadata": {},
   "source": [
    "# Automatic identification and structuring of AI companies for product creation\n",
    "\n",
    "### Author: Chaitali Suhas Bagwe (cbagwe@mail.uni-paderborn.de)"
   ]
  },
  {
   "cell_type": "markdown",
   "id": "c98cecd7",
   "metadata": {},
   "source": [
    "***\n",
    "#### Install Necessary Libraries\n",
    "\n",
    "This program requires some python libraries to run successfully. If any library is missing, remove the comment char '#' for installing those libraries."
   ]
  },
  {
   "cell_type": "code",
   "execution_count": 19,
   "id": "fa37aacf",
   "metadata": {},
   "outputs": [],
   "source": [
    "#!pip install requests\n",
    "#!pip install beautifulsoup4\n",
    "#!pip install psycopg2-binary\n",
    "#!pip install mysql-connector\n",
    "#!pip install mlflow\n",
    "#!pip install mlflow[pipelines]\n",
    "#!pip install mlflow[extras]\n",
    "#!pip install mlflow-skinny\n",
    "#!pip install wordcloud\n",
    "#!pip install pyLDAvis\n",
    "#!pip install translators\n",
    "#!pip install gensim==3.4.0\n",
    "#!pip install smart_open==1.9.0\n",
    "#!pip install tabulate"
   ]
  },
  {
   "cell_type": "markdown",
   "id": "f7f4fda6",
   "metadata": {},
   "source": [
    "***\n",
    "#### Import Libraries\n",
    "The installed libraries must be imported into our program before their use. If any library is missing, please install it from above step."
   ]
  },
  {
   "cell_type": "code",
   "execution_count": 21,
   "id": "04adb2dc",
   "metadata": {},
   "outputs": [],
   "source": [
    "from bs4 import BeautifulSoup\n",
    "from deep_translator import GoogleTranslator\n",
    "from mlflow import log_metric, log_param, log_artifacts, start_run\n",
    "from nltk.corpus import stopwords\n",
    "from nltk.stem import PorterStemmer\n",
    "from nltk.stem import WordNetLemmatizer\n",
    "from nltk.tokenize import word_tokenize\n",
    "from sentence_transformers import SentenceTransformer\n",
    "from sklearn.ensemble import GradientBoostingClassifier, HistGradientBoostingClassifier, AdaBoostClassifier\n",
    "from sklearn.feature_extraction.text import TfidfVectorizer, CountVectorizer\n",
    "from sklearn.naive_bayes import GaussianNB\n",
    "from sklearn.metrics.pairwise import cosine_similarity\n",
    "from sklearn import svm,metrics\n",
    "from tabulate import tabulate\n",
    "from urllib.request import Request, urlopen\n",
    "from wordcloud import WordCloud\n",
    "\n",
    "\n",
    "import gensim\n",
    "import gensim.corpora as corpora\n",
    "import matplotlib.pyplot as plt\n",
    "import mysql.connector\n",
    "import numpy as np\n",
    "import pandas as pd\n",
    "import pickle\n",
    "import psycopg2\n",
    "import pyLDAvis\n",
    "import pyLDAvis.gensim_models\n",
    "import random\n",
    "import re\n",
    "import requests\n",
    "import yake\n",
    "\n",
    "%matplotlib inline"
   ]
  },
  {
   "cell_type": "markdown",
   "id": "25903492",
   "metadata": {},
   "source": [
    "***\n",
    "***\n",
    "#### Reading Data from AI Marketplace Existing Database\n",
    "\n",
    "AI Marketplace is an ecosystem for bringing together industrial businesses and AI solution providers. The researchers and programmers working for AI Marketplace have created a database of AI companies. This databases is stored in an excel file named \"AI_Marketplace_Input_Data.xlsx\" and comprises of 464 AI companies in various fields, including product creation (product engineering in the database), production, general AI concepts, and cross-sectional fields. This database consists of AI companies' names, their product name, their short description, their websites' URL, the field they belong to (product creation, general AI, production, or cross-sectional), and other information. This database is well-structured and easily readable by Python programs.\n",
    "\n",
    "The python program reads the data from the database, stored in a simple Excel File. The program stores it locally in a data structure called \"pandas dataframe\"{https://pandas.pydata.org/docs/reference/api/pandas.DataFrame.html}. The column \"Relevance of service/app and fit to the portfolio\" in the AI Marketplace Excel database indicates the different fields the AI companies belong to. There are a total of 5 fields for AI companies in the database: 1 - product engineering, 2 - production, 3 - AI in general, 4 - cross sectional processes, and 5 - not relevant. We changed the names of some columns for better readability\n",
    "\n",
    "The field of product engineering corresponds to the AI companies belonging to the product creation process. The rest of the fields do not correspond to the product creation process. Thus, we have two classes for the ML model to make predictions: 1) AI companies in the product creation class and 2) AI companies in the non-product creation class. Therefore, we have a binary classification task at hand. For this binary classification task, we defined our labels as either 0 or 1 to cover the different fields of AI companies. The label '1' is given to all the AI companies in the field of product creation (1-product engineering in the database). All the other companies are given the label '0'. These labels are added to the pandas dataframe data structure. Thus, we have 100 companies belonging to the AI companies in the product creation class (label '1') and 364 companies in the AI companies in non-product creation class (label '0').\n",
    "\n",
    "The URLs of the AI companies' websites are stored in the column named \\textit{Link}. The URLs are used to access the websites of AI companies to extract the companies' data in the next step."
   ]
  },
  {
   "cell_type": "code",
   "execution_count": 36,
   "id": "a3ce50dc",
   "metadata": {
    "scrolled": false
   },
   "outputs": [],
   "source": [
    "#Read the input Excel file\n",
    "dataset = pd.read_excel('AI_Marketplace_Input_Data.xlsx', sheet_name='New_Companies')\n",
    "\n",
    "#Change column names\n",
    "dataset.rename(columns = {'Relevance of service/app and fit to the portfolio':'Relevance'}, inplace = True)\n",
    "dataset.rename(columns = {'Product/Service-Title':'Title'}, inplace = True)\n",
    "dataset.rename(columns = {'Product engineering (cycles)':'Cycles'}, inplace = True)\n",
    "\n",
    "\n",
    "#dataset = dataset[dataset.Relevance != \"3- AI general\"]\n",
    "\n",
    "#Change Relevance values\n",
    "dataset.Relevance.replace('1 - product engineering',1, inplace = True)\n",
    "dataset.Relevance.replace('2 - production',0, inplace = True)\n",
    "dataset.Relevance.replace('3- AI general',0, inplace = True)\n",
    "dataset.Relevance.replace('4 - cross sectional processes',0, inplace = True)\n",
    "dataset.Relevance.replace('5 - not relevant',0, inplace = True)"
   ]
  },
  {
   "cell_type": "markdown",
   "id": "fddaa311",
   "metadata": {},
   "source": [
    "***\n",
    "***\n",
    "### Scraping and Preprocessing Data from AI Companies Websites\n",
    "In order to train the ML model on the website content of the AI companies, we need to extract the website content first. This data is contains unnecessary data which can hinder classification process. Thus, it cannot be directly sent to ML models for classification and hence must be preprocessed for removing unwanted data\n",
    "\n",
    "We will first define some functions and variables for scraping and prepocessing of data\n"
   ]
  },
  {
   "cell_type": "markdown",
   "id": "9fad60c2",
   "metadata": {},
   "source": [
    "#### 1) Define stop-words (Data Processing)\n",
    "Stop Words : Removing commonly used english stop words like *and*, *the*, *a*, *an*, etc. We have also removed the words that are not useful for us in the context of websites. These include the words from header and footer of the websites, dropdown menu words of the websites, terms and conditions, etc."
   ]
  },
  {
   "cell_type": "code",
   "execution_count": 23,
   "id": "bf1e9e49",
   "metadata": {},
   "outputs": [],
   "source": [
    "stemmer = PorterStemmer()\n",
    "lemmatizer = WordNetLemmatizer()\n",
    "\n",
    "stop_words = stopwords.words(\"english\")\n",
    "# Add custom stop words (frequently occuring but add no value)\n",
    "stop_words += ['about', 'us', 'contact', 'how','login', 'hello','email','home','blog','terms','conditions',\n",
    "               'jobs','openings','careers','privacy','policy','legal','imprint','demo','support','team',\n",
    "              'conditions']"
   ]
  },
  {
   "cell_type": "markdown",
   "id": "4967916f",
   "metadata": {},
   "source": [
    "***\n",
    "#### 2) Clean Text Function (Data Preprocessing)\n",
    "\n",
    "The website content is processed in the following function by removing white spaces, HTML tags, numbers, special characters, and punctuation. We transform the content into single-word tokens. These tokens are converted into lowercase characters and checked against stop-words (defined above) we do not want in our final web data.\n",
    "\n",
    "__Input:__ Uncleaned website data of an AI company\n",
    "\n",
    "__Output:__ Cleaned and tokenized data"
   ]
  },
  {
   "cell_type": "code",
   "execution_count": 24,
   "id": "ea24ebdf",
   "metadata": {},
   "outputs": [],
   "source": [
    "def clean_text(text):\n",
    "    \n",
    "    # remove white spaces, html tags, numbers, special characters, punctuations\n",
    "    RE_WSPACE = re.compile(r\"\\s+\", re.IGNORECASE)\n",
    "    RE_TAGS = re.compile(r\"<[^>]+>\")\n",
    "    RE_ASCII = re.compile(r\"[^A-Za-zÀ-ž ]\", re.IGNORECASE)\n",
    "    RE_SINGLECHAR = re.compile(r\"\\b[A-Za-zÀ-ž]\\b\", re.IGNORECASE)\n",
    "\n",
    "    text = re.sub(RE_TAGS, \" \", text)\n",
    "    text = re.sub(RE_ASCII, \" \", text)\n",
    "    text = re.sub(RE_SINGLECHAR, \" \", text)\n",
    "    text = re.sub(RE_WSPACE, \" \", text)\n",
    "    \n",
    "    # tokenize the text and transform all the tokens into lowercase\n",
    "    word_tokens = word_tokenize(text)\n",
    "    words_tokens_lower = [word.lower() for word in word_tokens]\n",
    "\n",
    "    # remove stop-words from the words token\n",
    "    words_filtered = [\n",
    "        word for word in words_tokens_lower if word not in stop_words\n",
    "    ]\n",
    "\n",
    "    text_clean = \" \".join(words_filtered)\n",
    "    return text_clean"
   ]
  },
  {
   "cell_type": "markdown",
   "id": "a95b65c8",
   "metadata": {},
   "source": [
    "***\n",
    "#### 3) Read URL Content Function (Scraping Data from Website & Data Processing)\n",
    "\n",
    "The website page of an AI company is scraped using the BeautifulSoup {https://www.crummy.com/software/BeautifulSoup/bs4/doc/} library. The BeautifulSoup library parses the web content using an HTML parser. This gives us all the content stored in the HTML file of the website.\n",
    "\n",
    "Along with the typical company's data, the web scraper also scrapes the cookie content that appears when the website is visited. Thus, we first get rid of this cookie content. Then we remove the footer block containing the company address, links to different pages, contact information, etc. There might be some web pages that are not initially in the English language. Thus, we translate the content into English using the Google translator support from deep_translator {https://pypi.org/project/deep-translator/} package of Python. We passed the content through the translator, irrespective of whether the content was in English or not. This also enables the translation of words that appear in a different language between English texts. The order of the content in English remains the same even after translation, as only the non-English word in between the text is translated into English. We restrict the content to the first 5000 words only and then send it for further processing to the __clean_text__ function.\n",
    "\n",
    "__Input__: Webpage of an AI company website\n",
    "\n",
    "__Output__: Cleaned and tokenized data"
   ]
  },
  {
   "cell_type": "code",
   "execution_count": 26,
   "id": "b3ab2981",
   "metadata": {},
   "outputs": [],
   "source": [
    "def read_url_content(page):\n",
    "    # read the content\n",
    "    soup = BeautifulSoup(page.content, \"html.parser\")\n",
    "    \n",
    "    # remove the website cookies content\n",
    "    for div in soup.find_all('div', attrs={'data-nosnippet' : 'true'}):\n",
    "        div.decompose()\n",
    "        \n",
    "    # remove footer\n",
    "    for footer in soup.find_all('footer'):\n",
    "        footer.decompose()\n",
    "        \n",
    "    # translate the content to English  \n",
    "    translator = GoogleTranslator(source='auto', target='en')\n",
    "    translated_text = translator.translate(soup.text[:4999])\n",
    "        \n",
    "    # return the cleaned content\n",
    "    return clean_text(translated_text)"
   ]
  },
  {
   "cell_type": "markdown",
   "id": "4fcee12d",
   "metadata": {},
   "source": [
    "***\n",
    "#### 4) Parse the required contents from the dataframe. Get Clean WebData Function (Scraping the website data)\n",
    "\n",
    "The python program iterates over the dataframe. Each iteration is a unique company. During each iteration the program reads the Company's URL and uses requests {https://pypi.org/project/requests/} package to send HTTP requests to the URL. The HTTP request returns an object containing response data (content, encoding, status, etc.). The response data i.e. the webpage is then passed to the read_url_content() function which returns cleaned and tokenized data of the passed website. The data of each website is store in an array named \"page_data\". After the iteration is over on the entire dataframe, the page_data array is returned.\n",
    "\n",
    "A try and catch block is added for checking if the URL is accessible or not. In case of error or non-accessibility, an empty string is added to page_data array for that company or iteration.\n",
    "\n",
    "__Input:__ Pandas Dataframe of Companies\n",
    "__Output:__ Array of cleaned and tokenized website data of each company"
   ]
  },
  {
   "cell_type": "code",
   "execution_count": 27,
   "id": "2088a560",
   "metadata": {},
   "outputs": [],
   "source": [
    "def get_cleaned_webdata(dataframe):\n",
    "    # create an empty list of page data\n",
    "    page_data = []\n",
    "    \n",
    "    for index, row in dataframe.iterrows():\n",
    "        URL = row[\"Link\"]\n",
    "        try:\n",
    "            # access the URL\n",
    "            headers = {'User-Agent': 'Mozilla/5.0 (Windows NT 6.1) AppleWebKit/537.36 (KHTML, like Gecko) Chrome/41.0.2228.0 Safari/537.36',}\n",
    "            page = requests.get(URL, headers = headers, timeout = 20)\n",
    "            # append the URL content to the list\n",
    "            page_data.append(read_url_content(page))\n",
    "        except(ConnectionError, Exception):\n",
    "            # for websites not accessible append empty string to the list\n",
    "            page_data.append(\"\")\n",
    "    return page_data"
   ]
  },
  {
   "cell_type": "markdown",
   "id": "0cd1214b",
   "metadata": {},
   "source": [
    "***\n",
    "***\n",
    "### Feature Extraction of Website Data of AI Companies\n",
    "\n",
    "Summarization or, more specifically, choosing the top words that best describe the entire text emerges as one of the main issues when working with textual data. Feature Extraction results in reducing the dimensionality of the data and choosing only those features or words that are deemed to be useful.\n",
    "\n",
    "We have defined two functions for feature extraction using keywords and topic below."
   ]
  },
  {
   "cell_type": "markdown",
   "id": "ae4dcc32",
   "metadata": {},
   "source": [
    "***\n",
    "#### 1) Initialize the keyword extractor from Yake library (Feature Extraction)\n",
    "\n",
    "We perform keyword extraction on the data extracted from the websites of AI companies and thus reduce the dimensionality of the data sent to the training algorithm.  We used the _YAKE_{https://liaad.github.io/yake/} keyword extractor for this process. YAKE (Yet Another Keyword Extractor) is a lightweight keyword extraction tool that uses statistical algorithms to identify and extract the most relevant keywords from a given text\n",
    "\n",
    "In this block of code we initialized the YAKE keyword extractor library. We set the following parameters:\n",
    "\n",
    "__max_ngram_size = 1__: This means that the continous sequence of words to be considered as keywords is 1.\n",
    "\n",
    "__deduplication_threshold = 0.9__: This means that repetition of words is allowed in keywords. But since we set the max_ngram_size as 1, this won't have any effect as the words of each keyword is just 1.\n",
    "\n",
    "__num_of_keywords = 130__: This means that the number of keywords to be extracted from each text (in our case; website data of each AI company) is 130.\n",
    "\n",
    "__window_size = 1__: It is used for co-occurrence matrix construction. Setting it to 1 will look at one word to both left and right of a candidate word.\n",
    "\n",
    "Finally, we initialized the YAKE keyword extractor using its constructor and stored it in the variable _kw_extractor_\n"
   ]
  },
  {
   "cell_type": "code",
   "execution_count": 25,
   "id": "14727ea4",
   "metadata": {},
   "outputs": [],
   "source": [
    "max_ngram_size = 1\n",
    "deduplication_threshold = 0.9\n",
    "num_of_keywords = 130\n",
    "window_size = 1\n",
    "\n",
    "kw_extractor = yake.KeywordExtractor(n=max_ngram_size, dedupLim=deduplication_threshold, top=num_of_keywords, windowsSize=window_size)"
   ]
  },
  {
   "cell_type": "markdown",
   "id": "a026589a",
   "metadata": {},
   "source": [
    "***\n",
    "#### 2) Extract Keywords Function (Feature Extraction)\n",
    "In this function, we extract keywords from the cleaned website data of AI Company.\n",
    "\n",
    "__Input:__ Cleaned website data of an AI company\n",
    "\n",
    "__Output:__ Keywords for this AI Company"
   ]
  },
  {
   "cell_type": "code",
   "execution_count": 29,
   "id": "05a3ce91",
   "metadata": {},
   "outputs": [],
   "source": [
    "def extract_keywords(string):\n",
    "    keywords = kw_extractor.extract_keywords(string)\n",
    "    keywords = [x for (x,_) in keywords]\n",
    "    return \" \".join(keywords)"
   ]
  },
  {
   "cell_type": "markdown",
   "id": "12b37d9b",
   "metadata": {},
   "source": [
    "***\n",
    "#### 3) Extract Topics Function (Feature Extraction)\n",
    "\n",
    "We used the LDA method from Python's Gensim {https://radimrehurek.com/gensim/models/ldamodel.html} package. The dictionary and the corpus are the two primary inputs to the LDA topic model. Corpus is a stream of document vectors, or sparse matrix of shape (number of documents, number of terms). The dictionary converts word IDs into words. It is used for topic printing, debugging, and vocabulary size determination \\cite{Reh.2022}. We kept the number of topics to 1 as we needed only key features or words from the AI company's website. We extracted 130 words per AI company website.\n",
    "\n",
    "__Input__: Cleaned website data of an AI company\n",
    "\n",
    "__Output__: Key features or words for this AI Company"
   ]
  },
  {
   "cell_type": "code",
   "execution_count": 1,
   "id": "e4f75c3d",
   "metadata": {},
   "outputs": [],
   "source": [
    "def extract_topics(long_string):\n",
    "    num_topics = 1\n",
    "    # Create Dictionary\n",
    "    id2word = corpora.Dictionary([long_string.split()])\n",
    "    # Create Corpus\n",
    "    texts = [long_string.split()]\n",
    "    # Term Document Frequency\n",
    "    corpus = [id2word.doc2bow(text) for text in texts]\n",
    "    try:\n",
    "        lda_model = gensim.models.LdaMulticore(corpus=corpus,\n",
    "                                       id2word=id2word,\n",
    "                                       num_topics=num_topics)\n",
    "        x=lda_model.show_topics(num_topics=1, num_words=130,formatted=False)\n",
    "        topics_words = [(tp[0], [wd[0] for wd in tp[1]]) for tp in x]\n",
    "\n",
    "        #Below Code returns Only Words \n",
    "        for topic,words in topics_words:\n",
    "            return \" \".join(words)\n",
    "    except Exception as e:\n",
    "        print(e)\n",
    "        return \"\""
   ]
  },
  {
   "cell_type": "markdown",
   "id": "bfefe9c3",
   "metadata": {},
   "source": [
    "***\n",
    "***\n",
    "#### Model Evaluation\n",
    "\n",
    "To evaluate the ML models, we need to evaluate them on metric scores. In this function, The metrics are calculated for the given actual and predicted datasets. The metrics are defined as follows:\n",
    "\n",
    "__Accuracy:__ Accuracy score is calculated as the number of correct predictions for AI companies, whether involved in product creation or not, divided by the total number of predictions\n",
    "\n",
    "__Precision:__ Precision describes the percentage of data points that our model claims were in the relevant class and were actually relevant. It is calculated as the number of AI companies for product creation predicted correctly by our model divided by the total number of AI companies predicted to be in the field of product creation.\n",
    "\n",
    "__Recall:__ Recall is a model's capacity to locate each relevant instance in a data set. It is calculated as the number of AI companies for product creation predicted correctly by our model divided by the number of AI companies predicted correctly to be in the field of product creation plus the number of AI companies predicted wrongly to be not in the field of product creation.\n",
    "\n",
    "__F1-Score:__ The F1 score is a machine learning evaluation metric. It is a combination of both precision and recall scores. Instead of evaluating a model's overall performance as done by accuracy, the F1-score focuses on how well it performs in each class. It is the harmonic mean of precision and recall\n",
    "\n",
    "__Input__: Actual values and Predicted values from the ML model\n",
    "__Output__: Printing various scores"
   ]
  },
  {
   "cell_type": "code",
   "execution_count": 28,
   "id": "bb270557",
   "metadata": {},
   "outputs": [],
   "source": [
    "def print_statistics(actual, predicted):\n",
    "    avg = 'weighted'\n",
    "    print(\"Accuracy:\",metrics.accuracy_score(actual, predicted))\n",
    "    print(\"Precision:\",metrics.precision_score(actual, predicted, average=avg))\n",
    "    print(\"Recall:\",metrics.recall_score(actual, predicted, average=avg))\n",
    "    print(\"F1 score:\",metrics.f1_score(actual, predicted, average=avg))"
   ]
  },
  {
   "cell_type": "markdown",
   "id": "b09b9559",
   "metadata": {},
   "source": [
    "***\n",
    "***\n",
    "#### Visualization using WordCloud \n",
    "\n",
    "This function is used only to check if our feature extraction techniques are working perfectly or not. It creates an wordcloud of words passed to it.\n",
    "\n",
    "__Input__: String of words\n",
    "__Output__: WordCloud Image"
   ]
  },
  {
   "cell_type": "code",
   "execution_count": 31,
   "id": "3276ed2e",
   "metadata": {},
   "outputs": [],
   "source": [
    "def create_wordcloud(long_string):\n",
    "    # Create a WordCloud object\n",
    "    wordcloud = WordCloud(background_color=\"white\", max_words=5000, contour_width=3, contour_color='steelblue')\n",
    "    # Generate a word cloud\n",
    "    wordcloud.generate(long_string)\n",
    "    # Visualize the word cloud\n",
    "    return wordcloud.to_image()"
   ]
  },
  {
   "cell_type": "markdown",
   "id": "19dbd28d",
   "metadata": {},
   "source": [
    "***\n",
    "***\n",
    "#### Get clean data for all the websites\n",
    "\n",
    "This block of code calls the get_cleaned_webdata() function and passes the pandas dataframe in which the data from AI marketplace's excel file is stored in. The cleaned data is stored in the same pandas dataframe under the column \"WebData\""
   ]
  },
  {
   "cell_type": "code",
   "execution_count": 38,
   "id": "540142f7",
   "metadata": {},
   "outputs": [
    {
     "data": {
      "text/plain": [
       "0      solution zero vision next generation visual qu...\n",
       "1      machine monitoring signals products products m...\n",
       "2      machine monitoring signals products products m...\n",
       "3      page found signals products products machine m...\n",
       "4      hemistereo nx world powerful ai enabled stereo...\n",
       "                             ...                        \n",
       "459    quant ip patent rating patent evaluation skip ...\n",
       "460    competitive technology benchmarking report en ...\n",
       "461    ai tech discovery partner mergeflow skip conte...\n",
       "462    kati system fraunhofer int title search fraunh...\n",
       "463    drive digital transformation leveraging ai ml ...\n",
       "Name: WebData, Length: 464, dtype: object"
      ]
     },
     "execution_count": 38,
     "metadata": {},
     "output_type": "execute_result"
    }
   ],
   "source": [
    "dataset[\"WebData\"] = get_cleaned_webdata(dataset)\n",
    "dataset[\"WebData\"]"
   ]
  },
  {
   "cell_type": "markdown",
   "id": "7b0f5e75",
   "metadata": {},
   "source": [
    "***\n",
    "***\n",
    "\n",
    "#### Storing the Scraped and Processed Website Data of AI Companies\n",
    "\n",
    "The data from the AI Marketplace database and the data collected from the websites of AI companies must be stored in a safe and secure database. Our storage requirement is simple and contains structured data. Therefore, we use the PostgreSQL database for storing the companies' information and website data.\n",
    "\n",
    "First, we create an empty database in PostgreSQL named \"postgres\" using its IDE _pgAdmin_ {https://www.pgadmin.org/}. We created a table named _Companies_ inside this database to store information on all companies from the AI Marketplace database. This table contains 5 columns to store different information about the companies: _company_name_ to store the name of the company, _product_ to store the name of the product developed by the company, _webdata_ to store the collected and cleaned data from the website of the company, _relevance_ to store the corresponding labels described in section indicating whether the company is involved in product creation, _category_ indicating the product creation cycle the company belongs to. Apart from these 5 columns, for unique identification of a company in the table, we used a column named _company_id_, which is auto-incremented for every insertion of the company. This auto-increment is done using the SERIAL data type of PostgreSQL. The _category_ column contains the word \"nan\" if the company is not a product creation company, as it won't have a product creation cycle to belong to.\n",
    "\n",
    "For connecting and insert data into these column, we did the following steps:"
   ]
  },
  {
   "cell_type": "markdown",
   "id": "0abf4eb1",
   "metadata": {},
   "source": [
    "#### Establishing the Connection to the Database\n",
    "\n",
    "We used the _psycopg2_ {https://pypi.org/project/psycopg2/} database adapter of PostgreSQL for the Python programming language to establish an connection to the database. We need to pass the name of the database, the user name, the password, the host and the port to this database adapter for establishing the connection. "
   ]
  },
  {
   "cell_type": "code",
   "execution_count": 39,
   "id": "92d21475",
   "metadata": {},
   "outputs": [
    {
     "name": "stdout",
     "output_type": "stream",
     "text": [
      "Connection established to:  ('PostgreSQL 15.0, compiled by Visual C++ build 1914, 64-bit',)\n"
     ]
    }
   ],
   "source": [
    "#establishing the connection\n",
    "conn = psycopg2.connect(\n",
    "   database=\"postgres\", user='postgres', password='Chaitali@28', host='127.0.0.1', port= '5432'\n",
    ")\n",
    "\n",
    "conn.autocommit = True\n",
    "\n",
    "#Creating a cursor object using the cursor() method\n",
    "cursor = conn.cursor()\n",
    "\n",
    "#Executing an MYSQL function using the execute() method\n",
    "cursor.execute(\"select version()\")\n",
    "\n",
    "# Fetch a single row using fetchone() method.\n",
    "data = cursor.fetchone()\n",
    "print(\"Connection established to: \",data)"
   ]
  },
  {
   "cell_type": "markdown",
   "id": "08d92f02",
   "metadata": {},
   "source": [
    "#### Inserting the data into database\n",
    "\n",
    "We inserted the data into the database using normal SQL query"
   ]
  },
  {
   "cell_type": "code",
   "execution_count": null,
   "id": "fdca2523",
   "metadata": {},
   "outputs": [],
   "source": [
    "# inserting data into the database\n",
    "for index in dataset.index:\n",
    "    # name of the columns in the database\n",
    "    cols  = \"COMPANY_NAME\", \"PRODUCT\", \"WEBDATA\", \"RELEVANCE\", \"CATEGORY\"\n",
    "    \n",
    "    #name of the columns in the pandas dataframe\n",
    "    columns = ['Company','Title','WebData','Relevance','Cycles']\n",
    "    \n",
    "    # get the row from the dataframe and insert using SQL\n",
    "    vals  = [dataset.at[index,col] for col in columns]\n",
    "    query = \"INSERT INTO COMPANIES(COMPANY_NAME,PRODUCT,WEBDATA,RELEVANCE,CATEGORY) VALUES('%s','%s','%s',%s,'%s')\" % (vals[0], vals[1], vals[2],vals[3],vals[4])\n",
    "    try:\n",
    "        cursor.execute(query)\n",
    "    except Exception as e:\n",
    "        print(e)"
   ]
  },
  {
   "cell_type": "markdown",
   "id": "9e85d144",
   "metadata": {},
   "source": [
    "#### Closing the Database Connection\n",
    "\n",
    "After insertion, we closed the connection to the database.\n",
    "\n",
    "__Note:__ It is important to close the connection to the database after every use. If not disconnected, the CPU's RAM is consumed."
   ]
  },
  {
   "cell_type": "code",
   "execution_count": 41,
   "id": "4c846229",
   "metadata": {},
   "outputs": [],
   "source": [
    "#Close the connection\n",
    "cursor.close()\n",
    "conn.close()"
   ]
  },
  {
   "cell_type": "markdown",
   "id": "804ef197",
   "metadata": {},
   "source": [
    "***\n",
    "***\n",
    "### Data Modeling\n",
    "\n",
    "Data modeling is the process of training classification algorithms to correctly identify AI companies for product creation. The steps for data modeling are performed below:"
   ]
  },
  {
   "cell_type": "markdown",
   "id": "6985ab37",
   "metadata": {},
   "source": [
    "#### Segregration of Test and Train data for our ML model\n",
    "\n",
    "The data or the AI companies stored in the pandas dataframe data structure is divided into training and testing datasets. This process is called a train-test split in machine learning terms. It is a method for assessing how well machine learning algorithms work.\n",
    "\n",
    "Before creating the training and testing dataset, we segregated the AI companies in product creation and those not involved in product creation into two pandas dataframes.\n",
    "\n",
    "Then we randomly selected 70 companies from AI companies in product creation and 70 companies from AI companies not involved in product creation and combined them into our training dataset. Thus, the training dataset has a total of 140 AI companies from the AI Marketplace database. This combination is done to create a balanced dataset. A balanced dataset prevents the classification algorithm from being biased towards one class. We decided on 70 companies for each class because the total number of available AI companies for product creation in our database is 100, and a 70:30 ratio for training and testing databases is considered suitable for this database size. Therefore, the combination for the testing dataset involves a random selection of 30 companies from AI companies in product creation and 30 companies from AI companies not involved in product creation. The testing dataset size is thus 60 companies from the AI Marketplace database."
   ]
  },
  {
   "cell_type": "code",
   "execution_count": 42,
   "id": "d05abbc0",
   "metadata": {},
   "outputs": [],
   "source": [
    "# Segregrate the product engineering and other data from the dataset\n",
    "prod_engg_data = dataset[dataset['Relevance'] == 1]\n",
    "other_data = dataset[dataset['Relevance'] == 0]\n",
    "\n",
    "# Generate train and test data by random sampling of product engineering and other data and then appending it together.\n",
    "train_data = prod_engg_data.sample(70).append(other_data.sample(70))\n",
    "test_data = prod_engg_data.sample(30).append(other_data.sample(30))"
   ]
  },
  {
   "cell_type": "markdown",
   "id": "68a770de",
   "metadata": {},
   "source": [
    "***\n",
    "***\n",
    "#### Perform keyword extraction on the cleaned webdata \n",
    "\n",
    "We call the function extract_keywords and pass the cleaned and tokenized webdata to extract keywords on. The extracted keywords are then stored in the same pandas dataframe of AI marketplace data, under the column \"Keywords\".\n",
    "\n",
    "The keywords variable must be set to True if feature extraction is to be performed using keywords, else it must be set to False."
   ]
  },
  {
   "cell_type": "code",
   "execution_count": 44,
   "id": "f0856137",
   "metadata": {},
   "outputs": [],
   "source": [
    "keywords = True\n",
    "if keywords:\n",
    "    train_data[\"Keywords\"] = train_data[\"WebData\"].apply(extract_keywords)\n",
    "    test_data[\"Keywords\"] = test_data[\"WebData\"].apply(extract_keywords)"
   ]
  },
  {
   "cell_type": "markdown",
   "id": "50f77a1e",
   "metadata": {},
   "source": [
    "***\n",
    "***\n",
    "#### Perform topic modelling on the cleaned webdata\n",
    "We call the function extract_topics and pass the cleaned and tokenized webdata to extract key features or words. The extracted features are then stored in the same pandas dataframe of AI marketplace data, under the column \"Topics\".\n",
    "\n",
    "The topic_modelling variable must be set to True if feature extraction is to be performed using topic modeling, else it must be set to False."
   ]
  },
  {
   "cell_type": "code",
   "execution_count": 116,
   "id": "50925ed3",
   "metadata": {},
   "outputs": [
    {
     "name": "stdout",
     "output_type": "stream",
     "text": [
      "cannot compute LDA over an empty collection (no terms)\n",
      "cannot compute LDA over an empty collection (no terms)\n",
      "cannot compute LDA over an empty collection (no terms)\n",
      "cannot compute LDA over an empty collection (no terms)\n",
      "cannot compute LDA over an empty collection (no terms)\n",
      "cannot compute LDA over an empty collection (no terms)\n"
     ]
    }
   ],
   "source": [
    "topic_modelling = False\n",
    "if topic_modelling:\n",
    "    train_data[\"Topics\"] = train_data[\"WebData\"].apply(extract_topics)\n",
    "    test_data[\"Topics\"] = test_data[\"WebData\"].apply(extract_topics)"
   ]
  },
  {
   "cell_type": "markdown",
   "id": "64cb32d9",
   "metadata": {},
   "source": [
    "***\n",
    "***\n",
    "#### Test performed to check feature extraction\n",
    "\n",
    "Here, a random company is taken for testing keyword extraction and topic modeling functions. The extracted features using keyword extraction and topic modeling are then visualized using WordCloud."
   ]
  },
  {
   "cell_type": "code",
   "execution_count": 45,
   "id": "a8e76663",
   "metadata": {},
   "outputs": [
    {
     "data": {
      "text/plain": [
       "'Peregrine Technologies'"
      ]
     },
     "execution_count": 45,
     "metadata": {},
     "output_type": "execute_result"
    }
   ],
   "source": [
    "train_data[\"Company\"][292]"
   ]
  },
  {
   "cell_type": "code",
   "execution_count": 50,
   "id": "e320e27c",
   "metadata": {},
   "outputs": [
    {
     "data": {
      "image/png": "[encoded data removed]",
      "text/plain": [
       "<PIL.Image.Image image mode=RGB size=400x200 at 0x1ECF2709EE0>"
      ]
     },
     "execution_count": 50,
     "metadata": {},
     "output_type": "execute_result"
    }
   ],
   "source": [
    "create_wordcloud(extract_keywords(train_data[\"WebData\"][292]))"
   ]
  },
  {
   "cell_type": "code",
   "execution_count": 51,
   "id": "b9af6ac5",
   "metadata": {},
   "outputs": [
    {
     "data": {
      "image/png": "[encoded data removed]",
      "text/plain": [
       "<PIL.Image.Image image mode=RGB size=400x200 at 0x1ECF30B1100>"
      ]
     },
     "execution_count": 51,
     "metadata": {},
     "output_type": "execute_result"
    }
   ],
   "source": [
    "create_wordcloud(extract_topics(train_data[\"WebData\"][292]))"
   ]
  },
  {
   "cell_type": "markdown",
   "id": "8af5fa77",
   "metadata": {},
   "source": [
    "***\n",
    "***\n",
    "#### Feature Selection using TF-IDF\n",
    "The extracted features or keywords are in the raw form and must be converted into vectors supported by the ML model. Thus, we pass the extracted features to the TF-IDF vectorizer for feature selection. The extracted topics or keywords are converted into a document-word vector matrix suitable to pass to the ML model. We selected the TF-IDF vectorizer out of the many feature selection methods as it is easy to use, one of the popular vectorizer methods, and cheap to compute. The output of this vectorizer then serves as an input to the multiple training models.\n",
    "\n",
    "TF-IDF measures how relevant a word is when compared with the entire document."
   ]
  },
  {
   "cell_type": "code",
   "execution_count": 117,
   "id": "6987d905",
   "metadata": {},
   "outputs": [],
   "source": [
    "vectorizor = TfidfVectorizer()"
   ]
  },
  {
   "cell_type": "code",
   "execution_count": 118,
   "id": "9658a56c",
   "metadata": {},
   "outputs": [],
   "source": [
    "if keywords:\n",
    "    # Transform the train and test cleaned input keywords to tfidf vectors respectively\n",
    "    train_input = vectorizor.fit_transform(train_data[\"Keywords\"]).toarray().tolist()\n",
    "    test_input = vectorizor.transform(test_data[\"Keywords\"]).toarray().tolist()\n",
    "elif topic_modelling:\n",
    "    # Transform the train and test cleaned input Topics to tfidf vectors respectively\n",
    "    train_input = vectorizor.fit_transform(train_data[\"Topics\"]).toarray().tolist()\n",
    "    test_input = vectorizor.transform(test_data[\"Topics\"]).toarray().tolist()\n",
    "else:\n",
    "    # Transform the train and test cleaned input webdata to tfidf vectors respectively\n",
    "    train_input = vectorizor.fit_transform(train_data[\"WebData\"]).toarray().tolist()\n",
    "    test_input = vectorizor.transform(test_data['WebData']).toarray().tolist()"
   ]
  },
  {
   "cell_type": "markdown",
   "id": "e112a891",
   "metadata": {},
   "source": [
    "***\n",
    "***\n",
    "\n",
    "#### Transforming the labels into lists\n",
    "\n",
    "The labels that indicated whether a company is an AI company in product creation or not is stored under the \"Relevance\" column of pandas dataframe. For further evaluation, it is necessary to convert this column to a list and store it in a variable.\n",
    "\n",
    "The Relevance labels for training and test datasets are transformed individually and stored in two separate variables"
   ]
  },
  {
   "cell_type": "code",
   "execution_count": 119,
   "id": "54c722d2",
   "metadata": {},
   "outputs": [],
   "source": [
    "# Convert the train and test output data to list.\n",
    "train_output = train_data['Relevance'].tolist()\n",
    "test_output = test_data['Relevance'].tolist()"
   ]
  },
  {
   "cell_type": "markdown",
   "id": "f3a7a52e",
   "metadata": {},
   "source": [
    "***\n",
    "***\n",
    "#### Model Fitting and Model Testing\n",
    "\n",
    "The code below tries to fit the various ML models on the training data and test it against the test dataset\n",
    "\n",
    "The transformed data of AI companies from the __training__ dataset using keywords extraction/topic modeling and the TF-IDF vectorizer is passed to the classification algorithm. We chose a supervised learning algorithm because, according to _Bhavani and Kumar_, supervised learning algorithms work best for text classification purposes. We fitted the training data to various algorithms such as SVM, Naive Bayes, Gradient Boosting,  ADA Boost, and Hist Gradient Boost. We chose SVM and Naive Bayes as they are the basic supervised learning algorithms to be tested for binary classification. SVM is more accurate and time-efficient. The other algorithms are boosting algorithms. These algorithms are said to be able to outperform simpler ML algorithms. Thus, we decided to try three of these boosting algorithms. These ML models are then tested, and one algorithm is selected for identifying new AI companies in product creation. \n",
    "\n",
    "The processed data of the AI companies from the __testing__ dataset using keywords extraction or topic modeling and the TF-IDF vectorizer is passed to the classification algorithm. Each trained model then outputs a prediction for all 60 companies passed to them. The output is in the form of a list with either 1 or 0 values. Value 1 means that the related company is an AI company in product creation. On the other hand, value 0 means that the AI company is not involved in product creation activity. The corresponding labels for the 60 AI companies stored in the pandas dataframe data structure were converted into a list in the previous step. This conversion is necessary to compare with the predicted values from the trained model as they are in list format. We further send both lists for evaluation of the trained model. After evaluating each trained model, we select a model for application on new AI companies. Section \\ref{sec:ML-model-selection} explains this selection process."
   ]
  },
  {
   "cell_type": "markdown",
   "id": "084f48f2",
   "metadata": {},
   "source": [
    "***\n",
    "#### SVM Classifier\n",
    "We fitted the SVM ML model below using the training datasets. Then, the model predicted for test dataset input and the prediction output was stored in the variable y_pred."
   ]
  },
  {
   "cell_type": "code",
   "execution_count": 120,
   "id": "eb64fb1a",
   "metadata": {},
   "outputs": [],
   "source": [
    "#Create a svm Classifier\n",
    "clf = svm.SVC(kernel='linear') # Linear Kernel\n",
    "\n",
    "#Train the model using the training sets\n",
    "clf.fit(train_input, train_output)\n",
    "\n",
    "#Predict the response for test dataset\n",
    "y_pred = clf.predict(test_input)"
   ]
  },
  {
   "cell_type": "markdown",
   "id": "a59aebaa",
   "metadata": {},
   "source": [
    "##### Print the statistics for SVM Classifier\n",
    "The following code calls the evaluation function defined previously for evaluating the SVM Model. Then, we created a confusion matrix for better understanding of the classified classes. "
   ]
  },
  {
   "cell_type": "code",
   "execution_count": 122,
   "id": "d73ad859",
   "metadata": {},
   "outputs": [
    {
     "name": "stdout",
     "output_type": "stream",
     "text": [
      "Accuracy: 0.8333333333333334\n",
      "Precision: 0.8472222222222221\n",
      "Recall: 0.8333333333333334\n",
      "F1 score: 0.8316498316498316\n"
     ]
    }
   ],
   "source": [
    "print_statistics(test_output,y_pred)"
   ]
  },
  {
   "cell_type": "code",
   "execution_count": 123,
   "id": "b5f72778",
   "metadata": {},
   "outputs": [
    {
     "data": {
      "image/png": "[encoded data removed]",
      "text/plain": [
       "<Figure size 640x480 with 2 Axes>"
      ]
     },
     "metadata": {},
     "output_type": "display_data"
    }
   ],
   "source": [
    "metrics.ConfusionMatrixDisplay.from_predictions(test_output,y_pred)\n",
    "plt.show()"
   ]
  },
  {
   "cell_type": "markdown",
   "id": "c7dfbeca",
   "metadata": {},
   "source": [
    "##### Record the parameters of ML model\n",
    "\n",
    "We used MLFlow for tracking the ML model with the set parameters and evaluated metrics. The below block of code stores the current run to mlruns folder."
   ]
  },
  {
   "cell_type": "code",
   "execution_count": 124,
   "id": "0c1ca32e",
   "metadata": {},
   "outputs": [],
   "source": [
    "with start_run(run_name=\"svm_exp1\") as run:\n",
    "    avg = 'weighted'\n",
    "    log_metric(\"Accuracy\", metrics.accuracy_score(test_output, y_pred))  \n",
    "    log_metric(\"Precision\",metrics.precision_score(test_output, y_pred, average=avg))\n",
    "    log_metric(\"Recall\",metrics.recall_score(test_output, y_pred, average=avg))\n",
    "    log_metric(\"F1 score\",metrics.f1_score(test_output, y_pred, average=avg))\n",
    "    log_param(\"keywords\", keywords)\n",
    "    log_param(\"topic_modelling\", topic_modelling)"
   ]
  },
  {
   "cell_type": "markdown",
   "id": "1c1fb63d",
   "metadata": {},
   "source": [
    "##### Saving the selected ML model to disk\n",
    "\n",
    "The following block of code stores the ML model and the vectorizor to the local disk using pickle Python module.\n",
    "\n",
    "__Note__: Uncomment the code only when a new ML model is selected based on new results. Do not uncomment before that."
   ]
  },
  {
   "cell_type": "code",
   "execution_count": 121,
   "id": "c1399786",
   "metadata": {},
   "outputs": [],
   "source": [
    "# save the model to disk\n",
    "\n",
    "# Code to be uncommented is below. Delete this line after uncommenting.\n",
    "#filename = '../pickle_files/finalized_model.sav'\n",
    "#pickle.dump(clf, open(filename, 'wb'))\n",
    "#pickle.dump(vectorizor, open('../pickle_files/vectorizer.sav', \"wb\"))"
   ]
  },
  {
   "cell_type": "markdown",
   "id": "5dcb4e28",
   "metadata": {},
   "source": [
    "***\n",
    "#### Naive Bayes Classifier\n",
    "\n",
    "We fitted the Naive Bayes Gaussian ML model below using the training datasets. Then, the model predicted for test dataset input and the prediction output was stored in the variable predicted."
   ]
  },
  {
   "cell_type": "code",
   "execution_count": 125,
   "id": "0dd542aa",
   "metadata": {},
   "outputs": [],
   "source": [
    "#Create a Gaussian Classifier\n",
    "model = GaussianNB()\n",
    "\n",
    "# Train the model using the training sets\n",
    "model.fit(train_input,train_output)\n",
    "\n",
    "#Predict Output\n",
    "predicted= model.predict(test_input)"
   ]
  },
  {
   "cell_type": "markdown",
   "id": "c6bacb94",
   "metadata": {},
   "source": [
    "\n",
    "##### Print the statistics for Naive Bayes Classifier\n",
    "The following code calls the evaluation function defined previously for evaluating the Naive Bayes Gaussian Model. Then, we created a confusion matrix for better understanding of the classified classes."
   ]
  },
  {
   "cell_type": "code",
   "execution_count": 126,
   "id": "50a2354b",
   "metadata": {},
   "outputs": [
    {
     "name": "stdout",
     "output_type": "stream",
     "text": [
      "Accuracy: 0.8\n",
      "Precision: 0.8125\n",
      "Recall: 0.8\n",
      "F1 score: 0.7979797979797979\n"
     ]
    }
   ],
   "source": [
    "print_statistics(test_output,predicted)"
   ]
  },
  {
   "cell_type": "code",
   "execution_count": 127,
   "id": "d4ad624b",
   "metadata": {},
   "outputs": [
    {
     "data": {
      "image/png": "[encoded data removed]",
      "text/plain": [
       "<Figure size 640x480 with 2 Axes>"
      ]
     },
     "metadata": {},
     "output_type": "display_data"
    }
   ],
   "source": [
    "metrics.ConfusionMatrixDisplay.from_predictions(test_output,predicted)\n",
    "plt.show()"
   ]
  },
  {
   "cell_type": "markdown",
   "id": "c356c0b5",
   "metadata": {},
   "source": [
    "##### Record the parameters of ML model\n",
    "We used MLFlow for tracking the ML model with the set parameters and evaluated metrics. The below block of code stores the current run to mlruns folder."
   ]
  },
  {
   "cell_type": "code",
   "execution_count": 128,
   "id": "3adeab4c",
   "metadata": {},
   "outputs": [],
   "source": [
    "with start_run(run_name=\"nb_exp1\") as run:\n",
    "    avg = 'weighted'\n",
    "    log_metric(\"Accuracy\", metrics.accuracy_score(test_output, predicted))  \n",
    "    log_metric(\"Precision\",metrics.precision_score(test_output, predicted, average=avg))\n",
    "    log_metric(\"Recall\",metrics.recall_score(test_output, predicted, average=avg))\n",
    "    log_metric(\"F1 score\",metrics.f1_score(test_output, predicted, average=avg))\n",
    "    log_param(\"keywords\", keywords)\n",
    "    log_param(\"topic_modelling\", topic_modelling)"
   ]
  },
  {
   "cell_type": "markdown",
   "id": "61a67419",
   "metadata": {},
   "source": [
    "***\n",
    "#### Gradient Boosting Classification\n",
    "\n",
    "We fitted the Gradient Boosting ML model below using the training datasets. Then, the model predicted for test dataset input and the prediction output was stored in the variable y_pred.\n",
    "\n",
    "Then, we evaluated the Gradient Boosting ML model by calling the evaluation function defined previously. We created a confusion matrix for better understanding of the classified classes.\n",
    "\n",
    "Finally, we used MLFlow for tracking the ML model with the set parameters and evaluated metrics. The current run is then stored to mlruns folder."
   ]
  },
  {
   "cell_type": "code",
   "execution_count": 129,
   "id": "2674f329",
   "metadata": {},
   "outputs": [
    {
     "name": "stdout",
     "output_type": "stream",
     "text": [
      "Accuracy: 0.7\n",
      "Precision: 0.7380952380952382\n",
      "Recall: 0.7\n",
      "F1 score: 0.6875\n"
     ]
    }
   ],
   "source": [
    "clf = GradientBoostingClassifier()\n",
    "clf.fit(train_input, train_output)  \n",
    "y_pred = clf.predict(test_input)\n",
    "print_statistics(test_output,y_pred)"
   ]
  },
  {
   "cell_type": "code",
   "execution_count": 130,
   "id": "0c33ad04",
   "metadata": {},
   "outputs": [
    {
     "data": {
      "image/png": "[encoded data removed]",
      "text/plain": [
       "<Figure size 640x480 with 2 Axes>"
      ]
     },
     "metadata": {},
     "output_type": "display_data"
    }
   ],
   "source": [
    "metrics.ConfusionMatrixDisplay.from_predictions(test_output,y_pred)\n",
    "plt.show()"
   ]
  },
  {
   "cell_type": "code",
   "execution_count": 131,
   "id": "bed1513f",
   "metadata": {},
   "outputs": [],
   "source": [
    "with start_run(run_name=\"gradbc_exp1\") as run:\n",
    "    avg = 'weighted'\n",
    "    log_metric(\"Accuracy\", metrics.accuracy_score(test_output, y_pred))  \n",
    "    log_metric(\"Precision\",metrics.precision_score(test_output, y_pred, average=avg))\n",
    "    log_metric(\"Recall\",metrics.recall_score(test_output, y_pred, average=avg))\n",
    "    log_metric(\"F1 score\",metrics.f1_score(test_output, y_pred, average=avg))\n",
    "    log_param(\"keywords\", keywords)\n",
    "    log_param(\"topic_modelling\", topic_modelling)"
   ]
  },
  {
   "cell_type": "markdown",
   "id": "4e3b8666",
   "metadata": {},
   "source": [
    "****\n",
    "#### ADA Boost Classification\n",
    "\n",
    "We fitted the ADA Boost ML model below using the training datasets. Then, the model predicted for test dataset input and the prediction output was stored in the variable y_pred.\n",
    "\n",
    "Then, we evaluated the ADA Boost ML model by calling the evaluation function defined previously. We created a confusion matrix for better understanding of the classified classes.\n",
    "\n",
    "Finally, we used MLFlow for tracking the ML model with the set parameters and evaluated metrics. The current run is then stored to mlruns folder."
   ]
  },
  {
   "cell_type": "code",
   "execution_count": 132,
   "id": "8c408f9d",
   "metadata": {},
   "outputs": [
    {
     "name": "stdout",
     "output_type": "stream",
     "text": [
      "Accuracy: 0.5833333333333334\n",
      "Precision: 0.6025991792065664\n",
      "Recall: 0.5833333333333334\n",
      "F1 score: 0.5628096764791606\n"
     ]
    }
   ],
   "source": [
    "clf = AdaBoostClassifier()\n",
    "clf.fit(train_input, train_output)  \n",
    "y_pred = clf.predict(test_input)\n",
    "print_statistics(test_output,y_pred)"
   ]
  },
  {
   "cell_type": "code",
   "execution_count": 133,
   "id": "068de022",
   "metadata": {},
   "outputs": [
    {
     "data": {
      "image/png": "[encoded data removed]",
      "text/plain": [
       "<Figure size 640x480 with 2 Axes>"
      ]
     },
     "metadata": {},
     "output_type": "display_data"
    }
   ],
   "source": [
    "metrics.ConfusionMatrixDisplay.from_predictions(test_output,y_pred)\n",
    "plt.show()"
   ]
  },
  {
   "cell_type": "code",
   "execution_count": 134,
   "id": "3c4e5d4a",
   "metadata": {},
   "outputs": [],
   "source": [
    "with start_run(run_name=\"ada_exp1\") as run:\n",
    "    avg = 'weighted'\n",
    "    log_metric(\"Accuracy\", metrics.accuracy_score(test_output, y_pred))  \n",
    "    log_metric(\"Precision\",metrics.precision_score(test_output, y_pred, average=avg))\n",
    "    log_metric(\"Recall\",metrics.recall_score(test_output, y_pred, average=avg))\n",
    "    log_metric(\"F1 score\",metrics.f1_score(test_output, y_pred, average=avg))\n",
    "    log_param(\"keywords\", keywords)\n",
    "    log_param(\"topic_modelling\", topic_modelling)"
   ]
  },
  {
   "cell_type": "markdown",
   "id": "66dae202",
   "metadata": {},
   "source": [
    "***\n",
    "#### Hist Gradient Boost Classification\n",
    "\n",
    "We fitted the Hist Gradient Boost ML model below using the training datasets. Then, the model predicted for test dataset input and the prediction output was stored in the variable y_pred.\n",
    "\n",
    "Then, we evaluated the Hist Gradient Boost ML model by calling the evaluation function defined previously. We created a confusion matrix for better understanding of the classified classes.\n",
    "\n",
    "Finally, we used MLFlow for tracking the ML model with the set parameters and evaluated metrics. The current run is then stored to mlruns folder."
   ]
  },
  {
   "cell_type": "code",
   "execution_count": 37,
   "id": "57e0408c",
   "metadata": {},
   "outputs": [
    {
     "name": "stdout",
     "output_type": "stream",
     "text": [
      "Accuracy: 0.8\n",
      "Precision: 0.8013392857142857\n",
      "Recall: 0.8\n",
      "F1 score: 0.799777530589544\n"
     ]
    }
   ],
   "source": [
    "clf = HistGradientBoostingClassifier()\n",
    "clf.fit(train_input, train_output)  \n",
    "y_pred = clf.predict(test_input)\n",
    "print_statistics(test_output,y_pred)"
   ]
  },
  {
   "cell_type": "code",
   "execution_count": 39,
   "id": "fc4a655e",
   "metadata": {},
   "outputs": [
    {
     "data": {
      "image/png": "[encoded data removed]",
      "text/plain": [
       "<Figure size 640x480 with 2 Axes>"
      ]
     },
     "metadata": {},
     "output_type": "display_data"
    }
   ],
   "source": [
    "metrics.ConfusionMatrixDisplay.from_predictions(test_output,y_pred)\n",
    "plt.show()"
   ]
  },
  {
   "cell_type": "code",
   "execution_count": 38,
   "id": "91fb8b5e",
   "metadata": {},
   "outputs": [],
   "source": [
    "with start_run(run_name=\"hist_exp1\") as run:\n",
    "    avg = 'weighted'\n",
    "    log_metric(\"Accuracy\", metrics.accuracy_score(test_output, y_pred))  \n",
    "    log_metric(\"Precision\",metrics.precision_score(test_output, y_pred, average=avg))\n",
    "    log_metric(\"Recall\",metrics.recall_score(test_output, y_pred, average=avg))\n",
    "    log_metric(\"F1 score\",metrics.f1_score(test_output, y_pred, average=avg))\n",
    "    log_param(\"keywords\", keywords)\n",
    "    log_param(\"topic_modelling\", topic_modelling)"
   ]
  },
  {
   "cell_type": "markdown",
   "id": "ce9348c6",
   "metadata": {},
   "source": [
    "***\n",
    "***\n",
    "### Structuring Using Clustering Method\n",
    "\n",
    "We need to understand which activities better represent the product creation process. We used the cycles described in the product creation process as our initial clusters. It is difficult to differentiate between product and service development companies, so we combined these two cycles in one cluster. Thus, three main clusters represent the product creation activities: Strategic Product Planning, Product & Service Development, and Production System Development. Each of these clusters are then filled with a list of activities performed under them.\n",
    "\n",
    "We added sub-clusters to our structure to make it easier for businesses to locate AI firms that meet their needs in product creation. We divided each main cluster into further sub-clusters. Sub-clusters for Strategic Product Planning included Market Analysis, Idea Generation, Technology Analysis, and Product Management. Testing, Product Design, and Requirements Management formed the sub-clusters for the Product & Service Development main cluster. Production System Development included Production System Planning and Production System Implementation as sub-clusters. Each of these sub-clusters had a list of activities performed under them."
   ]
  },
  {
   "cell_type": "markdown",
   "id": "47b66560",
   "metadata": {},
   "source": [
    "#### Store keywords for main clusters\n",
    "\n",
    "Here, we have three main clusters. The keywords for each cluster is stored in a variable:\n",
    "\n",
    "Strategic Product Planning Cluster =  strategic_product_planning Variable\n",
    "\n",
    "Product & Service Development Cluster = product_development Variable\n",
    "\n",
    "Production System Development Cluster = production_system_development Variable"
   ]
  },
  {
   "cell_type": "code",
   "execution_count": 54,
   "id": "5165bef2",
   "metadata": {},
   "outputs": [],
   "source": [
    "# Cluster keywords\n",
    "\n",
    "strategic_product_planning = [\"Patent Analysis, customer data analysis, strategic data analysis,\" \n",
    "                              \"market analysis, competitor analysis,\"\n",
    "                             \"value chain, customer analysis, ideation,\"\n",
    "                             \"innovation, product monitoring, forecasting, company scouting,\"\n",
    "                             \"customer behaviour analysis, customer behavior analysis,\"\n",
    "                             \"product management, foresight, trend management,\"\n",
    "                             \"technology management, market analysis, idea generation, product generation,\"\n",
    "                             \"product release planning,\"\n",
    "                             \"trend scouting, technology scouting, technology and startup scouting, innovation management,\"\n",
    "                             \"environmental scanning, customer segmentation, innovation scanning\"]\n",
    "\n",
    "product_development = [\"Software testing, Product design, Simulation, material selection, product testing, systems engineering\"\n",
    "                       \"virtual product testing, electronic concept development, testing, Testing and validation, verfication and validation\"\n",
    "                       \"requirements, bill of material validation, requirements management, requirement management\"\n",
    "                       \"quality management, similarity search, Product Development, generative design,\"\n",
    "                       \"feasability testing, circuit board design, schematics design,\"\n",
    "                       \"Early validation, Anomaly detection and monitoring, product design algorithms, Data annotation\"\n",
    "                       \"Stakeholder requirements, Mechanical requirements, Electronic requirements,\"\n",
    "                       \"Software requirements, Product features, Product Integration, product specification\"]\n",
    "\n",
    "production_system_development = [\"Anomaly detection and monitoring, Production / manufacturing,\"\n",
    "                                 \"Production  system development, Production planning, Supply chain management,\"\n",
    "                                 \"material selection, quality management, factory planning, factory layout planning,\"\n",
    "                                 \"plan logistics, plan production system, production system architecture,\"\n",
    "                                 \"resource planning, workflow planning, material flow planning,\"\n",
    "                                 \"material flow optimization, material flow design, validate production system,\"\n",
    "                                 \"test production system, integrate production system, design of factories\"]"
   ]
  },
  {
   "cell_type": "markdown",
   "id": "073ad5bb",
   "metadata": {},
   "source": [
    "***\n",
    "#### Store keywords for the sub-clusters of main cluster = \"strategic_product_planning\"\n",
    "\n",
    "Here we have defined keywords for sub-clusters of the main cluster - __Strategic Product Planning__"
   ]
  },
  {
   "cell_type": "code",
   "execution_count": 55,
   "id": "df42ba2d",
   "metadata": {},
   "outputs": [],
   "source": [
    "idea_generation = [\"ideation, innovation, idea generation, innovation management, identify unmet needs or gaps,\"\n",
    "                   \"input and feedback on current products, ideas for new products, Combining ideas,\"\n",
    "                   \"identify opportunities for new products or product improvements,  innovative product ideas,\"\n",
    "                   \"solutions in the form of new products, generate ideas, brainstorming, wide range of ideas,\"\n",
    "                   \"breakthrough inventions, Invention Platform, creation of inventions, process innovation,\"\n",
    "                   \"bring new products to market, new product discovery\"]\n",
    "\n",
    "market_analysis = [\"Customer ( data ) analysis, competitor analysis, customer analysis, Market share, Market size,\"\n",
    "                    \"customer behaviour analysis, market analysis, environmental scanning, customer segmentation,\"\n",
    "                    \"Patent Analysis, examining the products and strategies of competitors, Marketing campaigns,\" \n",
    "                    \"identify opportunities and potential threats, tracking and analyzing current and emerging trends,\"\n",
    "                    \"company scouting, identifying and understanding the needs and desires of potential customers\"\n",
    "                    \"customer data analysis, strategic data analysis, Market research, Market segmentation, Market trends\"\n",
    "                    \"Customer demographics, Customer behavior, Market saturation, Market penetration, Market opportunity\"\n",
    "                    \"Pricing strategy, Distribution channels, Marketing campaigns\"]\n",
    "\n",
    "technology_analysis = [\"trend scouting, technology scouting, technology and startup scouting, Technology analysis,\"\n",
    "                        \"Global network of technology scouts, product scouting, Technology assessment, Technology roadmap\"\n",
    "                        \"innovation scanning, environmental scanning, foresight, technology trends, Technology forecasting\"\n",
    "                        \"technology management, foresight, forecasting, trend management, Technology innovation\"\n",
    "                        \"Technology evaluation, Technology selection, Technology integration, Technology standards\"]\n",
    "\n",
    "product_management = [\"product development, product monitoring, product management,\"\n",
    "                       \"value chain, outlines vision,\"\n",
    "                       \"product strategy, product stages, product features, product functionality, product planning,\"\n",
    "                       \"feature description, product vision, Product management software,\"\n",
    "                       \"plan product release\"]"
   ]
  },
  {
   "cell_type": "markdown",
   "id": "2b311da6",
   "metadata": {},
   "source": [
    "***\n",
    "#### Store keywords for the sub-clusters of main cluster = \"product_development\"\n",
    "\n",
    "Here we have defined keywords for sub-clusters of the main cluster - Product & Service Development"
   ]
  },
  {
   "cell_type": "code",
   "execution_count": 56,
   "id": "1716d117",
   "metadata": {},
   "outputs": [],
   "source": [
    "testing = [\"Software testing, virtual product testing, testing, Testing and validation, feasability testing\"\n",
    "           \"Early validation, product testing, carry out trials on, put to the test, check, examine,\"\n",
    "           \"assess, evaluate, try out, investigate, trial and error, verification, fmea, failure mode and effect analysis,\"\n",
    "           \"Test plan, Test case, Test suite, Test automation, Manual testing, Regression testing, Integration testing,\"\n",
    "           \"User acceptance testing (UAT), Load testing, Performance testing, Functional testing, Non-functional testing,\"\n",
    "           \"Quality assurance (QA), Test coverage, Test execution, Defect tracking, Bug reporting, Test data,\"\n",
    "           \"Test environment\"]\n",
    "\n",
    "product_design = [\"Product design, material selection, generative design, schematics design, Design validation,\"\n",
    "                  \"circuit board design, product design algorithms, Product features, Product Integration, similarity search\"\n",
    "                  \"Prototype, Industrial design, User-centered design, Design thinking, Sketching, 3D modeling\"]\n",
    "\n",
    "requirements_management = [\"Requirements gathering, requirements, bill of material validation, requirements management,\"\n",
    "                           \"quality management, Stakeholder requirements, Mechanical requirements,\"\n",
    "                           \"Electronic requirements, Software requirements, Requirements elicitation\"\n",
    "                           \"Requirements analysis, Requirements documentation, Requirements traceability\"]"
   ]
  },
  {
   "cell_type": "markdown",
   "id": "fb2e3ac9",
   "metadata": {},
   "source": [
    "***\n",
    "#### Store keywords for the sub-clusters of main cluster = \"production_system_development\"\n",
    "\n",
    "Here we have defined keywords for sub-clusters of the main cluster - Production System Development"
   ]
  },
  {
   "cell_type": "code",
   "execution_count": 57,
   "id": "a44de592",
   "metadata": {},
   "outputs": [],
   "source": [
    "production_system_planning = [\"Production / manufacturing, Production planning, Supply chain management, reduce waste,\"\n",
    "                        \"material selection, quality management, factory planning, factory layout planning,\"\n",
    "                        \"plan logistics, plan production system, production system architecture, design of factories\"\n",
    "                        \"resource planning, workflow planning, material flow planning, improve quality, Capacity utilization,\"\n",
    "                        \"material flow optimization, material flow design, Process improvement, increase efficiency\"\n",
    "                        \"Inventory management, Workflow management, Workforce training\"]\n",
    "production_system_implementation = [\"Anomaly detection and monitoring, validate production system, test production system,\"\n",
    "               \"integrate production system, Preventive maintenance, regular maintenance tasks,\"\n",
    "               \"inspections and repairs, prevent equipment failures, prevent breakdowns, Predictive maintenance\"\n",
    "               \"Maintenance management, maintenance of equipment, maintenance of facilities, creating maintenance tasks,\"\n",
    "               \"scheduling maintenance tasks, completing maintenance tasks, Root cause analysis,\"\n",
    "               \"managing the inventory of spare parts, Operational efficiency, Quality control,\"\n",
    "               \"Standardization, Automation, Lean manufacturing, Performance monitoring\"]"
   ]
  },
  {
   "cell_type": "markdown",
   "id": "e21f943c",
   "metadata": {},
   "source": [
    "***\n",
    "#### Functions:\n",
    "\n",
    "We define some functions here that are used for the further structuring process\n",
    "\n",
    "\n",
    "#### 1) Converting the cycle names to lower case\n",
    "The name of cycles are required to be converted to lowercase. The following function returns the lowercase version of the cycle name passed to it."
   ]
  },
  {
   "cell_type": "code",
   "execution_count": 40,
   "id": "399916ec",
   "metadata": {},
   "outputs": [],
   "source": [
    "def lower_case(cycle):\n",
    "    if isinstance(cycle, str):\n",
    "        return cycle.lower()"
   ]
  },
  {
   "cell_type": "markdown",
   "id": "5e5b5906",
   "metadata": {},
   "source": [
    "#### 2) Extract cycle labels\n",
    "\n",
    "Extract cycle labels for classification purpose: Unique labels are extracted such as \"Strategic Product Planning\", \"Product Development\" and \"Production System Development\" and converted to unique numbers such as:\n",
    "\n",
    "{'strategic product planning': 0,\n",
    " 'product development': 1,\n",
    " None: 2,\n",
    " 'production systems development': 3}"
   ]
  },
  {
   "cell_type": "code",
   "execution_count": 42,
   "id": "4cc755a8",
   "metadata": {},
   "outputs": [],
   "source": [
    "def extract_possible_labels(data):\n",
    "    possible_labels = data.unique()\n",
    "\n",
    "    label_dict = {}\n",
    "    for index, possible_label in enumerate(possible_labels):\n",
    "        label_dict[possible_label] = index\n",
    "    return label_dict"
   ]
  },
  {
   "cell_type": "markdown",
   "id": "f2eefc71",
   "metadata": {},
   "source": [
    "#### Find cosine similarity between vectors\n",
    "\n",
    "The following function finds and returns the cosine similarity score between the two vectors passed to it. "
   ]
  },
  {
   "cell_type": "code",
   "execution_count": 65,
   "id": "1e2d7b64",
   "metadata": {},
   "outputs": [],
   "source": [
    "def find_cosine_sim(vector1,vector2):\n",
    "    return(cosine_similarity(vector1.reshape(1, -1),vector2.reshape(1, -1))[0][0])"
   ]
  },
  {
   "cell_type": "markdown",
   "id": "6b4b4a29",
   "metadata": {},
   "source": [
    "#### Find the maximum score among the cosine similarities\n",
    "\n",
    "The following function finds the cosine similarity score which is maximum out of the scores passed to it. The scores are passed in form of a list to the function"
   ]
  },
  {
   "cell_type": "code",
   "execution_count": 66,
   "id": "f939dc5c",
   "metadata": {},
   "outputs": [],
   "source": [
    "def cycle_result(list1):\n",
    "    maximum = max(list1)\n",
    "    return list1.index(maximum)"
   ]
  },
  {
   "cell_type": "markdown",
   "id": "39249f64",
   "metadata": {},
   "source": [
    "***\n",
    "#### Processing steps\n",
    "\n",
    "We defined below some processing steps that are required before finding the clusters and sub-clusters"
   ]
  },
  {
   "cell_type": "markdown",
   "id": "c51123dd",
   "metadata": {},
   "source": [
    "#### Clean the stored keywords of clusters & sub-clusters and store it in variables\n",
    "\n",
    "The following blocks of code calls the clean_text function defined at the start of this document for cleaning purposes. Each main cluster and sub-cluster is cleaned and store in a separate variable"
   ]
  },
  {
   "cell_type": "code",
   "execution_count": 58,
   "id": "992a2b97",
   "metadata": {},
   "outputs": [],
   "source": [
    "strategic_product_planning_clean_text = clean_text(''.join(strategic_product_planning))\n",
    "product_development_clean_text = clean_text(''.join(product_development))\n",
    "production_system_development_clean_text = clean_text(''.join(production_system_development))"
   ]
  },
  {
   "cell_type": "code",
   "execution_count": 59,
   "id": "383eb388",
   "metadata": {},
   "outputs": [],
   "source": [
    "idea_generation_clean_text = clean_text(''.join(idea_generation))\n",
    "market_analysis_clean_text = clean_text(''.join(market_analysis))\n",
    "technology_analysis_clean_text = clean_text(''.join(technology_analysis))\n",
    "product_management_clean_text = clean_text(''.join(product_management))"
   ]
  },
  {
   "cell_type": "code",
   "execution_count": 60,
   "id": "0de10757",
   "metadata": {},
   "outputs": [],
   "source": [
    "testing_clean_text = clean_text(''.join(testing))\n",
    "product_design_clean_text = clean_text(''.join(product_design))\n",
    "requirements_management_clean_text = clean_text(''.join(requirements_management))"
   ]
  },
  {
   "cell_type": "code",
   "execution_count": 62,
   "id": "5d552908",
   "metadata": {},
   "outputs": [],
   "source": [
    "production_system_planning_clean_text = clean_text(''.join(production_system_planning))\n",
    "production_system_implementation_clean_text = clean_text(''.join(production_system_implementation))"
   ]
  },
  {
   "cell_type": "markdown",
   "id": "a174bec3",
   "metadata": {},
   "source": [
    "\n",
    "#### Embed the main-cluster and their sub-clusters with sentence transformers\n",
    "\n",
    "A sentence transformers is a Python framework for cutting-edge embeddings of sentences, texts, and images. Applications like semantic search, clustering, and retrieval are made possible because texts are embedded in a vector space so that comparable texts are adjacent to one another. We used the Hugging Face's all-MiniLM-L6-v2 {https://huggingface.co/sentence-transformers/all-MiniLM-L6-v2} to embed the cleaned data of each cluster. We used this specific transform because it can transform sentences and paragraphs into 384-dimensional dense vector space and has applications in clustering and semantic search."
   ]
  },
  {
   "cell_type": "code",
   "execution_count": 63,
   "id": "93d34784",
   "metadata": {},
   "outputs": [],
   "source": [
    "#initialize the model\n",
    "#model = SentenceTransformer('bert-base-nli-mean-tokens')\n",
    "model = SentenceTransformer('all-MiniLM-L6-v2')\n",
    "\n",
    "#encode main cluster sentences\n",
    "strategic_product_planning_embeddings = model.encode(strategic_product_planning_clean_text)\n",
    "product_development_embeddings = model.encode(product_development_clean_text)\n",
    "production_system_development_embeddings = model.encode(production_system_development_clean_text)\n",
    "\n",
    "# encode sub cluster strategy product planning \n",
    "idea_generation_embeddings = model.encode(idea_generation_clean_text)\n",
    "market_analysis_embeddings = model.encode(market_analysis_clean_text)\n",
    "technology_analysis_embeddings = model.encode(technology_analysis_clean_text)\n",
    "product_management_embeddings = model.encode(product_management_clean_text)\n",
    "\n",
    "# encode sub cluster product development\n",
    "testing_embeddings = model.encode(testing_clean_text)\n",
    "product_design_embeddings = model.encode(product_design_clean_text)\n",
    "requirements_management_embeddings = model.encode(requirements_management_clean_text)\n",
    "\n",
    "# encode sub cluster production system development\n",
    "production_system_planning_embeddings = model.encode(production_system_planning_clean_text)\n",
    "production_system_implementation_embeddings = model.encode(production_system_implementation_clean_text)"
   ]
  },
  {
   "cell_type": "markdown",
   "id": "a3aa2c22",
   "metadata": {},
   "source": [
    "\n",
    "#### Save the embeded clusters onto local machine\n",
    "\n",
    "We locally save each cluster's embedding using Python's _pickle_ module. This is done so that it can be used by other python or jupyter files where we want to structure the AI companies"
   ]
  },
  {
   "cell_type": "code",
   "execution_count": 64,
   "id": "bb778b4a",
   "metadata": {},
   "outputs": [],
   "source": [
    "# save the main clusters embeddings to disk\n",
    "pickle.dump(strategic_product_planning_embeddings, open('../pickle_files/spp_embeddings.sav', 'wb'))\n",
    "pickle.dump(product_development_embeddings, open('../pickle_files/pd_embeddings.sav', \"wb\"))\n",
    "pickle.dump(production_system_development_embeddings, open('../pickle_files/psd_embeddings.sav', \"wb\"))\n",
    "\n",
    "# save the sub cluster strategy product planning embeddings to disk\n",
    "pickle.dump(idea_generation_embeddings, open('../pickle_files/idea_generation_embeddings.sav', 'wb'))\n",
    "pickle.dump(market_analysis_embeddings, open('../pickle_files/market_analysis_embeddings.sav', \"wb\"))\n",
    "pickle.dump(technology_analysis_embeddings, open('../pickle_files/technology_analysis_embeddings.sav', \"wb\"))\n",
    "pickle.dump(product_management_embeddings, open('../pickle_files/product_management_embeddings.sav', \"wb\"))\n",
    "\n",
    "# save the sub cluster product development embeddings to disk\n",
    "pickle.dump(testing_embeddings, open('../pickle_files/testing_embeddings.sav', 'wb'))\n",
    "pickle.dump(product_design_embeddings, open('../pickle_files/product_design_embeddings.sav', \"wb\"))\n",
    "pickle.dump(requirements_management_embeddings, open('../pickle_files/requirements_management_embeddings.sav', \"wb\"))\n",
    "\n",
    "# save the sub cluster production system development embeddings to disk\n",
    "pickle.dump(production_system_planning_embeddings, open('../pickle_files/production_system_planning_embeddings.sav', 'wb'))\n",
    "pickle.dump(production_system_implementation_embeddings, open('../pickle_files/production_system_implementation_embeddings.sav', \"wb\"))"
   ]
  },
  {
   "cell_type": "markdown",
   "id": "f9f59af0",
   "metadata": {},
   "source": [
    "#### Extract keywords from collected data from the web\n",
    "\n",
    "The webdata of the product creation companies from AI Marketplace database is used for extracting keywords in this step. It is done by passing the webdata to the extract_keywords function defined before. The extracted keywords are then stored in the same pandas dataframe defined for product creation companies before in the code, under the column named \"Keywords\"."
   ]
  },
  {
   "cell_type": "code",
   "execution_count": 43,
   "id": "c91036bc",
   "metadata": {
    "scrolled": true
   },
   "outputs": [
    {
     "name": "stderr",
     "output_type": "stream",
     "text": [
      "C:\\Users\\Chaitali Bagwe\\AppData\\Local\\Temp\\ipykernel_13844\\411783719.py:1: SettingWithCopyWarning: \n",
      "A value is trying to be set on a copy of a slice from a DataFrame.\n",
      "Try using .loc[row_indexer,col_indexer] = value instead\n",
      "\n",
      "See the caveats in the documentation: https://pandas.pydata.org/pandas-docs/stable/user_guide/indexing.html#returning-a-view-versus-a-copy\n",
      "  prod_engg_data[\"Keywords\"] = prod_engg_data[\"WebData\"].apply(extract_keywords)\n"
     ]
    }
   ],
   "source": [
    "prod_engg_data[\"Keywords\"] = prod_engg_data[\"WebData\"].apply(extract_keywords)"
   ]
  },
  {
   "cell_type": "markdown",
   "id": "06d815a1",
   "metadata": {},
   "source": [
    "#### Make the cycles labels to lowercase\n",
    "\n",
    "The cycles defined for these AI companies in product creation are converted into lowercase by calling the function lower_case defined before. The result of this function is stored back to the \"Cycles\" column of the same pandas dataframe"
   ]
  },
  {
   "cell_type": "code",
   "execution_count": 44,
   "id": "e0e1b78a",
   "metadata": {
    "scrolled": false
   },
   "outputs": [
    {
     "name": "stderr",
     "output_type": "stream",
     "text": [
      "C:\\Users\\Chaitali Bagwe\\AppData\\Local\\Temp\\ipykernel_13844\\2272540723.py:1: SettingWithCopyWarning: \n",
      "A value is trying to be set on a copy of a slice from a DataFrame.\n",
      "Try using .loc[row_indexer,col_indexer] = value instead\n",
      "\n",
      "See the caveats in the documentation: https://pandas.pydata.org/pandas-docs/stable/user_guide/indexing.html#returning-a-view-versus-a-copy\n",
      "  prod_engg_data['Cycles'] = prod_engg_data['Cycles'].apply(lower_case)\n"
     ]
    }
   ],
   "source": [
    "prod_engg_data['Cycles'] = prod_engg_data['Cycles'].apply(lower_case)"
   ]
  },
  {
   "cell_type": "markdown",
   "id": "794e8e0b",
   "metadata": {},
   "source": [
    "#### Store the converted cycles numbers in the dataframe\n",
    "\n",
    "We define unique labels for the product creation cycles and store it back in the pandas dataframe under the column \"label\".\n",
    "\n",
    "The unique labels for each cycle are:\n",
    "\n",
    "'strategic product planning': 0,\n",
    "'product development': 1,\n",
    "None: 2,\n",
    "'production systems development': 3\n",
    "\n",
    "It is important to note that there was one company which did not had any cycle defined for it. Hence, we have a \"None\" value with label 2 defined for it."
   ]
  },
  {
   "cell_type": "code",
   "execution_count": 46,
   "id": "9ce3ec14",
   "metadata": {
    "scrolled": false
   },
   "outputs": [
    {
     "data": {
      "text/plain": [
       "{'strategic product planning': 0,\n",
       " 'product development': 1,\n",
       " None: 2,\n",
       " 'production systems development': 3}"
      ]
     },
     "execution_count": 46,
     "metadata": {},
     "output_type": "execute_result"
    }
   ],
   "source": [
    "prod_engg_data_dict = extract_possible_labels(prod_engg_data.Cycles)\n",
    "prod_engg_data['label'] = prod_engg_data.Cycles.replace(prod_engg_data_dict)\n",
    "prod_engg_data_dict"
   ]
  },
  {
   "cell_type": "markdown",
   "id": "bbf46ebd",
   "metadata": {},
   "source": [
    "#### Initialize arrays to store main clusters and sub clusters.\n",
    "\n",
    "We initialized two arrays to store the predicted main clusters and sub clusters.\n",
    "\n",
    "We also defined three more arrays. Each array correspond to the main cluster label and each has the sub-clusters names stored inside it. These arrays are used for finding a sub-cluster, once we have found the main-cluster ahead."
   ]
  },
  {
   "cell_type": "code",
   "execution_count": 78,
   "id": "f7bd33f1",
   "metadata": {},
   "outputs": [],
   "source": [
    "predicted_labels = []\n",
    "sub_cluster_labels = []\n",
    "\n",
    "sub_cluster0 = [\"Idea Generation\", \"Market Analysis\", \"Technology Analysis\", \"Product Management\"]\n",
    "sub_cluster1 = [\"Testing\", \"Product Design\", \"Requirements Management\"]\n",
    "sub_cluster3 = [\"Production System Planning\", \"Production System Implementation\"]"
   ]
  },
  {
   "cell_type": "markdown",
   "id": "1c0cbfc7",
   "metadata": {},
   "source": [
    "#### Structuring the AI companies\n",
    "\n",
    "The following block of code is the used for structuring the AI companies in product creation.\n",
    "\n",
    "1) We embed the AI company's keywords using the same sentence transformer.\n",
    "\n",
    "2) We calculated the cosine similarity scores between the embedding of an AI product creation company and each main cluster's embedding. Thus we get three scores as we have three main clusters.\n",
    "\n",
    "3) We find the maximum of these scores and declare the corresponding main cluster as the main cluster of that AI product creation company. \n",
    "\n",
    "4) Once we know the main cluster of an AI product creation company, we calculate the similarity scores between each sub-cluster embedding of that main cluster and the embedding of the AI product creation company. For example, if we know that an AI product creation company belongs to Strategic Product Planning main cluster, we will calculate the similarity scores of only the four sub-clusters under this main cluster. \n",
    "\n",
    "5) The cosine similarity scores of these sub-clusters are then compared, and the sub-cluster with the maximum score is selected as our sub-cluster for that particular AI product creation company. \n",
    "\n",
    "6) The predicted main cluster and sub-cluster is stored in the two empty arrays defined in the above block of code.\n",
    "\n",
    "7) Step 1 to 6 is repeated for each AI product creation company from the AI Marketplace database."
   ]
  },
  {
   "cell_type": "code",
   "execution_count": null,
   "id": "b143d0a0",
   "metadata": {},
   "outputs": [],
   "source": [
    "for index, row in prod_engg_data.iterrows():\n",
    "    \n",
    "    # embed the company's keyword with sentence transformer\n",
    "    data_emebeddings = model.encode(row[\"Keywords\"])\n",
    "    \n",
    "    # Find the predicted main cluster with cosine similarity\n",
    "    list1=[ find_cosine_sim(strategic_product_planning_embeddings, data_emebeddings),\n",
    "            find_cosine_sim(product_development_embeddings, data_emebeddings),\n",
    "            find_cosine_sim(production_system_development_embeddings, data_emebeddings)]\n",
    "    list1.insert(2,-1)\n",
    "    main_cluster = cycle_result(list1)\n",
    "    \n",
    "    # If main cluster = \"strategic product planning\", search for sub-clusters from sub_cluster0\n",
    "    if main_cluster == 0:\n",
    "        list2 = [find_cosine_sim(idea_generation_embeddings, data_emebeddings),\n",
    "            find_cosine_sim(market_analysis_embeddings, data_emebeddings),\n",
    "            find_cosine_sim(technology_analysis_embeddings, data_emebeddings),\n",
    "            find_cosine_sim(product_management_embeddings, data_emebeddings)]\n",
    "        sub_cluster = sub_cluster0[cycle_result(list2)]\n",
    "        \n",
    "    # If main cluster = \"product development\", search for sub-clusters from sub_cluster0\n",
    "    elif main_cluster == 1:\n",
    "        list2 = [find_cosine_sim(testing_embeddings, data_emebeddings),\n",
    "            find_cosine_sim(product_design_embeddings, data_emebeddings),\n",
    "            find_cosine_sim(requirements_management_embeddings, data_emebeddings)]\n",
    "        sub_cluster = sub_cluster1[cycle_result(list2)]\n",
    "    \n",
    "    # If main cluster = \"production system development\", search for sub-clusters from sub_cluster0\n",
    "    elif main_cluster == 3:\n",
    "        list2 = [find_cosine_sim(production_system_planning_embeddings, data_emebeddings),\n",
    "            find_cosine_sim(production_system_implementation_embeddings, data_emebeddings)]\n",
    "        sub_cluster = sub_cluster3[cycle_result(list2)]\n",
    "        \n",
    "    # If main_cluster = \"None\"\n",
    "    else:\n",
    "        sub_cluster = \"None\"\n",
    "       \n",
    "    # Store the predicted clusters into the initialised lists before\n",
    "    predicted_labels.append(main_cluster)\n",
    "    sub_cluster_labels.append(sub_cluster)    "
   ]
  },
  {
   "cell_type": "markdown",
   "id": "e5467a00",
   "metadata": {},
   "source": [
    "***\n",
    "#### Testing the found main clusters\n",
    "\n",
    "For testing purpose, we again transform the \"label\" data from the pandas dataframe to list as our output is stored inside a list.\n",
    "\n",
    "We evaluated only the main clusters of each AI product creation company using evaluation metrics defined before. We also created a confusion matrix to understand which cluster is being structured incorrectly."
   ]
  },
  {
   "cell_type": "code",
   "execution_count": 80,
   "id": "e28729fa",
   "metadata": {},
   "outputs": [],
   "source": [
    " test_data = prod_engg_data['label'].tolist()"
   ]
  },
  {
   "cell_type": "markdown",
   "id": "f7af3cb3",
   "metadata": {},
   "source": [
    "#### Display the confusion matrix"
   ]
  },
  {
   "cell_type": "code",
   "execution_count": 81,
   "id": "2284a143",
   "metadata": {},
   "outputs": [
    {
     "data": {
      "image/png": "[encoded data removed]",
      "text/plain": [
       "<Figure size 640x480 with 2 Axes>"
      ]
     },
     "metadata": {},
     "output_type": "display_data"
    }
   ],
   "source": [
    "metrics.ConfusionMatrixDisplay.from_predictions(test_data,predicted_labels)\n",
    "plt.show()"
   ]
  },
  {
   "cell_type": "markdown",
   "id": "318a4a96",
   "metadata": {},
   "source": [
    "#### Print the statistics for predicted clusters"
   ]
  },
  {
   "cell_type": "code",
   "execution_count": 82,
   "id": "eac04e76",
   "metadata": {},
   "outputs": [
    {
     "name": "stdout",
     "output_type": "stream",
     "text": [
      "Accuracy: 0.82\n",
      "Precision: 0.8496673387096775\n",
      "Recall: 0.82\n",
      "F1 score: 0.8126445432774545\n"
     ]
    },
    {
     "name": "stderr",
     "output_type": "stream",
     "text": [
      "c:\\users\\chaitali bagwe\\appdata\\local\\programs\\python\\python38\\lib\\site-packages\\sklearn\\metrics\\_classification.py:1334: UndefinedMetricWarning: Precision is ill-defined and being set to 0.0 in labels with no predicted samples. Use `zero_division` parameter to control this behavior.\n",
      "  _warn_prf(average, modifier, msg_start, len(result))\n"
     ]
    }
   ],
   "source": [
    "print_statistics(test_data,predicted_labels)"
   ]
  },
  {
   "cell_type": "markdown",
   "id": "9768a250",
   "metadata": {},
   "source": [
    "***\n",
    "#### Store the predicted main clusters and sub clusters in dataframe\n",
    "\n",
    "We store the predicted main clusters and sub-clusters in the pandas dataframe under the columns \"Prediction\" and \"SubCluster\" respectively."
   ]
  },
  {
   "cell_type": "code",
   "execution_count": 83,
   "id": "f94361fe",
   "metadata": {},
   "outputs": [
    {
     "name": "stderr",
     "output_type": "stream",
     "text": [
      "C:\\Users\\Chaitali Bagwe\\AppData\\Local\\Temp\\ipykernel_13844\\202165456.py:1: SettingWithCopyWarning: \n",
      "A value is trying to be set on a copy of a slice from a DataFrame.\n",
      "Try using .loc[row_indexer,col_indexer] = value instead\n",
      "\n",
      "See the caveats in the documentation: https://pandas.pydata.org/pandas-docs/stable/user_guide/indexing.html#returning-a-view-versus-a-copy\n",
      "  prod_engg_data['Prediction'] = predicted_labels\n",
      "C:\\Users\\Chaitali Bagwe\\AppData\\Local\\Temp\\ipykernel_13844\\202165456.py:2: SettingWithCopyWarning: \n",
      "A value is trying to be set on a copy of a slice from a DataFrame.\n",
      "Try using .loc[row_indexer,col_indexer] = value instead\n",
      "\n",
      "See the caveats in the documentation: https://pandas.pydata.org/pandas-docs/stable/user_guide/indexing.html#returning-a-view-versus-a-copy\n",
      "  prod_engg_data['SubCluster'] = sub_cluster_labels\n"
     ]
    }
   ],
   "source": [
    "prod_engg_data['Prediction'] = predicted_labels\n",
    "prod_engg_data['SubCluster'] = sub_cluster_labels"
   ]
  },
  {
   "cell_type": "markdown",
   "id": "ff7c0f06",
   "metadata": {},
   "source": [
    "***\n",
    "#### Convert the converted numbered cycle labels back to their original form and store it\n",
    "We convert the predicted labels back to the main cluster names in the following block.\n",
    "The cluster names are stored back in the pandas dataframe under the same column \"Prediction\""
   ]
  },
  {
   "cell_type": "code",
   "execution_count": 84,
   "id": "97eb5322",
   "metadata": {},
   "outputs": [
    {
     "name": "stderr",
     "output_type": "stream",
     "text": [
      "C:\\Users\\Chaitali Bagwe\\AppData\\Local\\Temp\\ipykernel_13844\\3125527286.py:2: SettingWithCopyWarning: \n",
      "A value is trying to be set on a copy of a slice from a DataFrame.\n",
      "Try using .loc[row_indexer,col_indexer] = value instead\n",
      "\n",
      "See the caveats in the documentation: https://pandas.pydata.org/pandas-docs/stable/user_guide/indexing.html#returning-a-view-versus-a-copy\n",
      "  prod_engg_data[\"Prediction\"] = prod_engg_data[\"Prediction\"].map(dict)\n"
     ]
    }
   ],
   "source": [
    "dict = {0: \"Strategic Product Planning\", 1: \"Product Development\", 3: \"Production System Development\"}\n",
    "prod_engg_data[\"Prediction\"] = prod_engg_data[\"Prediction\"].map(dict) "
   ]
  },
  {
   "cell_type": "markdown",
   "id": "40896947",
   "metadata": {},
   "source": [
    "***\n",
    "#### Storing the data into new dataframe and in excel file\n",
    "\n",
    "The following code stores the prod_engg_data dataframe with columns \"Company\", \"Title\", \"Label\", \"Prediction\", \"SubCluster\", and \"Link\" into new pandas dataframe called product_engg_companies.\n",
    "\n",
    "This newly created dataframe is then used to store the data in an excel file name \"Old_ProductEngineering_Companies.xlsx\""
   ]
  },
  {
   "cell_type": "code",
   "execution_count": 86,
   "id": "bf80f288",
   "metadata": {},
   "outputs": [],
   "source": [
    "product_engg_companies = prod_engg_data[['Company','Title','label','Prediction', 'SubCluster','Link']]"
   ]
  },
  {
   "cell_type": "code",
   "execution_count": 88,
   "id": "7bca9fc6",
   "metadata": {},
   "outputs": [],
   "source": [
    "product_engg_companies.to_excel('Old_ProductEngineering_Companies.xlsx')"
   ]
  },
  {
   "cell_type": "markdown",
   "id": "a64f6438",
   "metadata": {},
   "source": [
    "***\n",
    "### Store the companies with their main clusters and sub clusters in the database\n",
    "\n",
    "We store essential data of each AI product creation company in the PostgreSQL database for better readability. We store this essential data in a new table named ProdCreation_Companies in the same __postgres__ database. We store the company's name, its product, the main cluster it belongs to, the sub-cluster it belongs to, and the link to its website.\n",
    "\n",
    "#### Database Connection"
   ]
  },
  {
   "cell_type": "code",
   "execution_count": 89,
   "id": "a78711c9",
   "metadata": {},
   "outputs": [
    {
     "name": "stdout",
     "output_type": "stream",
     "text": [
      "Connection established to:  ('PostgreSQL 15.0, compiled by Visual C++ build 1914, 64-bit',)\n"
     ]
    }
   ],
   "source": [
    "#establishing the connection\n",
    "conn = psycopg2.connect(\n",
    "   database=\"postgres\", user='postgres', password='Chaitali@28', host='127.0.0.1', port= '5432'\n",
    ")\n",
    "\n",
    "conn.autocommit = True\n",
    "\n",
    "#Creating a cursor object using the cursor() method\n",
    "cursor = conn.cursor()\n",
    "\n",
    "#Executing an MYSQL function using the execute() method\n",
    "cursor.execute(\"select version()\")\n",
    "\n",
    "# Fetch a single row using fetchone() method.\n",
    "data = cursor.fetchone()\n",
    "print(\"Connection established to: \",data)"
   ]
  },
  {
   "cell_type": "markdown",
   "id": "f63c7bc8",
   "metadata": {},
   "source": [
    "***\n",
    "#### Inserting the data into database"
   ]
  },
  {
   "cell_type": "code",
   "execution_count": 90,
   "id": "952cdeb5",
   "metadata": {},
   "outputs": [],
   "source": [
    "for index in prod_engg_data.index:\n",
    "    cols  = \"COMPANY_NAME\", \"PRODUCT\", \"COMPANY_CLUSTER\", \"COMPANY_SUBCLUSTER\", \"COMPANY_LINK\"\n",
    "    columns = ['Company','Title','Prediction', 'SubCluster','Link']\n",
    "    vals  = [prod_engg_data.at[index,col] for col in columns]\n",
    "    query = \"INSERT INTO PRODCREATION_COMPANIES(COMPANY_NAME,PRODUCT,COMPANY_CLUSTER,COMPANY_SUBCLUSTER,COMPANY_LINK) VALUES('%s', '%s', '%s', '%s', '%s')\" % (vals[0], vals[1], vals[2], vals[3], vals[4])\n",
    "    try:\n",
    "        cursor.execute(query)\n",
    "    except Exception as e:\n",
    "        print(e)"
   ]
  },
  {
   "cell_type": "markdown",
   "id": "e2a2641e",
   "metadata": {},
   "source": [
    "***\n",
    "#### Closing the Database Connection"
   ]
  },
  {
   "cell_type": "code",
   "execution_count": 91,
   "id": "128cc708",
   "metadata": {},
   "outputs": [],
   "source": [
    "#Close the connection\n",
    "cursor.close()\n",
    "conn.close()"
   ]
  },
  {
   "cell_type": "code",
   "execution_count": null,
   "id": "24385a97",
   "metadata": {},
   "outputs": [],
   "source": []
  }
 ],
 "metadata": {
  "kernelspec": {
   "display_name": "Python 3 (ipykernel)",
   "language": "python",
   "name": "python3"
  },
  "language_info": {
   "codemirror_mode": {
    "name": "ipython",
    "version": 3
   },
   "file_extension": ".py",
   "mimetype": "text/x-python",
   "name": "python",
   "nbconvert_exporter": "python",
   "pygments_lexer": "ipython3",
   "version": "3.8.9"
  }
 },
 "nbformat": 4,
 "nbformat_minor": 5
}
