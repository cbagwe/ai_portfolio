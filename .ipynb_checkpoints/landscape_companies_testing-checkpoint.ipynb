{
 "cells": [
  {
   "cell_type": "code",
   "execution_count": 78,
   "id": "4ccbee2b",
   "metadata": {},
   "outputs": [],
   "source": [
    "import pandas as pd\n",
    "from selenium import webdriver\n",
    "from data_processing import clean_text, read_url_content, get_cleaned_webdata\n",
    "from data_extraction import extract_keywords, extraction_on_cleaned_webdata"
   ]
  },
  {
   "cell_type": "code",
   "execution_count": 71,
   "id": "945844aa",
   "metadata": {},
   "outputs": [],
   "source": [
    "landscape_df = pd.DataFrame(columns=['Company', 'Link'])\n",
    "\n",
    "company_name = []\n",
    "company_link = []"
   ]
  },
  {
   "cell_type": "code",
   "execution_count": 72,
   "id": "6284baa8",
   "metadata": {},
   "outputs": [],
   "source": [
    "browser = webdriver.Chrome()\n",
    "browser.implicitly_wait(10)\n",
    "\n",
    "browser.get(\"https://www.ai-startups-europe.eu/\")\n",
    "browser.find_element_by_xpath('//*[@id=\"uc-btn-accept-banner\"]').click()\n",
    "\n",
    "elements = browser.find_elements_by_class_name(\"startupWebsite\")\n",
    "\n",
    "for element in elements:\n",
    "    company_name.append(element.text)\n",
    "    company_link.append(element.get_attribute(\"href\"))\n",
    "\n",
    "browser.quit()"
   ]
  },
  {
   "cell_type": "code",
   "execution_count": 73,
   "id": "4f68b9e1",
   "metadata": {},
   "outputs": [],
   "source": [
    "landscape_df[\"Company\"] = company_name\n",
    "landscape_df[\"Link\"] = company_link"
   ]
  },
  {
   "cell_type": "code",
   "execution_count": 74,
   "id": "cbd0c960",
   "metadata": {},
   "outputs": [],
   "source": [
    "landscape_df[\"WebData\"] = get_cleaned_webdata(landscape_df)"
   ]
  },
  {
   "cell_type": "code",
   "execution_count": 75,
   "id": "bc323ddf",
   "metadata": {},
   "outputs": [
    {
     "data": {
      "text/html": [
       "<div>\n",
       "<style scoped>\n",
       "    .dataframe tbody tr th:only-of-type {\n",
       "        vertical-align: middle;\n",
       "    }\n",
       "\n",
       "    .dataframe tbody tr th {\n",
       "        vertical-align: top;\n",
       "    }\n",
       "\n",
       "    .dataframe thead th {\n",
       "        text-align: right;\n",
       "    }\n",
       "</style>\n",
       "<table border=\"1\" class=\"dataframe\">\n",
       "  <thead>\n",
       "    <tr style=\"text-align: right;\">\n",
       "      <th></th>\n",
       "      <th>Company</th>\n",
       "      <th>Link</th>\n",
       "      <th>WebData</th>\n",
       "    </tr>\n",
       "  </thead>\n",
       "  <tbody>\n",
       "    <tr>\n",
       "      <th>0</th>\n",
       "      <td>PandionAI</td>\n",
       "      <td>https://pandionai.com/</td>\n",
       "      <td>offers career let help secure need timely info...</td>\n",
       "    </tr>\n",
       "    <tr>\n",
       "      <th>1</th>\n",
       "      <td>Taigatech AB</td>\n",
       "      <td>https://www.taigatech.se/</td>\n",
       "      <td>page product news bring ai sawmills taigatech ...</td>\n",
       "    </tr>\n",
       "    <tr>\n",
       "      <th>2</th>\n",
       "      <td>WSK Medical</td>\n",
       "      <td>https://www.wskmedical.org/</td>\n",
       "      <td>ai solutions early cancer detection wsk medica...</td>\n",
       "    </tr>\n",
       "    <tr>\n",
       "      <th>3</th>\n",
       "      <td>Aiosyn</td>\n",
       "      <td>https://www.aiosyn.com/</td>\n",
       "      <td>achieve perspective aiosyn solutions overview ...</td>\n",
       "    </tr>\n",
       "    <tr>\n",
       "      <th>4</th>\n",
       "      <td>Bolesian</td>\n",
       "      <td>https://www.bolesian.ai/</td>\n",
       "      <td>bolesian use cases task want automate securely...</td>\n",
       "    </tr>\n",
       "    <tr>\n",
       "      <th>...</th>\n",
       "      <td>...</td>\n",
       "      <td>...</td>\n",
       "      <td>...</td>\n",
       "    </tr>\n",
       "    <tr>\n",
       "      <th>93</th>\n",
       "      <td>Moonshop</td>\n",
       "      <td>https://www.moonshoptechnologies.com/</td>\n",
       "      <td></td>\n",
       "    </tr>\n",
       "    <tr>\n",
       "      <th>94</th>\n",
       "      <td>Studio</td>\n",
       "      <td>https://www.studioautomated.com/</td>\n",
       "      <td>studio automated connect world automated sport...</td>\n",
       "    </tr>\n",
       "    <tr>\n",
       "      <th>95</th>\n",
       "      <td>Prolody</td>\n",
       "      <td>https://www.prolody.com/</td>\n",
       "      <td>prolody skip content prolody services open men...</td>\n",
       "    </tr>\n",
       "    <tr>\n",
       "      <th>96</th>\n",
       "      <td>Sarvai Ab</td>\n",
       "      <td>https://www.sarvai.com/</td>\n",
       "      <td>neural refinery top pagethis site designed com...</td>\n",
       "    </tr>\n",
       "    <tr>\n",
       "      <th>97</th>\n",
       "      <td>Green AI Cloud</td>\n",
       "      <td>https://greenai.cloud/</td>\n",
       "      <td>green ai ecosystem connected co positive compu...</td>\n",
       "    </tr>\n",
       "  </tbody>\n",
       "</table>\n",
       "<p>98 rows × 3 columns</p>\n",
       "</div>"
      ],
      "text/plain": [
       "           Company                                   Link  \\\n",
       "0        PandionAI                 https://pandionai.com/   \n",
       "1     Taigatech AB              https://www.taigatech.se/   \n",
       "2      WSK Medical            https://www.wskmedical.org/   \n",
       "3           Aiosyn                https://www.aiosyn.com/   \n",
       "4         Bolesian               https://www.bolesian.ai/   \n",
       "..             ...                                    ...   \n",
       "93        Moonshop  https://www.moonshoptechnologies.com/   \n",
       "94          Studio       https://www.studioautomated.com/   \n",
       "95         Prolody               https://www.prolody.com/   \n",
       "96       Sarvai Ab                https://www.sarvai.com/   \n",
       "97  Green AI Cloud                 https://greenai.cloud/   \n",
       "\n",
       "                                              WebData  \n",
       "0   offers career let help secure need timely info...  \n",
       "1   page product news bring ai sawmills taigatech ...  \n",
       "2   ai solutions early cancer detection wsk medica...  \n",
       "3   achieve perspective aiosyn solutions overview ...  \n",
       "4   bolesian use cases task want automate securely...  \n",
       "..                                                ...  \n",
       "93                                                     \n",
       "94  studio automated connect world automated sport...  \n",
       "95  prolody skip content prolody services open men...  \n",
       "96  neural refinery top pagethis site designed com...  \n",
       "97  green ai ecosystem connected co positive compu...  \n",
       "\n",
       "[98 rows x 3 columns]"
      ]
     },
     "execution_count": 75,
     "metadata": {},
     "output_type": "execute_result"
    }
   ],
   "source": [
    "landscape_df"
   ]
  },
  {
   "cell_type": "code",
   "execution_count": null,
   "id": "e82e6472",
   "metadata": {},
   "outputs": [],
   "source": [
    "extraction_on_cleaned_webdata(landscape_df, \"keywords\")"
   ]
  },
  {
   "cell_type": "code",
   "execution_count": null,
   "id": "7bacb12b",
   "metadata": {},
   "outputs": [],
   "source": [
    "landscape_df"
   ]
  },
  {
   "cell_type": "code",
   "execution_count": null,
   "id": "8f6e52ac",
   "metadata": {},
   "outputs": [],
   "source": [
    "pickled_model = pickle.load(open('finalized_model.sav', 'rb'))\n",
    "pickled_vectorizer = pickle.load(open('vectorizer.sav', 'rb'))"
   ]
  },
  {
   "cell_type": "code",
   "execution_count": null,
   "id": "2a9aed9f",
   "metadata": {},
   "outputs": [],
   "source": [
    "test_input = pickled_vectorizer.transform(landscape_df[\"Keywords\"]).toarray().tolist()\n",
    "prediction = pickled_model.predict(test_input)\n",
    "print(prediction)"
   ]
  },
  {
   "cell_type": "code",
   "execution_count": null,
   "id": "7f73e019",
   "metadata": {},
   "outputs": [],
   "source": [
    "landscape_df[\"Prediction\"] = prediction"
   ]
  },
  {
   "cell_type": "code",
   "execution_count": null,
   "id": "2ffe99e0",
   "metadata": {},
   "outputs": [],
   "source": [
    "landscape_df"
   ]
  },
  {
   "cell_type": "code",
   "execution_count": null,
   "id": "13db6f17",
   "metadata": {},
   "outputs": [],
   "source": []
  }
 ],
 "metadata": {
  "kernelspec": {
   "display_name": "Python 3 (ipykernel)",
   "language": "python",
   "name": "python3"
  },
  "language_info": {
   "codemirror_mode": {
    "name": "ipython",
    "version": 3
   },
   "file_extension": ".py",
   "mimetype": "text/x-python",
   "name": "python",
   "nbconvert_exporter": "python",
   "pygments_lexer": "ipython3",
   "version": "3.8.9"
  }
 },
 "nbformat": 4,
 "nbformat_minor": 5
}
