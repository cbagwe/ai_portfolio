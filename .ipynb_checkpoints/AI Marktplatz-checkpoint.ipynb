{
 "cells": [
  {
   "cell_type": "markdown",
   "id": "a2d14963",
   "metadata": {},
   "source": [
    "# Automatic identification and structuring of AI companies for product creation\n",
    "\n",
    "### Author: Chaitali Suhas Bagwe (cbagwe@mail.uni-paderborn.de)"
   ]
  },
  {
   "cell_type": "markdown",
   "id": "c98cecd7",
   "metadata": {},
   "source": [
    "***\n",
    "#### Install Necessary Libraries\n",
    "\n",
    "Remove the comment char '#' for installing the libraries"
   ]
  },
  {
   "cell_type": "code",
   "execution_count": 1,
   "id": "fa37aacf",
   "metadata": {},
   "outputs": [],
   "source": [
    "#!pip install requests\n",
    "#!pip install beautifulsoup4\n",
    "#!pip install psycopg2-binary\n",
    "#!pip install mysql-connector\n",
    "#!pip install mlflow\n",
    "#!pip install mlflow[pipelines]\n",
    "#!pip install mlflow[extras]\n",
    "#!pip install mlflow-skinny\n",
    "#!pip install wordcloud\n",
    "#!pip install pyLDAvis\n",
    "#!pip install translators\n",
    "#!pip install gensim==3.4.0\n",
    "#!pip install smart_open==1.9.0\n",
    "#!pip install tabulate"
   ]
  },
  {
   "cell_type": "code",
   "execution_count": 2,
   "id": "7665b708",
   "metadata": {},
   "outputs": [],
   "source": [
    "# # Install MLflow\n",
    "# !pip install mlflow\n",
    "\n",
    "# # Install MLflow with the experimental MLflow Pipelines component\n",
    "# !pip install mlflow[pipelines]  # for pip\n",
    "# !conda install -c conda-forge mlflow-pipelines  # for conda\n",
    "\n",
    "# # Install MLflow with extra ML libraries and 3rd-party tools\n",
    "# !pip install mlflow[extras]\n",
    "\n",
    "# # Install a lightweight version of MLflow\n",
    "# !pip install mlflow-skinny"
   ]
  },
  {
   "cell_type": "markdown",
   "id": "f7f4fda6",
   "metadata": {},
   "source": [
    "***\n",
    "#### Import Libraries"
   ]
  },
  {
   "cell_type": "code",
   "execution_count": 3,
   "id": "04adb2dc",
   "metadata": {},
   "outputs": [],
   "source": [
    "from bs4 import BeautifulSoup\n",
    "from deep_translator import GoogleTranslator\n",
    "from mlflow import log_metric, log_param, log_artifacts, start_run\n",
    "from nltk.corpus import stopwords\n",
    "from nltk.stem import PorterStemmer\n",
    "from nltk.stem import WordNetLemmatizer\n",
    "from nltk.tokenize import word_tokenize\n",
    "from sentence_transformers import SentenceTransformer\n",
    "from sklearn.ensemble import GradientBoostingClassifier, HistGradientBoostingClassifier, AdaBoostClassifier\n",
    "from sklearn.feature_extraction.text import TfidfVectorizer, CountVectorizer\n",
    "from sklearn.naive_bayes import GaussianNB\n",
    "from sklearn.metrics.pairwise import cosine_similarity\n",
    "from sklearn import svm,metrics\n",
    "from tabulate import tabulate\n",
    "from urllib.request import Request, urlopen\n",
    "from wordcloud import WordCloud\n",
    "\n",
    "\n",
    "import gensim\n",
    "import gensim.corpora as corpora\n",
    "import matplotlib.pyplot as plt\n",
    "import mysql.connector\n",
    "import numpy as np\n",
    "import pandas as pd\n",
    "import pickle\n",
    "import psycopg2\n",
    "import pyLDAvis\n",
    "import pyLDAvis.gensim_models\n",
    "import random\n",
    "import re\n",
    "import requests\n",
    "import yake\n",
    "\n",
    "%matplotlib inline"
   ]
  },
  {
   "cell_type": "markdown",
   "id": "25903492",
   "metadata": {},
   "source": [
    "***\n",
    "#### Read the data from the Excel File\n",
    "In this block we read the data from excel file to the pandas dataframe and change the column name of \"Relevance of service/app and fit to the portfolio\" to \"Relevance\" for better readability/extraction. Since we are only interested in product engineering companies we will mark the \"1 - product engineering\" as \"1\" and others as \"0\". This makes the classification problem into binary classification."
   ]
  },
  {
   "cell_type": "code",
   "execution_count": 4,
   "id": "a3ce50dc",
   "metadata": {
    "scrolled": false
   },
   "outputs": [
    {
     "name": "stderr",
     "output_type": "stream",
     "text": [
      "c:\\users\\chaitali bagwe\\appdata\\local\\programs\\python\\python38\\lib\\site-packages\\openpyxl\\worksheet\\_reader.py:312: UserWarning: Data Validation extension is not supported and will be removed\n",
      "  warn(msg)\n"
     ]
    }
   ],
   "source": [
    "#Read the input Excel file\n",
    "dataset = pd.read_excel('NewCompaniesList.xlsx', sheet_name='New_Companies')\n",
    "\n",
    "#Change column names\n",
    "dataset.rename(columns = {'Relevance of service/app and fit to the portfolio':'Relevance'}, inplace = True)\n",
    "dataset.rename(columns = {'Product/Service-Title':'Title'}, inplace = True)\n",
    "dataset.rename(columns = {'Product engineering (cycles)':'Cycles'}, inplace = True)\n",
    "\n",
    "\n",
    "dataset = dataset[dataset.Relevance != \"3- AI general\"]\n",
    "\n",
    "#Change Relevance values\n",
    "dataset.Relevance.replace('1 - product engineering',1, inplace = True)\n",
    "dataset.Relevance.replace('2 - production',0, inplace = True)\n",
    "# dataset.Relevance.replace('3- AI general',0, inplace = True)\n",
    "dataset.Relevance.replace('4 - cross sectional processes',0, inplace = True)\n",
    "dataset.Relevance.replace('5 - not relevant',0, inplace = True)"
   ]
  },
  {
   "cell_type": "markdown",
   "id": "fddaa311",
   "metadata": {},
   "source": [
    "***\n",
    "### Text Preprocessing\n",
    "\n",
    "#### 1) Setting up stop-words and stemmer\n",
    "Stop Words : Removing commonly used english stop words like *and*, *the*, *a*, *an*, etc. We have also removed the words that are not useful for us in the context of websites. These include the words from header and footer of the websites, dropdown menu words of the websites, terms and conditions, etc.\n",
    "\n",
    "Stemmer : Reducing the word to its word stem; *extraction* -> *extract*"
   ]
  },
  {
   "cell_type": "code",
   "execution_count": 5,
   "id": "bf1e9e49",
   "metadata": {},
   "outputs": [],
   "source": [
    "stemmer = PorterStemmer()\n",
    "lemmatizer = WordNetLemmatizer()\n",
    "\n",
    "stop_words = stopwords.words(\"english\")\n",
    "# Add custom stop words (frequently occuring but add no value)\n",
    "stop_words += ['about', 'us', 'contact', 'how','login', 'hello','email','home','blog','terms','conditions',\n",
    "               'jobs','openings','careers','privacy','policy','legal','imprint','demo','support','team',\n",
    "              'conditions']"
   ]
  },
  {
   "cell_type": "markdown",
   "id": "4967916f",
   "metadata": {},
   "source": [
    "***\n",
    "#### 2) Clean Text Function\n",
    "\n",
    "This function cleans the text received by the variable \"text\". Cleaning includes removal of stopwords, white spaces, html tags, numbers, special characters and punctuations. This function also tokenizes the text sent to it and performs stemming on each word."
   ]
  },
  {
   "cell_type": "code",
   "execution_count": 6,
   "id": "ea24ebdf",
   "metadata": {},
   "outputs": [],
   "source": [
    "def clean_text(text):\n",
    "    \n",
    "    # remove white spaces, html tags, numbers, special characters, punctuations\n",
    "    RE_WSPACE = re.compile(r\"\\s+\", re.IGNORECASE)\n",
    "    RE_TAGS = re.compile(r\"<[^>]+>\")\n",
    "    RE_ASCII = re.compile(r\"[^A-Za-zÀ-ž ]\", re.IGNORECASE)\n",
    "    RE_SINGLECHAR = re.compile(r\"\\b[A-Za-zÀ-ž]\\b\", re.IGNORECASE)\n",
    "\n",
    "    text = re.sub(RE_TAGS, \" \", text)\n",
    "    text = re.sub(RE_ASCII, \" \", text)\n",
    "    text = re.sub(RE_SINGLECHAR, \" \", text)\n",
    "    text = re.sub(RE_WSPACE, \" \", text)\n",
    "\n",
    "    word_tokens = word_tokenize(text)\n",
    "    words_tokens_lower = [word.lower() for word in word_tokens]\n",
    "\n",
    "    # perform stemming on each word\n",
    "    words_filtered = [\n",
    "        #stemmer.stem(word) \n",
    "        #lemmatizer.lemmatize(word)\n",
    "        word for word in words_tokens_lower if word not in stop_words\n",
    "    ]\n",
    "\n",
    "    text_clean = \" \".join(words_filtered)\n",
    "    return text_clean"
   ]
  },
  {
   "cell_type": "markdown",
   "id": "ae4dcc32",
   "metadata": {},
   "source": [
    "***\n",
    "#### 3) Initialize the keyword extractor from Yake library"
   ]
  },
  {
   "cell_type": "code",
   "execution_count": 7,
   "id": "14727ea4",
   "metadata": {},
   "outputs": [],
   "source": [
    "max_ngram_size = 1\n",
    "deduplication_threshold = 0.9\n",
    "num_of_keywords = 130\n",
    "window_size = 1\n",
    "\n",
    "kw_extractor = yake.KeywordExtractor(n=max_ngram_size, dedupLim=deduplication_threshold, top=num_of_keywords, windowsSize=window_size)"
   ]
  },
  {
   "cell_type": "markdown",
   "id": "a95b65c8",
   "metadata": {},
   "source": [
    "***\n",
    "### Miscellaneous Functions\n",
    "\n",
    "#### 1) Read Content from URL of the company\n",
    "\n",
    "BeautifulSoup library is used for the extraction of content from the given URL. Additionally, the footer attributes and the website's cookies attributes are removed in this function."
   ]
  },
  {
   "cell_type": "code",
   "execution_count": 8,
   "id": "b3ab2981",
   "metadata": {},
   "outputs": [],
   "source": [
    "def read_url_content(page):\n",
    "    # read the content\n",
    "    soup = BeautifulSoup(page.content, \"html.parser\")\n",
    "    \n",
    "    # remove the website cookies content\n",
    "    for div in soup.find_all('div', attrs={'data-nosnippet' : 'true'}):\n",
    "        div.decompose()\n",
    "        \n",
    "    # remove footer\n",
    "    for footer in soup.find_all('footer'):\n",
    "        footer.decompose()\n",
    "        \n",
    "    # translate the content to English  \n",
    "    translator = GoogleTranslator(source='auto', target='en')\n",
    "    translated_text = translator.translate(soup.text[:4999])\n",
    "        \n",
    "    # return the cleaned content\n",
    "    return clean_text(translated_text)"
   ]
  },
  {
   "cell_type": "markdown",
   "id": "4fcee12d",
   "metadata": {},
   "source": [
    "***\n",
    "#### 2) Parse the required contents from the dataframe.\n",
    "This function reads the data from the dataframe and passes the URL of each company to the read_url_content() function. A try and catch block is added for checking if the URL is accessible or not."
   ]
  },
  {
   "cell_type": "code",
   "execution_count": 9,
   "id": "2088a560",
   "metadata": {},
   "outputs": [],
   "source": [
    "def get_cleaned_webdata(dataframe):\n",
    "    # create an empty list of page data\n",
    "    page_data = []\n",
    "    \n",
    "    for index, row in dataframe.iterrows():\n",
    "        URL = row[\"Link\"]\n",
    "        try:\n",
    "            # access the URL\n",
    "            headers = {'User-Agent': 'Mozilla/5.0 (Windows NT 6.1) AppleWebKit/537.36 (KHTML, like Gecko) Chrome/41.0.2228.0 Safari/537.36',}\n",
    "            page = requests.get(URL, headers = headers)\n",
    "            # append the URL content to the list\n",
    "            page_data.append(read_url_content(page))\n",
    "        except(ConnectionError, Exception):\n",
    "            # for websites not accessible append empty string to the list\n",
    "            page_data.append(\"\")\n",
    "    return page_data"
   ]
  },
  {
   "cell_type": "markdown",
   "id": "bfefe9c3",
   "metadata": {},
   "source": [
    "***\n",
    "#### 3) Metrics Function\n",
    "Calculates the metrics for the given actual and predicted datasets."
   ]
  },
  {
   "cell_type": "code",
   "execution_count": 10,
   "id": "bb270557",
   "metadata": {},
   "outputs": [],
   "source": [
    "def print_statistics(actual, predicted):\n",
    "    avg = 'weighted'\n",
    "    print(\"Accuracy:\",metrics.accuracy_score(actual, predicted))\n",
    "    print(\"Precision:\",metrics.precision_score(actual, predicted, average=avg))\n",
    "    print(\"Recall:\",metrics.recall_score(actual, predicted, average=avg))\n",
    "    print(\"F1 score:\",metrics.f1_score(actual, predicted, average=avg))"
   ]
  },
  {
   "cell_type": "markdown",
   "id": "a026589a",
   "metadata": {},
   "source": [
    "***\n",
    "#### 4) Extract Keywords Function"
   ]
  },
  {
   "cell_type": "code",
   "execution_count": 11,
   "id": "05a3ce91",
   "metadata": {},
   "outputs": [],
   "source": [
    "def extract_keywords(string):\n",
    "    keywords = kw_extractor.extract_keywords(string)\n",
    "    keywords = [x for (x,_) in keywords]\n",
    "    return \" \".join(keywords)"
   ]
  },
  {
   "cell_type": "markdown",
   "id": "12b37d9b",
   "metadata": {},
   "source": [
    "***\n",
    "#### 5) Extract Topics from websites"
   ]
  },
  {
   "cell_type": "code",
   "execution_count": 12,
   "id": "e4f75c3d",
   "metadata": {},
   "outputs": [],
   "source": [
    "def extract_topics(long_string):\n",
    "    num_topics = 300\n",
    "    # Create Dictionary\n",
    "    id2word = corpora.Dictionary([long_string.split()])\n",
    "    # Create Corpus\n",
    "    texts = [long_string.split()]\n",
    "    # Term Document Frequency\n",
    "    corpus = [id2word.doc2bow(text) for text in texts]\n",
    "    try:\n",
    "        lda_model = gensim.models.LdaMulticore(corpus=corpus,\n",
    "                                       id2word=id2word,\n",
    "                                       num_topics=num_topics)\n",
    "        x=lda_model.show_topics(num_topics=1, num_words=300,formatted=False)\n",
    "        topics_words = [(tp[0], [wd[0] for wd in tp[1]]) for tp in x]\n",
    "\n",
    "        #Below Code returns Only Words \n",
    "        for topic,words in topics_words:\n",
    "            return \" \".join(words)\n",
    "    except Exception as e:\n",
    "        print(e)\n",
    "        return \"\""
   ]
  },
  {
   "cell_type": "markdown",
   "id": "b09b9559",
   "metadata": {},
   "source": [
    "***\n",
    "#### Create Wordcloud"
   ]
  },
  {
   "cell_type": "code",
   "execution_count": 13,
   "id": "3276ed2e",
   "metadata": {},
   "outputs": [],
   "source": [
    "def create_wordcloud(long_string):\n",
    "    # Create a WordCloud object\n",
    "    wordcloud = WordCloud(background_color=\"white\", max_words=5000, contour_width=3, contour_color='steelblue')\n",
    "    # Generate a word cloud\n",
    "    wordcloud.generate(long_string)\n",
    "    # Visualize the word cloud\n",
    "    return wordcloud.to_image()"
   ]
  },
  {
   "cell_type": "markdown",
   "id": "19dbd28d",
   "metadata": {},
   "source": [
    "***\n",
    "#### Get clean data for all the websites"
   ]
  },
  {
   "cell_type": "code",
   "execution_count": 14,
   "id": "540142f7",
   "metadata": {},
   "outputs": [
    {
     "data": {
      "text/plain": [
       "0      solution zero vision next generation visual qu...\n",
       "1      machine monitoring signals products products m...\n",
       "2      machine monitoring signals products products m...\n",
       "3      page found signals products products machine m...\n",
       "4      hemistereo nx world powerful ai enabled stereo...\n",
       "                             ...                        \n",
       "469                                                     \n",
       "470                                                     \n",
       "471                                                     \n",
       "472                                                     \n",
       "473                                                     \n",
       "Name: WebData, Length: 374, dtype: object"
      ]
     },
     "execution_count": 14,
     "metadata": {},
     "output_type": "execute_result"
    }
   ],
   "source": [
    "dataset[\"WebData\"] = get_cleaned_webdata(dataset)\n",
    "dataset[\"WebData\"]"
   ]
  },
  {
   "cell_type": "markdown",
   "id": "7b0f5e75",
   "metadata": {},
   "source": [
    "***\n",
    "#### Database Connection"
   ]
  },
  {
   "cell_type": "code",
   "execution_count": null,
   "id": "92d21475",
   "metadata": {},
   "outputs": [],
   "source": [
    "#establishing the connection\n",
    "conn = psycopg2.connect(\n",
    "   database=\"postgres\", user='postgres', password='Chaitali@28', host='127.0.0.1', port= '5432'\n",
    ")\n",
    "\n",
    "conn.autocommit = True\n",
    "\n",
    "#Creating a cursor object using the cursor() method\n",
    "cursor = conn.cursor()\n",
    "\n",
    "#Executing an MYSQL function using the execute() method\n",
    "cursor.execute(\"select version()\")\n",
    "\n",
    "# Fetch a single row using fetchone() method.\n",
    "data = cursor.fetchone()\n",
    "print(\"Connection established to: \",data)"
   ]
  },
  {
   "cell_type": "markdown",
   "id": "08d92f02",
   "metadata": {},
   "source": [
    "***\n",
    "#### Inserting the data into database"
   ]
  },
  {
   "cell_type": "code",
   "execution_count": null,
   "id": "fdca2523",
   "metadata": {},
   "outputs": [],
   "source": [
    "for index in dataset.index:\n",
    "    cols  = \"COMPANY_NAME\", \"PRODUCT\", \"WEBDATA\", \"RELEVANCE\", \"CATEGORY\"\n",
    "    columns = ['Company','Title','WebData','Relevance','Cycles']\n",
    "    vals  = [dataset.at[index,col] for col in columns]\n",
    "    query = \"INSERT INTO COMPANIES(COMPANY_NAME,PRODUCT,WEBDATA,RELEVANCE,CATEGORY) VALUES('%s','%s','%s',%s,'%s')\" % (vals[0], vals[1], vals[2],vals[3],vals[4])\n",
    "    try:\n",
    "        cursor.execute(query)\n",
    "    except Exception as e:\n",
    "        print(e)"
   ]
  },
  {
   "cell_type": "markdown",
   "id": "9e85d144",
   "metadata": {},
   "source": [
    "***\n",
    "#### Closing the Database Connection"
   ]
  },
  {
   "cell_type": "code",
   "execution_count": null,
   "id": "4c846229",
   "metadata": {},
   "outputs": [],
   "source": [
    "#Close the connection\n",
    "cursor.close()\n",
    "conn.close()"
   ]
  },
  {
   "cell_type": "markdown",
   "id": "804ef197",
   "metadata": {},
   "source": [
    "***\n",
    "#### Segregration of Test and Train data for our ML model\n",
    "The sampling helps us in having random and not fixed input to the model. We have used 60 samples of product engineering companies and 60 samples of other companies as our training dataset. Thus the size of training data is 120. For test data we have used random 20 samples from each type of companies. Thus the size of testing data is 40."
   ]
  },
  {
   "cell_type": "code",
   "execution_count": 15,
   "id": "d05abbc0",
   "metadata": {},
   "outputs": [],
   "source": [
    "# Segregrate the product engineering and other data from the dataset\n",
    "# query_1 = \"select * from companies where relevance = 1;\"\n",
    "# query_2 = \"select * from companies where relevance = 0;\"\n",
    "# try:\n",
    "#         cursor.execute(query_1)\n",
    "#         prod_engg_data = cursor.fetchall()\n",
    "#         cursor.execute(query_2)\n",
    "#         other_data = cursor.fetchall()\n",
    "# except Exception as e:\n",
    "#         print(e)\n",
    "prod_engg_data = dataset[dataset['Relevance'] == 1]\n",
    "other_data = dataset[dataset['Relevance'] == 0]\n",
    "\n",
    "# Generate train and test data by random sampling of product engineering and other data and then appending it together.\n",
    "# train_data = random.sample(prod_engg_data,60) + random.sample(other_data,60)\n",
    "# test_data = random.sample(prod_engg_data,20) + random.sample(other_data,20)\n",
    "\n",
    "train_data = prod_engg_data.sample(70).append(other_data.sample(70))\n",
    "test_data = prod_engg_data.sample(30).append(other_data.sample(30))"
   ]
  },
  {
   "cell_type": "markdown",
   "id": "68a770de",
   "metadata": {},
   "source": [
    "***\n",
    "#### Perform keyword extraction on the cleaned webdata "
   ]
  },
  {
   "cell_type": "code",
   "execution_count": 16,
   "id": "f0856137",
   "metadata": {},
   "outputs": [],
   "source": [
    "keywords = True\n",
    "if keywords:\n",
    "    train_data[\"Keywords\"] = train_data[\"WebData\"].apply(extract_keywords)\n",
    "    test_data[\"Keywords\"] = test_data[\"WebData\"].apply(extract_keywords)"
   ]
  },
  {
   "cell_type": "markdown",
   "id": "50f77a1e",
   "metadata": {},
   "source": [
    "***\n",
    "#### Perform topic modelling on the cleaned webdata"
   ]
  },
  {
   "cell_type": "code",
   "execution_count": 17,
   "id": "50925ed3",
   "metadata": {},
   "outputs": [],
   "source": [
    "topic_modelling = False\n",
    "if topic_modelling:\n",
    "    train_data[\"Topics\"] = train_data[\"WebData\"].apply(extract_topics)\n",
    "    test_data[\"Topics\"] = test_data[\"WebData\"].apply(extract_topics)"
   ]
  },
  {
   "cell_type": "markdown",
   "id": "8af5fa77",
   "metadata": {},
   "source": [
    "***\n",
    "#### Feature extraction using TF-IDF\n",
    "TF-IDF measures how relvant a word is when compared with the entire document."
   ]
  },
  {
   "cell_type": "code",
   "execution_count": 18,
   "id": "6987d905",
   "metadata": {},
   "outputs": [],
   "source": [
    "vector = \"tfidf\"\n",
    "if vector == \"tfidf\":\n",
    "    vectorizor = TfidfVectorizer()\n",
    "elif vector ==\"count\":\n",
    "    vectorizor = CountVectorizer()"
   ]
  },
  {
   "cell_type": "code",
   "execution_count": 19,
   "id": "9658a56c",
   "metadata": {},
   "outputs": [],
   "source": [
    "if keywords:\n",
    "    # Transform the train and test cleaned input keywords to tfidf vectors respectively\n",
    "    train_input = vectorizor.fit_transform(train_data[\"Keywords\"]).toarray().tolist()\n",
    "    test_input = vectorizor.transform(test_data[\"Keywords\"]).toarray().tolist()\n",
    "elif topic_modelling:\n",
    "    # Transform the train and test cleaned input Topics to tfidf vectors respectively\n",
    "    train_input = vectorizor.fit_transform(train_data[\"Topics\"]).toarray().tolist()\n",
    "    test_input = vectorizor.transform(test_data[\"Topics\"]).toarray().tolist()\n",
    "else:\n",
    "    # Transform the train and test cleaned input webdata to tfidf vectors respectively\n",
    "    train_input = vectorizor.fit_transform(train_data[\"WebData\"]).toarray().tolist()\n",
    "    test_input = vectorizor.transform(test_data['WebData']).toarray().tolist()"
   ]
  },
  {
   "cell_type": "code",
   "execution_count": 20,
   "id": "54c722d2",
   "metadata": {},
   "outputs": [],
   "source": [
    "# Convert the train and test output data to list.\n",
    "train_output = train_data['Relevance'].tolist()\n",
    "test_output = test_data['Relevance'].tolist()"
   ]
  },
  {
   "cell_type": "markdown",
   "id": "084f48f2",
   "metadata": {},
   "source": [
    "***\n",
    "#### SVM Classifier"
   ]
  },
  {
   "cell_type": "code",
   "execution_count": 21,
   "id": "eb64fb1a",
   "metadata": {},
   "outputs": [],
   "source": [
    "#Create a svm Classifier\n",
    "clf = svm.SVC(kernel='linear') # Linear Kernel\n",
    "\n",
    "#Train the model using the training sets\n",
    "clf.fit(train_input, train_output)\n",
    "\n",
    "#Predict the response for test dataset\n",
    "y_pred = clf.predict(test_input)"
   ]
  },
  {
   "cell_type": "code",
   "execution_count": 22,
   "id": "c1399786",
   "metadata": {},
   "outputs": [],
   "source": [
    "# save the model to disk\n",
    "filename = 'finalized_model.sav'\n",
    "pickle.dump(clf, open(filename, 'wb'))\n",
    "pickle.dump(vectorizor, open('vectorizer.sav', \"wb\"))"
   ]
  },
  {
   "cell_type": "markdown",
   "id": "a59aebaa",
   "metadata": {},
   "source": [
    "***\n",
    "#### Print the statistics for SVM Classifier"
   ]
  },
  {
   "cell_type": "code",
   "execution_count": 23,
   "id": "d73ad859",
   "metadata": {},
   "outputs": [
    {
     "name": "stdout",
     "output_type": "stream",
     "text": [
      "Accuracy: 0.8666666666666667\n",
      "Precision: 0.8683035714285715\n",
      "Recall: 0.8666666666666667\n",
      "F1 score: 0.8665183537263627\n"
     ]
    }
   ],
   "source": [
    "print_statistics(test_output,y_pred)"
   ]
  },
  {
   "cell_type": "code",
   "execution_count": 24,
   "id": "b5f72778",
   "metadata": {},
   "outputs": [
    {
     "data": {
      "image/png": "[encoded data removed]",
      "text/plain": [
       "<Figure size 640x480 with 2 Axes>"
      ]
     },
     "metadata": {},
     "output_type": "display_data"
    }
   ],
   "source": [
    "metrics.ConfusionMatrixDisplay.from_predictions(test_output,y_pred)\n",
    "plt.show()"
   ]
  },
  {
   "cell_type": "code",
   "execution_count": 25,
   "id": "0c1ca32e",
   "metadata": {},
   "outputs": [],
   "source": [
    "with start_run(run_name=\"svm_exp1\") as run:\n",
    "    avg = 'weighted'\n",
    "    log_metric(\"Accuracy\", metrics.accuracy_score(test_output, y_pred))  \n",
    "    log_metric(\"Precision\",metrics.precision_score(test_output, y_pred, average=avg))\n",
    "    log_metric(\"Recall\",metrics.recall_score(test_output, y_pred, average=avg))\n",
    "    log_metric(\"F1 score\",metrics.f1_score(test_output, y_pred, average=avg))\n",
    "    log_param(\"keywords\", keywords)\n",
    "    log_param(\"topic_modelling\", topic_modelling)"
   ]
  },
  {
   "cell_type": "markdown",
   "id": "5dcb4e28",
   "metadata": {},
   "source": [
    "***\n",
    "#### Naive Bayes Classifier"
   ]
  },
  {
   "cell_type": "code",
   "execution_count": 26,
   "id": "0dd542aa",
   "metadata": {},
   "outputs": [],
   "source": [
    "#Create a Gaussian Classifier\n",
    "model = GaussianNB()\n",
    "\n",
    "# Train the model using the training sets\n",
    "model.fit(train_input,train_output)\n",
    "\n",
    "#Predict Output\n",
    "predicted= model.predict(test_input)"
   ]
  },
  {
   "cell_type": "markdown",
   "id": "c6bacb94",
   "metadata": {},
   "source": [
    "***\n",
    "#### Print the statistics for Naive Bayes Classifier"
   ]
  },
  {
   "cell_type": "code",
   "execution_count": 27,
   "id": "50a2354b",
   "metadata": {},
   "outputs": [
    {
     "name": "stdout",
     "output_type": "stream",
     "text": [
      "Accuracy: 0.8666666666666667\n",
      "Precision: 0.8666666666666667\n",
      "Recall: 0.8666666666666667\n",
      "F1 score: 0.8666666666666667\n"
     ]
    }
   ],
   "source": [
    "print_statistics(test_output,predicted)"
   ]
  },
  {
   "cell_type": "code",
   "execution_count": 28,
   "id": "d4ad624b",
   "metadata": {},
   "outputs": [
    {
     "data": {
      "image/png": "[encoded data removed]",
      "text/plain": [
       "<Figure size 640x480 with 2 Axes>"
      ]
     },
     "metadata": {},
     "output_type": "display_data"
    }
   ],
   "source": [
    "metrics.ConfusionMatrixDisplay.from_predictions(test_output,predicted)\n",
    "plt.show()"
   ]
  },
  {
   "cell_type": "code",
   "execution_count": 29,
   "id": "3adeab4c",
   "metadata": {},
   "outputs": [],
   "source": [
    "with start_run(run_name=\"nb_exp1\") as run:\n",
    "    avg = 'weighted'\n",
    "    log_metric(\"Accuracy\", metrics.accuracy_score(test_output, predicted))  \n",
    "    log_metric(\"Precision\",metrics.precision_score(test_output, predicted, average=avg))\n",
    "    log_metric(\"Recall\",metrics.recall_score(test_output, predicted, average=avg))\n",
    "    log_metric(\"F1 score\",metrics.f1_score(test_output, predicted, average=avg))\n",
    "    log_param(\"keywords\", keywords)\n",
    "    log_param(\"topic_modelling\", topic_modelling)"
   ]
  },
  {
   "cell_type": "markdown",
   "id": "61a67419",
   "metadata": {},
   "source": [
    "***\n",
    "#### Gradient Boosting Classification"
   ]
  },
  {
   "cell_type": "code",
   "execution_count": 30,
   "id": "2674f329",
   "metadata": {},
   "outputs": [
    {
     "name": "stdout",
     "output_type": "stream",
     "text": [
      "Accuracy: 0.7333333333333333\n",
      "Precision: 0.7430555555555555\n",
      "Recall: 0.7333333333333333\n",
      "F1 score: 0.7306397306397308\n"
     ]
    }
   ],
   "source": [
    "clf = GradientBoostingClassifier()\n",
    "clf.fit(train_input, train_output)  \n",
    "y_pred = clf.predict(test_input)\n",
    "print_statistics(test_output,y_pred)"
   ]
  },
  {
   "cell_type": "code",
   "execution_count": 31,
   "id": "0c33ad04",
   "metadata": {},
   "outputs": [
    {
     "data": {
      "image/png": "[encoded data removed]",
      "text/plain": [
       "<Figure size 640x480 with 2 Axes>"
      ]
     },
     "metadata": {},
     "output_type": "display_data"
    }
   ],
   "source": [
    "metrics.ConfusionMatrixDisplay.from_predictions(test_output,y_pred)\n",
    "plt.show()"
   ]
  },
  {
   "cell_type": "code",
   "execution_count": 32,
   "id": "bed1513f",
   "metadata": {},
   "outputs": [],
   "source": [
    "with start_run(run_name=\"gradbc_exp1\") as run:\n",
    "    avg = 'weighted'\n",
    "    log_metric(\"Accuracy\", metrics.accuracy_score(test_output, y_pred))  \n",
    "    log_metric(\"Precision\",metrics.precision_score(test_output, y_pred, average=avg))\n",
    "    log_metric(\"Recall\",metrics.recall_score(test_output, y_pred, average=avg))\n",
    "    log_metric(\"F1 score\",metrics.f1_score(test_output, y_pred, average=avg))\n",
    "    log_param(\"keywords\", keywords)\n",
    "    log_param(\"topic_modelling\", topic_modelling)"
   ]
  },
  {
   "cell_type": "markdown",
   "id": "4e3b8666",
   "metadata": {},
   "source": [
    "****\n",
    "#### ADA Boost Classification"
   ]
  },
  {
   "cell_type": "code",
   "execution_count": 33,
   "id": "8c408f9d",
   "metadata": {},
   "outputs": [
    {
     "name": "stdout",
     "output_type": "stream",
     "text": [
      "Accuracy: 0.7666666666666667\n",
      "Precision: 0.7777777777777779\n",
      "Recall: 0.7666666666666667\n",
      "F1 score: 0.7643097643097643\n"
     ]
    }
   ],
   "source": [
    "clf = AdaBoostClassifier()\n",
    "clf.fit(train_input, train_output)  \n",
    "y_pred = clf.predict(test_input)\n",
    "print_statistics(test_output,y_pred)"
   ]
  },
  {
   "cell_type": "code",
   "execution_count": 34,
   "id": "068de022",
   "metadata": {},
   "outputs": [
    {
     "data": {
      "image/png": "[encoded data removed]",
      "text/plain": [
       "<Figure size 640x480 with 2 Axes>"
      ]
     },
     "metadata": {},
     "output_type": "display_data"
    }
   ],
   "source": [
    "metrics.ConfusionMatrixDisplay.from_predictions(test_output,y_pred)\n",
    "plt.show()"
   ]
  },
  {
   "cell_type": "code",
   "execution_count": 35,
   "id": "3c4e5d4a",
   "metadata": {},
   "outputs": [],
   "source": [
    "with start_run(run_name=\"ada_exp1\") as run:\n",
    "    avg = 'weighted'\n",
    "    log_metric(\"Accuracy\", metrics.accuracy_score(test_output, y_pred))  \n",
    "    log_metric(\"Precision\",metrics.precision_score(test_output, y_pred, average=avg))\n",
    "    log_metric(\"Recall\",metrics.recall_score(test_output, y_pred, average=avg))\n",
    "    log_metric(\"F1 score\",metrics.f1_score(test_output, y_pred, average=avg))\n",
    "    log_param(\"keywords\", keywords)\n",
    "    log_param(\"topic_modelling\", topic_modelling)"
   ]
  },
  {
   "cell_type": "markdown",
   "id": "66dae202",
   "metadata": {},
   "source": [
    "***\n",
    "#### Hist Gradient Boost Classification"
   ]
  },
  {
   "cell_type": "code",
   "execution_count": 36,
   "id": "57e0408c",
   "metadata": {},
   "outputs": [
    {
     "name": "stdout",
     "output_type": "stream",
     "text": [
      "Accuracy: 0.75\n",
      "Precision: 0.7525252525252526\n",
      "Recall: 0.75\n",
      "F1 score: 0.7493734335839598\n"
     ]
    }
   ],
   "source": [
    "clf = HistGradientBoostingClassifier()\n",
    "clf.fit(train_input, train_output)  \n",
    "y_pred = clf.predict(test_input)\n",
    "print_statistics(test_output,y_pred)"
   ]
  },
  {
   "cell_type": "code",
   "execution_count": 37,
   "id": "91fb8b5e",
   "metadata": {},
   "outputs": [],
   "source": [
    "with start_run(run_name=\"hist_exp1\") as run:\n",
    "    avg = 'weighted'\n",
    "    log_metric(\"Accuracy\", metrics.accuracy_score(test_output, y_pred))  \n",
    "    log_metric(\"Precision\",metrics.precision_score(test_output, y_pred, average=avg))\n",
    "    log_metric(\"Recall\",metrics.recall_score(test_output, y_pred, average=avg))\n",
    "    log_metric(\"F1 score\",metrics.f1_score(test_output, y_pred, average=avg))\n",
    "    log_param(\"keywords\", keywords)\n",
    "    log_param(\"topic_modelling\", topic_modelling)"
   ]
  },
  {
   "cell_type": "code",
   "execution_count": 38,
   "id": "fc4a655e",
   "metadata": {},
   "outputs": [
    {
     "data": {
      "image/png": "[encoded data removed]",
      "text/plain": [
       "<Figure size 640x480 with 2 Axes>"
      ]
     },
     "metadata": {},
     "output_type": "display_data"
    }
   ],
   "source": [
    "metrics.ConfusionMatrixDisplay.from_predictions(test_output,y_pred)\n",
    "plt.show()"
   ]
  },
  {
   "cell_type": "markdown",
   "id": "440efd0c",
   "metadata": {},
   "source": [
    "****\n",
    "#### Word Cloud generation"
   ]
  },
  {
   "cell_type": "code",
   "execution_count": null,
   "id": "824441c2",
   "metadata": {},
   "outputs": [],
   "source": [
    " # Join the different processed keywords together.\n",
    "long_string = ','.join(list(train_data['Topics'].values))\n",
    "create_wordcloud(long_string)"
   ]
  },
  {
   "cell_type": "code",
   "execution_count": null,
   "id": "b4df1e43",
   "metadata": {},
   "outputs": [],
   "source": [
    " # Join the different processed keywords together.\n",
    "prodCrec_data = train_data[train_data['Relevance'] == 1]\n",
    "prodCrec_string =  ','.join(list(prodCrec_data['Topics'].values))\n",
    "create_wordcloud(prodCrec_string)"
   ]
  },
  {
   "cell_type": "code",
   "execution_count": null,
   "id": "a115cf0a",
   "metadata": {},
   "outputs": [],
   "source": [
    " # Join the different processed keywords together.\n",
    "non_prodCrec_data = train_data[train_data['Relevance'] == 0]\n",
    "non_prodCrec_string =  ','.join(list(non_prodCrec_data['Topics'].values))\n",
    "create_wordcloud(non_prodCrec_string)"
   ]
  },
  {
   "cell_type": "markdown",
   "id": "707ce377",
   "metadata": {},
   "source": [
    "***\n",
    "#### Structuring of AI Companies in Product Creation"
   ]
  },
  {
   "cell_type": "code",
   "execution_count": 39,
   "id": "399916ec",
   "metadata": {},
   "outputs": [],
   "source": [
    "def lower_case(cycle):\n",
    "    if isinstance(cycle, str):\n",
    "        return cycle.lower()"
   ]
  },
  {
   "cell_type": "code",
   "execution_count": 40,
   "id": "33670b81",
   "metadata": {},
   "outputs": [],
   "source": [
    "def run_XGB_model(train_input, train_output, test_input):\n",
    "    clf = HistGradientBoostingClassifier()\n",
    "    clf.fit(train_input, train_output)  \n",
    "    pred = clf.predict(test_input)\n",
    "    return pred"
   ]
  },
  {
   "cell_type": "code",
   "execution_count": 41,
   "id": "4cc755a8",
   "metadata": {},
   "outputs": [],
   "source": [
    "def extract_possible_labels(data):\n",
    "    possible_labels = data.unique()\n",
    "\n",
    "    label_dict = {}\n",
    "    for index, possible_label in enumerate(possible_labels):\n",
    "        label_dict[possible_label] = index\n",
    "    return label_dict"
   ]
  },
  {
   "cell_type": "code",
   "execution_count": 42,
   "id": "c91036bc",
   "metadata": {},
   "outputs": [
    {
     "name": "stderr",
     "output_type": "stream",
     "text": [
      "C:\\Users\\Chaitali Bagwe\\AppData\\Local\\Temp\\ipykernel_18928\\411783719.py:1: SettingWithCopyWarning: \n",
      "A value is trying to be set on a copy of a slice from a DataFrame.\n",
      "Try using .loc[row_indexer,col_indexer] = value instead\n",
      "\n",
      "See the caveats in the documentation: https://pandas.pydata.org/pandas-docs/stable/user_guide/indexing.html#returning-a-view-versus-a-copy\n",
      "  prod_engg_data[\"Keywords\"] = prod_engg_data[\"WebData\"].apply(extract_keywords)\n"
     ]
    }
   ],
   "source": [
    "prod_engg_data[\"Keywords\"] = prod_engg_data[\"WebData\"].apply(extract_keywords)"
   ]
  },
  {
   "cell_type": "code",
   "execution_count": 44,
   "id": "e0e1b78a",
   "metadata": {},
   "outputs": [
    {
     "name": "stderr",
     "output_type": "stream",
     "text": [
      "C:\\Users\\Chaitali Bagwe\\AppData\\Local\\Temp\\ipykernel_18928\\2272540723.py:1: SettingWithCopyWarning: \n",
      "A value is trying to be set on a copy of a slice from a DataFrame.\n",
      "Try using .loc[row_indexer,col_indexer] = value instead\n",
      "\n",
      "See the caveats in the documentation: https://pandas.pydata.org/pandas-docs/stable/user_guide/indexing.html#returning-a-view-versus-a-copy\n",
      "  prod_engg_data['Cycles'] = prod_engg_data['Cycles'].apply(lower_case)\n"
     ]
    }
   ],
   "source": [
    "prod_engg_data['Cycles'] = prod_engg_data['Cycles'].apply(lower_case)"
   ]
  },
  {
   "cell_type": "code",
   "execution_count": 45,
   "id": "57d7761e",
   "metadata": {},
   "outputs": [
    {
     "name": "stderr",
     "output_type": "stream",
     "text": [
      "C:\\Users\\Chaitali Bagwe\\AppData\\Local\\Temp\\ipykernel_18928\\2413191083.py:2: SettingWithCopyWarning: \n",
      "A value is trying to be set on a copy of a slice from a DataFrame.\n",
      "Try using .loc[row_indexer,col_indexer] = value instead\n",
      "\n",
      "See the caveats in the documentation: https://pandas.pydata.org/pandas-docs/stable/user_guide/indexing.html#returning-a-view-versus-a-copy\n",
      "  prod_engg_data['label'] = prod_engg_data.Cycles.replace(prod_engg_data_dict)\n"
     ]
    }
   ],
   "source": [
    "prod_engg_data_dict = extract_possible_labels(prod_engg_data.Cycles)\n",
    "prod_engg_data['label'] = prod_engg_data.Cycles.replace(prod_engg_data_dict)"
   ]
  },
  {
   "cell_type": "code",
   "execution_count": 46,
   "id": "9ce3ec14",
   "metadata": {},
   "outputs": [
    {
     "data": {
      "text/plain": [
       "{'strategic product planning': 0,\n",
       " 'product development': 1,\n",
       " None: 2,\n",
       " 'production systems development': 3}"
      ]
     },
     "execution_count": 46,
     "metadata": {},
     "output_type": "execute_result"
    }
   ],
   "source": [
    "prod_engg_data_dict"
   ]
  },
  {
   "cell_type": "code",
   "execution_count": 47,
   "id": "9c09e31a",
   "metadata": {},
   "outputs": [],
   "source": [
    "cluster_train_data = prod_engg_data.head(70)\n",
    "cluster_test_data = prod_engg_data.tail(30)"
   ]
  },
  {
   "cell_type": "code",
   "execution_count": 48,
   "id": "0d1f2b25",
   "metadata": {},
   "outputs": [],
   "source": [
    "vectorizor = TfidfVectorizer()"
   ]
  },
  {
   "cell_type": "code",
   "execution_count": 49,
   "id": "5388a058",
   "metadata": {},
   "outputs": [],
   "source": [
    "# Transform the train and test cleaned input keywords to tfidf vectors respectively\n",
    "train_input = vectorizor.fit_transform(cluster_train_data[\"Keywords\"]).toarray().tolist()\n",
    "test_input = vectorizor.transform(cluster_test_data[\"Keywords\"]).toarray().tolist()"
   ]
  },
  {
   "cell_type": "code",
   "execution_count": 50,
   "id": "4e649b86",
   "metadata": {},
   "outputs": [],
   "source": [
    "train_output = cluster_train_data['label'].tolist()\n",
    "test_output = cluster_test_data['label'].tolist()"
   ]
  },
  {
   "cell_type": "code",
   "execution_count": 51,
   "id": "e6aa37ac",
   "metadata": {},
   "outputs": [],
   "source": [
    "test_subclass_predictions = run_XGB_model(train_input, train_output, test_input)"
   ]
  },
  {
   "cell_type": "code",
   "execution_count": 52,
   "id": "58cef082",
   "metadata": {},
   "outputs": [
    {
     "name": "stdout",
     "output_type": "stream",
     "text": [
      "Accuracy: 0.8\n",
      "Precision: 0.8133333333333332\n",
      "Recall: 0.8\n",
      "F1 score: 0.7882352941176471\n"
     ]
    },
    {
     "name": "stderr",
     "output_type": "stream",
     "text": [
      "c:\\users\\chaitali bagwe\\appdata\\local\\programs\\python\\python38\\lib\\site-packages\\sklearn\\metrics\\_classification.py:1334: UndefinedMetricWarning: Precision is ill-defined and being set to 0.0 in labels with no predicted samples. Use `zero_division` parameter to control this behavior.\n",
      "  _warn_prf(average, modifier, msg_start, len(result))\n"
     ]
    }
   ],
   "source": [
    "print_statistics(test_output,test_subclass_predictions)"
   ]
  },
  {
   "cell_type": "code",
   "execution_count": 53,
   "id": "5ae2685c",
   "metadata": {},
   "outputs": [
    {
     "data": {
      "image/png": "[encoded data removed]",
      "text/plain": [
       "<Figure size 640x480 with 2 Axes>"
      ]
     },
     "metadata": {},
     "output_type": "display_data"
    }
   ],
   "source": [
    "metrics.ConfusionMatrixDisplay.from_predictions(test_output,test_subclass_predictions)\n",
    "plt.show()"
   ]
  },
  {
   "cell_type": "markdown",
   "id": "ce9348c6",
   "metadata": {},
   "source": [
    "***\n",
    "#### Clustering Method"
   ]
  },
  {
   "cell_type": "code",
   "execution_count": 54,
   "id": "5165bef2",
   "metadata": {},
   "outputs": [],
   "source": [
    "# Cluster keywords\n",
    "\n",
    "strategic_product_planning = [\"Patent Analysis, Customer analysis, customer data analysis, strategic data analysis,\" \n",
    "                              \"market analysis, competitor analysis,\"\n",
    "                             \"value chain, customer analysis, ideation,\"\n",
    "                             \"innovation, product monitoring, forecasting, company scouting,\"\n",
    "                             \"customer behaviour analysis, customer behavior analysis,\"\n",
    "                             \"product management, foresight, trend management,\"\n",
    "                             \"technology management, market analysis, idea generation, product generation,\"\n",
    "                             \"product release planning,\"\n",
    "                             \"trend scouting, technology scouting, technology and startup scouting, innovation management,\"\n",
    "                             \"environmental scanning, customer segmentation, innovation scanning\"]\n",
    "\n",
    "product_development = [\"Software testing, Product design, Simulation, material selection, product testing, systems engineering\"\n",
    "                       \"virtual product testing, electronic concept development, testing, Testing and validation, verfication and validation\"\n",
    "                       \"requirements, bill of material validation, requirements management, requirement management\"\n",
    "                       \"quality management, similarity search, Product Development, generative design,\"\n",
    "                       \"feasability testing, circuit board design, schematics design,\"\n",
    "                       \"Early validation, Anomaly detection and monitoring, product design algorithms, Data annotation\"\n",
    "                       \"Stakeholder requirements, Mechanical requirements, Electronic requirements,\"\n",
    "                       \"Software requirements, Product features, Product Integration, product specification\"]\n",
    "\n",
    "production_system_development = [\"Anomaly detection and monitoring, Production / manufacturing,\"\n",
    "                                 \"Production  system development, Production planning, Supply chain management,\"\n",
    "                                 \"material selection, quality management, factory planning, factory layout planning,\"\n",
    "                                 \"plan logistics, plan production system, production system architecture,\"\n",
    "                                 \"resource planning, workflow planning, material flow planning,\"\n",
    "                                 \"material flow optimization, material flow design, validate production system,\"\n",
    "                                 \"test production system, integrate production system, design of factories\"]"
   ]
  },
  {
   "cell_type": "code",
   "execution_count": 55,
   "id": "df42ba2d",
   "metadata": {},
   "outputs": [],
   "source": [
    "idea_generation = [\"ideation, innovation, idea generation, innovation management, identify unmet needs or gaps,\"\n",
    "                   \"input and feedback on current products, ideas for new products, Combining ideas,\"\n",
    "                   \"identify opportunities for new products or product improvements,  innovative product ideas,\"\n",
    "                   \"solutions in the form of new products, generate ideas, brainstorming, wide range of ideas,\"\n",
    "                   \"breakthrough inventions, Invention Platform, creation of inventions, process innovation,\"\n",
    "                   \"bring new products to market, new product discovery\"]\n",
    "\n",
    "customer_market_analysis = [\"Customer ( data ) analysis, market and competitor analysis, customer analysis,\"\n",
    "                            \"customer behaviour analysis, market analysis, environmental scanning, customer segmentation,\"\n",
    "                            \"Patent Analysis\", \"examining the products and strategies of competitors\", \n",
    "                            \"identify opportunities and potential threats, tracking and analyzing current and emerging trends,\"\n",
    "                            \"identifying and understanding the needs and desires of potential customers,\"\n",
    "                            \"trend scouting, technology scouting, technology and startup scouting,\"\n",
    "                            \"Global network of technology scouts, Sample scouting, sourcing, product scouting,\"\n",
    "                            \"company scouting, innovation scanning, environmental scanning\"]\n",
    "\n",
    "product_manangement = [\"virtual product development, product monitoring, product management, trend management,\"\n",
    "                       \"technology management, value chain, foresight, forecasting, outlines vision,\"\n",
    "                       \"product strategy, product stages, product features, product functionality, product planning,\"\n",
    "                       \"feature description, Requirements gathering, product vision, Product management software,\"\n",
    "                       \"plan product progress\"]"
   ]
  },
  {
   "cell_type": "code",
   "execution_count": 56,
   "id": "1716d117",
   "metadata": {},
   "outputs": [],
   "source": [
    "testing = [\"Software testing, virtual product testing, testing, Testing and validation, feasability testing\"\n",
    "           \"Early validation, product testing, carry out trials on, put to the test, check, examine,\"\n",
    "           \"assess, evaluate, try out, investigate\"]\n",
    "\n",
    "product_design = [\"Product design, material selection, generative design, design of buildings, schematics design,\"\n",
    "                  \"circuit board design, product design algorithms, Product features, Product Integration\"]\n",
    "\n",
    "requirements_management = [\"requirements, bill of material validation, requirements management,\"\n",
    "                           \"quality management, similarity search, Stakeholder requirements, Mechanical requirements,\"\n",
    "                           \"Electronic requirements, Software requirements\"]"
   ]
  },
  {
   "cell_type": "code",
   "execution_count": 57,
   "id": "a44de592",
   "metadata": {},
   "outputs": [],
   "source": [
    "process_optimization = [\"Production / manufacturing, Production planning, Supply chain management, reduce waste,\"\n",
    "                        \"material selection, quality management, factory planning, factory layout planning,\"\n",
    "                        \"plan logistics, plan production system, production system architecture,\"\n",
    "                        \"resource planning, workflow planning, material flow planning, improve quality,\"\n",
    "                        \"material flow optimization, material flow design, Process improvement, increase efficiency\"]\n",
    "maintenance = [\"Anomaly detection and monitoring, validate production system, test production system,\"\n",
    "               \"integrate production system, Preventive maintenance, regular maintenance tasks,\"\n",
    "               \"inspections and repairs, prevent equipment failures, prevent breakdowns, Predictive maintenance\"\n",
    "               \"Maintenance management, maintenance of equipment, maintenance of facilities, creating maintenance tasks,\"\n",
    "               \"scheduling maintenance tasks, completing maintenance tasks, Root cause analysis,\"\n",
    "               \"managing the inventory of spare parts\"]"
   ]
  },
  {
   "cell_type": "code",
   "execution_count": 58,
   "id": "992a2b97",
   "metadata": {},
   "outputs": [],
   "source": [
    "strategic_product_planning_clean_text = clean_text(''.join(strategic_product_planning))\n",
    "product_development_clean_text = clean_text(''.join(product_development))\n",
    "production_system_development_clean_text = clean_text(''.join(production_system_development))"
   ]
  },
  {
   "cell_type": "code",
   "execution_count": 59,
   "id": "383eb388",
   "metadata": {},
   "outputs": [],
   "source": [
    "idea_generation_clean_text = clean_text(''.join(idea_generation))\n",
    "customer_market_analysis_clean_text = clean_text(''.join(customer_market_analysis))\n",
    "product_manangement_clean_text = clean_text(''.join(product_manangement))"
   ]
  },
  {
   "cell_type": "code",
   "execution_count": 60,
   "id": "0de10757",
   "metadata": {},
   "outputs": [],
   "source": [
    "testing_clean_text = clean_text(''.join(testing))\n",
    "product_design_clean_text = clean_text(''.join(product_design))\n",
    "requirements_management_clean_text = clean_text(''.join(requirements_management))"
   ]
  },
  {
   "cell_type": "code",
   "execution_count": 61,
   "id": "5d552908",
   "metadata": {},
   "outputs": [],
   "source": [
    "process_optimization_clean_text = clean_text(''.join(process_optimization))\n",
    "maintenance_clean_text = clean_text(''.join(maintenance))"
   ]
  },
  {
   "cell_type": "code",
   "execution_count": 62,
   "id": "93d34784",
   "metadata": {},
   "outputs": [],
   "source": [
    "#initialize the model\n",
    "#model = SentenceTransformer('bert-base-nli-mean-tokens')\n",
    "model = SentenceTransformer('all-MiniLM-L6-v2')\n",
    "\n",
    "#encode main cluster sentences\n",
    "strategic_product_planning_embeddings = model.encode(strategic_product_planning_clean_text)\n",
    "product_development_embeddings = model.encode(product_development_clean_text)\n",
    "production_system_development_embeddings = model.encode(production_system_development_clean_text)\n",
    "\n",
    "# encode sub cluster strategy product planning \n",
    "idea_generation_embeddings = model.encode(idea_generation_clean_text)\n",
    "customer_market_analysis_embeddings = model.encode(customer_market_analysis_clean_text)\n",
    "product_manangement_embeddings = model.encode(product_manangement_clean_text)\n",
    "\n",
    "# encode sub cluster product development\n",
    "testing_embeddings = model.encode(testing_clean_text)\n",
    "product_design_embeddings = model.encode(product_design_clean_text)\n",
    "requirements_management_embeddings = model.encode(requirements_management_clean_text)\n",
    "\n",
    "# encode sub cluster production system development\n",
    "process_optimization_embeddings = model.encode(process_optimization_clean_text)\n",
    "maintenance_embeddings = model.encode(maintenance_clean_text)"
   ]
  },
  {
   "cell_type": "code",
   "execution_count": 63,
   "id": "bb778b4a",
   "metadata": {},
   "outputs": [],
   "source": [
    "# save the main clusters embeddings to disk\n",
    "pickle.dump(strategic_product_planning_embeddings, open('spp_embeddings.sav', 'wb'))\n",
    "pickle.dump(product_development_embeddings, open('pd_embeddings.sav', \"wb\"))\n",
    "pickle.dump(production_system_development_embeddings, open('psd_embeddings.sav', \"wb\"))\n",
    "\n",
    "# save the sub cluster strategy product planning embeddings to disk\n",
    "pickle.dump(idea_generation_embeddings, open('idea_generation_embeddings.sav', 'wb'))\n",
    "pickle.dump(customer_market_analysis_embeddings, open('customer_market_analysis_embeddings.sav', \"wb\"))\n",
    "pickle.dump(product_manangement_embeddings, open('product_manangement_embeddings.sav', \"wb\"))\n",
    "\n",
    "# save the sub cluster product development embeddings to disk\n",
    "pickle.dump(testing_embeddings, open('testing_embeddings.sav', 'wb'))\n",
    "pickle.dump(product_design_embeddings, open('product_design_embeddings.sav', \"wb\"))\n",
    "pickle.dump(requirements_management_embeddings, open('requirements_management_embeddings.sav', \"wb\"))\n",
    "\n",
    "# save the sub cluster production system development embeddings to disk\n",
    "pickle.dump(process_optimization_embeddings, open('process_optimization_embeddings.sav', 'wb'))\n",
    "pickle.dump(maintenance_embeddings, open('maintenance_embeddings.sav', \"wb\"))"
   ]
  },
  {
   "cell_type": "code",
   "execution_count": 64,
   "id": "1e2d7b64",
   "metadata": {},
   "outputs": [],
   "source": [
    "def find_cosine_sim(vector1,vector2):\n",
    "    return(cosine_similarity(vector1.reshape(1, -1),vector2.reshape(1, -1))[0][0])"
   ]
  },
  {
   "cell_type": "code",
   "execution_count": 65,
   "id": "f939dc5c",
   "metadata": {},
   "outputs": [],
   "source": [
    "def cycle_result(list1):\n",
    "    maximum = max(list1)\n",
    "    return list1.index(maximum)"
   ]
  },
  {
   "cell_type": "code",
   "execution_count": 78,
   "id": "f7bd33f1",
   "metadata": {},
   "outputs": [],
   "source": [
    "predicted_labels = []\n",
    "sub_cluster_labels = []\n",
    "\n",
    "sub_cluster0 = [\"Idea Generation\", \"Customer Market Analysis\", \"Product Manangement\"]\n",
    "sub_cluster1 = [\"Testing\", \"Product Design\", \"Requirements Management\"]\n",
    "sub_cluster3 = [\"Process Optimization\", \"Maintenance\"]"
   ]
  },
  {
   "cell_type": "code",
   "execution_count": 79,
   "id": "b143d0a0",
   "metadata": {},
   "outputs": [],
   "source": [
    "for index, row in prod_engg_data.iterrows():\n",
    "    data_emebeddings = model.encode(row[\"Keywords\"])\n",
    "    list1=[ find_cosine_sim(strategic_product_planning_embeddings, data_emebeddings),\n",
    "            find_cosine_sim(product_development_embeddings, data_emebeddings),\n",
    "            find_cosine_sim(production_system_development_embeddings, data_emebeddings)]\n",
    "    main_cluster = cycle_result(list1)\n",
    "    \n",
    "    if main_cluster == 0:\n",
    "        list2 = [find_cosine_sim(idea_generation_embeddings, data_emebeddings),\n",
    "            find_cosine_sim(customer_market_analysis_embeddings, data_emebeddings),\n",
    "            find_cosine_sim(product_manangement_embeddings, data_emebeddings)]\n",
    "        sub_cluster = sub_cluster0[cycle_result(list2)]\n",
    "    elif main_cluster == 1:\n",
    "        list2 = [find_cosine_sim(testing_embeddings, data_emebeddings),\n",
    "            find_cosine_sim(product_design_embeddings, data_emebeddings),\n",
    "            find_cosine_sim(requirements_management_embeddings, data_emebeddings)]\n",
    "        sub_cluster = sub_cluster1[cycle_result(list2)]\n",
    "    elif main_cluster == 2:\n",
    "        list2 = [find_cosine_sim(process_optimization_embeddings, data_emebeddings),\n",
    "            find_cosine_sim(maintenance_embeddings, data_emebeddings)]\n",
    "        sub_cluster = sub_cluster3[cycle_result(list2)]\n",
    "            \n",
    "    predicted_labels.append(main_cluster)\n",
    "    sub_cluster_labels.append(sub_cluster)    "
   ]
  },
  {
   "cell_type": "code",
   "execution_count": 83,
   "id": "f94361fe",
   "metadata": {},
   "outputs": [
    {
     "name": "stderr",
     "output_type": "stream",
     "text": [
      "C:\\Users\\Chaitali Bagwe\\AppData\\Local\\Temp\\ipykernel_18928\\202165456.py:1: SettingWithCopyWarning: \n",
      "A value is trying to be set on a copy of a slice from a DataFrame.\n",
      "Try using .loc[row_indexer,col_indexer] = value instead\n",
      "\n",
      "See the caveats in the documentation: https://pandas.pydata.org/pandas-docs/stable/user_guide/indexing.html#returning-a-view-versus-a-copy\n",
      "  prod_engg_data['Prediction'] = predicted_labels\n",
      "C:\\Users\\Chaitali Bagwe\\AppData\\Local\\Temp\\ipykernel_18928\\202165456.py:2: SettingWithCopyWarning: \n",
      "A value is trying to be set on a copy of a slice from a DataFrame.\n",
      "Try using .loc[row_indexer,col_indexer] = value instead\n",
      "\n",
      "See the caveats in the documentation: https://pandas.pydata.org/pandas-docs/stable/user_guide/indexing.html#returning-a-view-versus-a-copy\n",
      "  prod_engg_data['SubCluster'] = sub_cluster_labels\n"
     ]
    }
   ],
   "source": [
    "prod_engg_data['Prediction'] = predicted_labels\n",
    "prod_engg_data['SubCluster'] = sub_cluster_labels"
   ]
  },
  {
   "cell_type": "code",
   "execution_count": 84,
   "id": "97eb5322",
   "metadata": {},
   "outputs": [
    {
     "name": "stderr",
     "output_type": "stream",
     "text": [
      "C:\\Users\\Chaitali Bagwe\\AppData\\Local\\Temp\\ipykernel_18928\\3086747079.py:2: SettingWithCopyWarning: \n",
      "A value is trying to be set on a copy of a slice from a DataFrame.\n",
      "Try using .loc[row_indexer,col_indexer] = value instead\n",
      "\n",
      "See the caveats in the documentation: https://pandas.pydata.org/pandas-docs/stable/user_guide/indexing.html#returning-a-view-versus-a-copy\n",
      "  prod_engg_data[\"Prediction\"] = prod_engg_data[\"Prediction\"].map(dict)\n"
     ]
    }
   ],
   "source": [
    "dict = {0: \"Strategic Product Planning\", 1: \"Product Development\", 2: \"Production System Development\"}\n",
    "prod_engg_data[\"Prediction\"] = prod_engg_data[\"Prediction\"].map(dict) "
   ]
  },
  {
   "cell_type": "code",
   "execution_count": 85,
   "id": "bf80f288",
   "metadata": {},
   "outputs": [
    {
     "data": {
      "text/html": [
       "<div>\n",
       "<style scoped>\n",
       "    .dataframe tbody tr th:only-of-type {\n",
       "        vertical-align: middle;\n",
       "    }\n",
       "\n",
       "    .dataframe tbody tr th {\n",
       "        vertical-align: top;\n",
       "    }\n",
       "\n",
       "    .dataframe thead th {\n",
       "        text-align: right;\n",
       "    }\n",
       "</style>\n",
       "<table border=\"1\" class=\"dataframe\">\n",
       "  <thead>\n",
       "    <tr style=\"text-align: right;\">\n",
       "      <th></th>\n",
       "      <th>Company</th>\n",
       "      <th>Title</th>\n",
       "      <th>label</th>\n",
       "      <th>Prediction</th>\n",
       "      <th>SubCluster</th>\n",
       "      <th>Link</th>\n",
       "    </tr>\n",
       "  </thead>\n",
       "  <tbody>\n",
       "    <tr>\n",
       "      <th>6</th>\n",
       "      <td>4strat</td>\n",
       "      <td>Foresight Strategy Cockpit</td>\n",
       "      <td>0</td>\n",
       "      <td>Strategic Product Planning</td>\n",
       "      <td>Customer Market Analysis</td>\n",
       "      <td>https://www.4strat.com/strategy-foresight-serv...</td>\n",
       "    </tr>\n",
       "    <tr>\n",
       "      <th>13</th>\n",
       "      <td>AGENTS.inc</td>\n",
       "      <td>AI Agents</td>\n",
       "      <td>0</td>\n",
       "      <td>Strategic Product Planning</td>\n",
       "      <td>Customer Market Analysis</td>\n",
       "      <td>https://www.agents.inc/</td>\n",
       "    </tr>\n",
       "    <tr>\n",
       "      <th>14</th>\n",
       "      <td>AI patents</td>\n",
       "      <td>AI Patents</td>\n",
       "      <td>0</td>\n",
       "      <td>Strategic Product Planning</td>\n",
       "      <td>Customer Market Analysis</td>\n",
       "      <td>https://www.aipatents.com/</td>\n",
       "    </tr>\n",
       "    <tr>\n",
       "      <th>25</th>\n",
       "      <td>Altair Engineering Inc.</td>\n",
       "      <td>Design AI</td>\n",
       "      <td>1</td>\n",
       "      <td>Product Development</td>\n",
       "      <td>Product Design</td>\n",
       "      <td>https://www.altair.com/designai/</td>\n",
       "    </tr>\n",
       "    <tr>\n",
       "      <th>26</th>\n",
       "      <td>Altair Engineering Inc.</td>\n",
       "      <td>Design Explorer</td>\n",
       "      <td>1</td>\n",
       "      <td>Product Development</td>\n",
       "      <td>Requirements Management</td>\n",
       "      <td>https://www.altair.com/ai-powered-design/\\n\\nh...</td>\n",
       "    </tr>\n",
       "    <tr>\n",
       "      <th>...</th>\n",
       "      <td>...</td>\n",
       "      <td>...</td>\n",
       "      <td>...</td>\n",
       "      <td>...</td>\n",
       "      <td>...</td>\n",
       "      <td>...</td>\n",
       "    </tr>\n",
       "    <tr>\n",
       "      <th>459</th>\n",
       "      <td>Planbox, Inc.</td>\n",
       "      <td>Planbox Platform</td>\n",
       "      <td>0</td>\n",
       "      <td>Strategic Product Planning</td>\n",
       "      <td>Customer Market Analysis</td>\n",
       "      <td>https://www.planbox.com/solutions/</td>\n",
       "    </tr>\n",
       "    <tr>\n",
       "      <th>460</th>\n",
       "      <td>Quant IP GmbH</td>\n",
       "      <td>Quant IP Patent Rating</td>\n",
       "      <td>0</td>\n",
       "      <td>Strategic Product Planning</td>\n",
       "      <td>Customer Market Analysis</td>\n",
       "      <td>https://quant-ip.com/patent-rating-en/</td>\n",
       "    </tr>\n",
       "    <tr>\n",
       "      <th>461</th>\n",
       "      <td>Quant IP GmbH</td>\n",
       "      <td>Competitive Technology Reports</td>\n",
       "      <td>0</td>\n",
       "      <td>Strategic Product Planning</td>\n",
       "      <td>Customer Market Analysis</td>\n",
       "      <td>https://quant-ip.com/competitive-technology-be...</td>\n",
       "    </tr>\n",
       "    <tr>\n",
       "      <th>462</th>\n",
       "      <td>Mergeflow</td>\n",
       "      <td>Mergeflow</td>\n",
       "      <td>0</td>\n",
       "      <td>Strategic Product Planning</td>\n",
       "      <td>Idea Generation</td>\n",
       "      <td>https://mergeflow.com/product</td>\n",
       "    </tr>\n",
       "    <tr>\n",
       "      <th>463</th>\n",
       "      <td>Fraunhofer INT</td>\n",
       "      <td>KATI</td>\n",
       "      <td>0</td>\n",
       "      <td>Strategic Product Planning</td>\n",
       "      <td>Customer Market Analysis</td>\n",
       "      <td>https://www.int.fraunhofer.de/de/geschaeftsfel...</td>\n",
       "    </tr>\n",
       "  </tbody>\n",
       "</table>\n",
       "<p>101 rows × 6 columns</p>\n",
       "</div>"
      ],
      "text/plain": [
       "                     Company                           Title  label  \\\n",
       "6                     4strat      Foresight Strategy Cockpit      0   \n",
       "13                AGENTS.inc                       AI Agents      0   \n",
       "14                AI patents                      AI Patents      0   \n",
       "25   Altair Engineering Inc.                       Design AI      1   \n",
       "26   Altair Engineering Inc.                 Design Explorer      1   \n",
       "..                       ...                             ...    ...   \n",
       "459            Planbox, Inc.                Planbox Platform      0   \n",
       "460            Quant IP GmbH          Quant IP Patent Rating      0   \n",
       "461            Quant IP GmbH  Competitive Technology Reports      0   \n",
       "462                Mergeflow                       Mergeflow      0   \n",
       "463           Fraunhofer INT                            KATI      0   \n",
       "\n",
       "                     Prediction                SubCluster  \\\n",
       "6    Strategic Product Planning  Customer Market Analysis   \n",
       "13   Strategic Product Planning  Customer Market Analysis   \n",
       "14   Strategic Product Planning  Customer Market Analysis   \n",
       "25          Product Development            Product Design   \n",
       "26          Product Development   Requirements Management   \n",
       "..                          ...                       ...   \n",
       "459  Strategic Product Planning  Customer Market Analysis   \n",
       "460  Strategic Product Planning  Customer Market Analysis   \n",
       "461  Strategic Product Planning  Customer Market Analysis   \n",
       "462  Strategic Product Planning           Idea Generation   \n",
       "463  Strategic Product Planning  Customer Market Analysis   \n",
       "\n",
       "                                                  Link  \n",
       "6    https://www.4strat.com/strategy-foresight-serv...  \n",
       "13                             https://www.agents.inc/  \n",
       "14                          https://www.aipatents.com/  \n",
       "25                    https://www.altair.com/designai/  \n",
       "26   https://www.altair.com/ai-powered-design/\\n\\nh...  \n",
       "..                                                 ...  \n",
       "459                 https://www.planbox.com/solutions/  \n",
       "460             https://quant-ip.com/patent-rating-en/  \n",
       "461  https://quant-ip.com/competitive-technology-be...  \n",
       "462                      https://mergeflow.com/product  \n",
       "463  https://www.int.fraunhofer.de/de/geschaeftsfel...  \n",
       "\n",
       "[101 rows x 6 columns]"
      ]
     },
     "execution_count": 85,
     "metadata": {},
     "output_type": "execute_result"
    }
   ],
   "source": [
    "prod_engg_data[['Company','Title','label','Prediction', 'SubCluster','Link']]"
   ]
  },
  {
   "cell_type": "markdown",
   "id": "a64f6438",
   "metadata": {},
   "source": [
    "***\n",
    "#### Database Connection"
   ]
  },
  {
   "cell_type": "code",
   "execution_count": 91,
   "id": "a78711c9",
   "metadata": {},
   "outputs": [
    {
     "name": "stdout",
     "output_type": "stream",
     "text": [
      "Connection established to:  ('PostgreSQL 15.0, compiled by Visual C++ build 1914, 64-bit',)\n"
     ]
    }
   ],
   "source": [
    "#establishing the connection\n",
    "conn = psycopg2.connect(\n",
    "   database=\"postgres\", user='postgres', password='Chaitali@28', host='127.0.0.1', port= '5432'\n",
    ")\n",
    "\n",
    "conn.autocommit = True\n",
    "\n",
    "#Creating a cursor object using the cursor() method\n",
    "cursor = conn.cursor()\n",
    "\n",
    "#Executing an MYSQL function using the execute() method\n",
    "cursor.execute(\"select version()\")\n",
    "\n",
    "# Fetch a single row using fetchone() method.\n",
    "data = cursor.fetchone()\n",
    "print(\"Connection established to: \",data)"
   ]
  },
  {
   "cell_type": "markdown",
   "id": "f63c7bc8",
   "metadata": {},
   "source": [
    "***\n",
    "#### Inserting the data into database"
   ]
  },
  {
   "cell_type": "code",
   "execution_count": 92,
   "id": "952cdeb5",
   "metadata": {},
   "outputs": [],
   "source": [
    "for index in prod_engg_data.index:\n",
    "    cols  = \"COMPANY_NAME\", \"PRODUCT\", \"COMPANY_CLUSTER\", \"COMPANY_SUBCLUSTER\", \"COMPANY_LINK\"\n",
    "    columns = ['Company','Title','Prediction', 'SubCluster','Link']\n",
    "    vals  = [prod_engg_data.at[index,col] for col in columns]\n",
    "    query = \"INSERT INTO PRODCREATION_COMPANIES(COMPANY_NAME,PRODUCT,COMPANY_CLUSTER,COMPANY_SUBCLUSTER,COMPANY_LINK) VALUES('%s', '%s', '%s', '%s', '%s')\" % (vals[0], vals[1], vals[2], vals[3], vals[4])\n",
    "    try:\n",
    "        cursor.execute(query)\n",
    "    except Exception as e:\n",
    "        print(e)"
   ]
  },
  {
   "cell_type": "markdown",
   "id": "e2a2641e",
   "metadata": {},
   "source": [
    "***\n",
    "#### Closing the Database Connection"
   ]
  },
  {
   "cell_type": "code",
   "execution_count": 93,
   "id": "128cc708",
   "metadata": {},
   "outputs": [],
   "source": [
    "#Close the connection\n",
    "cursor.close()\n",
    "conn.close()"
   ]
  },
  {
   "cell_type": "code",
   "execution_count": null,
   "id": "24385a97",
   "metadata": {},
   "outputs": [],
   "source": []
  }
 ],
 "metadata": {
  "kernelspec": {
   "display_name": "Python 3 (ipykernel)",
   "language": "python",
   "name": "python3"
  },
  "language_info": {
   "codemirror_mode": {
    "name": "ipython",
    "version": 3
   },
   "file_extension": ".py",
   "mimetype": "text/x-python",
   "name": "python",
   "nbconvert_exporter": "python",
   "pygments_lexer": "ipython3",
   "version": "3.8.9"
  }
 },
 "nbformat": 4,
 "nbformat_minor": 5
}
